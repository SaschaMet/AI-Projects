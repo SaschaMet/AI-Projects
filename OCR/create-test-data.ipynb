{
 "cells": [
  {
   "cell_type": "code",
   "execution_count": 39,
   "metadata": {},
   "outputs": [],
   "source": [
    "import random\n",
    "import pandas as pd\n",
    "from pprint import pprint\n",
    "\n",
    "from qdrant_client import QdrantClient, models"
   ]
  },
  {
   "cell_type": "code",
   "execution_count": 40,
   "metadata": {},
   "outputs": [],
   "source": [
    "client = QdrantClient(url=\"http://localhost:6333\")"
   ]
  },
  {
   "cell_type": "code",
   "execution_count": 41,
   "metadata": {},
   "outputs": [],
   "source": [
    "COLLECTION_NAME = \"OCR-TEST\""
   ]
  },
  {
   "cell_type": "code",
   "execution_count": null,
   "metadata": {},
   "outputs": [
    {
     "data": {
      "text/plain": [
       "True"
      ]
     },
     "execution_count": 42,
     "metadata": {},
     "output_type": "execute_result"
    }
   ],
   "source": [
    "exist = client.collection_exists(collection_name=COLLECTION_NAME)\n",
    "if exist:\n",
    "    print(\"Collection already exists. Deleting...\")\n",
    "    client.delete_collection(collection_name=COLLECTION_NAME)\n",
    "\n",
    "client.create_collection(\n",
    "    collection_name=COLLECTION_NAME,\n",
    "    vectors_config=models.VectorParams(size=100, distance=models.Distance.COSINE),\n",
    ")"
   ]
  },
  {
   "cell_type": "code",
   "execution_count": 43,
   "metadata": {},
   "outputs": [],
   "source": [
    "sample_data = [\n",
    "    {\"Type\": \"Product\", \"Name\": \"Fernseher Smart TV QLED 4K\", \"SKU\": \"123456\", \"Price\": 1000},\n",
    "    {\"Type\": \"Product\", \"Name\": \"Aufbauservice\", \"SKU\": \"123457\", \"Price\": 120},\n",
    "    {\"Type\": \"Product\", \"Name\": \"Farbe Weiß - 20L Eimer\", \"SKU\": \"1123\", \"Price\": 25.49},\n",
    "    {\"Type\": \"Product\", \"Name\": \"Streich-Service\", \"SKU\": \"1124\", \"Price\": 600},\n",
    "    {\"Type\": \"Order\", \"OrderID\": \"1234\", \"Products\": [\"123456\", \"123457\"], \"Total\": 1120},\n",
    "    {\"Type\": \"Order\", \"OrderID\": \"1235\", \"Products\": [\"123458\", \"123459\"], \"Total\": 625.49},\n",
    "]"
   ]
  },
  {
   "cell_type": "code",
   "execution_count": 44,
   "metadata": {},
   "outputs": [
    {
     "data": {
      "text/html": [
       "<div>\n",
       "<style scoped>\n",
       "    .dataframe tbody tr th:only-of-type {\n",
       "        vertical-align: middle;\n",
       "    }\n",
       "\n",
       "    .dataframe tbody tr th {\n",
       "        vertical-align: top;\n",
       "    }\n",
       "\n",
       "    .dataframe thead th {\n",
       "        text-align: right;\n",
       "    }\n",
       "</style>\n",
       "<table border=\"1\" class=\"dataframe\">\n",
       "  <thead>\n",
       "    <tr style=\"text-align: right;\">\n",
       "      <th></th>\n",
       "      <th>Type</th>\n",
       "      <th>Name</th>\n",
       "      <th>SKU</th>\n",
       "      <th>Price</th>\n",
       "      <th>OrderID</th>\n",
       "      <th>Products</th>\n",
       "      <th>Total</th>\n",
       "    </tr>\n",
       "  </thead>\n",
       "  <tbody>\n",
       "    <tr>\n",
       "      <th>0</th>\n",
       "      <td>Product</td>\n",
       "      <td>Fernseher Smart TV QLED 4K</td>\n",
       "      <td>123456</td>\n",
       "      <td>1000.00</td>\n",
       "      <td>NaN</td>\n",
       "      <td>NaN</td>\n",
       "      <td>NaN</td>\n",
       "    </tr>\n",
       "    <tr>\n",
       "      <th>1</th>\n",
       "      <td>Product</td>\n",
       "      <td>Aufbauservice</td>\n",
       "      <td>123457</td>\n",
       "      <td>120.00</td>\n",
       "      <td>NaN</td>\n",
       "      <td>NaN</td>\n",
       "      <td>NaN</td>\n",
       "    </tr>\n",
       "    <tr>\n",
       "      <th>2</th>\n",
       "      <td>Product</td>\n",
       "      <td>Farbe Weiß - 20L Eimer</td>\n",
       "      <td>1123</td>\n",
       "      <td>25.49</td>\n",
       "      <td>NaN</td>\n",
       "      <td>NaN</td>\n",
       "      <td>NaN</td>\n",
       "    </tr>\n",
       "    <tr>\n",
       "      <th>3</th>\n",
       "      <td>Product</td>\n",
       "      <td>Streich-Service</td>\n",
       "      <td>1124</td>\n",
       "      <td>600.00</td>\n",
       "      <td>NaN</td>\n",
       "      <td>NaN</td>\n",
       "      <td>NaN</td>\n",
       "    </tr>\n",
       "    <tr>\n",
       "      <th>4</th>\n",
       "      <td>Order</td>\n",
       "      <td>NaN</td>\n",
       "      <td>NaN</td>\n",
       "      <td>NaN</td>\n",
       "      <td>1234</td>\n",
       "      <td>[123456, 123457]</td>\n",
       "      <td>1120.0</td>\n",
       "    </tr>\n",
       "  </tbody>\n",
       "</table>\n",
       "</div>"
      ],
      "text/plain": [
       "      Type                        Name     SKU    Price OrderID  \\\n",
       "0  Product  Fernseher Smart TV QLED 4K  123456  1000.00     NaN   \n",
       "1  Product               Aufbauservice  123457   120.00     NaN   \n",
       "2  Product      Farbe Weiß - 20L Eimer    1123    25.49     NaN   \n",
       "3  Product             Streich-Service    1124   600.00     NaN   \n",
       "4    Order                         NaN     NaN      NaN    1234   \n",
       "\n",
       "           Products   Total  \n",
       "0               NaN     NaN  \n",
       "1               NaN     NaN  \n",
       "2               NaN     NaN  \n",
       "3               NaN     NaN  \n",
       "4  [123456, 123457]  1120.0  "
      ]
     },
     "execution_count": 44,
     "metadata": {},
     "output_type": "execute_result"
    }
   ],
   "source": [
    "df = pd.DataFrame(sample_data)\n",
    "\n",
    "df.head()"
   ]
  },
  {
   "cell_type": "code",
   "execution_count": 45,
   "metadata": {},
   "outputs": [],
   "source": [
    "# Inserting data into the collection\n",
    "points = []\n",
    "for i, row in df.iterrows():\n",
    "    point = models.PointStruct(\n",
    "        id=i,\n",
    "        payload=row.to_dict(),\n",
    "        vector=[random.random() for _ in range(100)],\n",
    "    )\n",
    "    points.append(point)"
   ]
  },
  {
   "cell_type": "code",
   "execution_count": 46,
   "metadata": {},
   "outputs": [
    {
     "data": {
      "text/plain": [
       "UpdateResult(operation_id=0, status=<UpdateStatus.COMPLETED: 'completed'>)"
      ]
     },
     "execution_count": 46,
     "metadata": {},
     "output_type": "execute_result"
    }
   ],
   "source": [
    "client.upsert(\n",
    "    collection_name=COLLECTION_NAME,\n",
    "    points=points,\n",
    ")"
   ]
  },
  {
   "cell_type": "code",
   "execution_count": 47,
   "metadata": {},
   "outputs": [
    {
     "name": "stdout",
     "output_type": "stream",
     "text": [
      "{'Name': 'Fernseher Smart TV QLED 4K',\n",
      " 'OrderID': None,\n",
      " 'Price': 1000.0,\n",
      " 'Products': None,\n",
      " 'SKU': '123456',\n",
      " 'Total': None,\n",
      " 'Type': 'Product'}\n"
     ]
    }
   ],
   "source": [
    "x = client.scroll(\n",
    "    collection_name=COLLECTION_NAME,\n",
    "    limit=10,\n",
    "    with_payload=True,\n",
    "    with_vectors=False,\n",
    ")\n",
    "\n",
    "pprint(x[0][0].payload)"
   ]
  },
  {
   "cell_type": "code",
   "execution_count": 48,
   "metadata": {},
   "outputs": [
    {
     "name": "stdout",
     "output_type": "stream",
     "text": [
      "[{'Name': 'Fernseher Smart TV QLED 4K',\n",
      "  'OrderID': None,\n",
      "  'Price': 1000.0,\n",
      "  'Products': None,\n",
      "  'SKU': '123456',\n",
      "  'Total': None,\n",
      "  'Type': 'Product'},\n",
      " {'Name': 'Aufbauservice',\n",
      "  'OrderID': None,\n",
      "  'Price': 120.0,\n",
      "  'Products': None,\n",
      "  'SKU': '123457',\n",
      "  'Total': None,\n",
      "  'Type': 'Product'},\n",
      " {'Name': 'Farbe Weiß - 20L Eimer',\n",
      "  'OrderID': None,\n",
      "  'Price': 25.49,\n",
      "  'Products': None,\n",
      "  'SKU': '1123',\n",
      "  'Total': None,\n",
      "  'Type': 'Product'},\n",
      " {'Name': 'Streich-Service',\n",
      "  'OrderID': None,\n",
      "  'Price': 600.0,\n",
      "  'Products': None,\n",
      "  'SKU': '1124',\n",
      "  'Total': None,\n",
      "  'Type': 'Product'},\n",
      " {'Name': None,\n",
      "  'OrderID': '1234',\n",
      "  'Price': None,\n",
      "  'Products': ['123456', '123457'],\n",
      "  'SKU': None,\n",
      "  'Total': 1120.0,\n",
      "  'Type': 'Order'},\n",
      " {'Name': None,\n",
      "  'OrderID': '1235',\n",
      "  'Price': None,\n",
      "  'Products': ['123458', '123459'],\n",
      "  'SKU': None,\n",
      "  'Total': 625.49,\n",
      "  'Type': 'Order'}]\n"
     ]
    }
   ],
   "source": [
    "results = []\n",
    "for point in x[0]:\n",
    "    results.append(point.payload)\n",
    "\n",
    "pprint(results)"
   ]
  },
  {
   "cell_type": "code",
   "execution_count": 49,
   "metadata": {},
   "outputs": [
    {
     "name": "stdout",
     "output_type": "stream",
     "text": [
      "[{'Name': 'Fernseher Smart TV QLED 4K',\n",
      "  'OrderID': None,\n",
      "  'Price': 1000.0,\n",
      "  'Products': None,\n",
      "  'SKU': '123456',\n",
      "  'Total': None,\n",
      "  'Type': 'Product'},\n",
      " {'Name': 'Aufbauservice',\n",
      "  'OrderID': None,\n",
      "  'Price': 120.0,\n",
      "  'Products': None,\n",
      "  'SKU': '123457',\n",
      "  'Total': None,\n",
      "  'Type': 'Product'},\n",
      " {'Name': 'Farbe Weiß - 20L Eimer',\n",
      "  'OrderID': None,\n",
      "  'Price': 25.49,\n",
      "  'Products': None,\n",
      "  'SKU': '1123',\n",
      "  'Total': None,\n",
      "  'Type': 'Product'},\n",
      " {'Name': 'Streich-Service',\n",
      "  'OrderID': None,\n",
      "  'Price': 600.0,\n",
      "  'Products': None,\n",
      "  'SKU': '1124',\n",
      "  'Total': None,\n",
      "  'Type': 'Product'}]\n"
     ]
    }
   ],
   "source": [
    "products = list(filter(lambda item: item['Type'] == 'Product', results))\n",
    "pprint(products)"
   ]
  },
  {
   "cell_type": "code",
   "execution_count": 50,
   "metadata": {},
   "outputs": [
    {
     "name": "stdout",
     "output_type": "stream",
     "text": [
      "[{'Name': None,\n",
      "  'OrderID': '1234',\n",
      "  'Price': None,\n",
      "  'Products': ['123456', '123457'],\n",
      "  'SKU': None,\n",
      "  'Total': 1120.0,\n",
      "  'Type': 'Order'},\n",
      " {'Name': None,\n",
      "  'OrderID': '1235',\n",
      "  'Price': None,\n",
      "  'Products': ['123458', '123459'],\n",
      "  'SKU': None,\n",
      "  'Total': 625.49,\n",
      "  'Type': 'Order'}]\n"
     ]
    }
   ],
   "source": [
    "orders = list(filter(lambda item: item[\"Type\"] == \"Order\", results))\n",
    "pprint(orders)"
   ]
  }
 ],
 "metadata": {
  "kernelspec": {
   "display_name": "Python 3",
   "language": "python",
   "name": "python3"
  },
  "language_info": {
   "codemirror_mode": {
    "name": "ipython",
    "version": 3
   },
   "file_extension": ".py",
   "mimetype": "text/x-python",
   "name": "python",
   "nbconvert_exporter": "python",
   "pygments_lexer": "ipython3",
   "version": "3.11.6"
  }
 },
 "nbformat": 4,
 "nbformat_minor": 2
}
