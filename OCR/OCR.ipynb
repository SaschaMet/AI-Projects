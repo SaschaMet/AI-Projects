{
 "cells": [
  {
   "cell_type": "markdown",
   "metadata": {},
   "source": [
    "# OCR with Docling & Pixtral"
   ]
  },
  {
   "cell_type": "markdown",
   "metadata": {},
   "source": [
    "### Todos\n",
    "\n",
    "- [ ] Add fake orders to qdrant based on one of the PDFs\n",
    "- [ ] Make sure the OCR works on the PDFs\n",
    "- [ ] Deploy a Web-Server + API which can take a PDF and return the results"
   ]
  },
  {
   "cell_type": "code",
   "execution_count": null,
   "metadata": {},
   "outputs": [],
   "source": [
    "# !pip install docling, pytesseract, pdf2image"
   ]
  },
  {
   "cell_type": "markdown",
   "metadata": {},
   "source": [
    "## Docling"
   ]
  },
  {
   "cell_type": "code",
   "execution_count": 1,
   "metadata": {},
   "outputs": [],
   "source": [
    "from docling.datamodel.base_models import InputFormat\n",
    "from docling.document_converter import DocumentConverter, PdfFormatOption\n",
    "from docling.datamodel.pipeline_options import (\n",
    "    PdfPipelineOptions,\n",
    ")\n",
    "\n",
    "import io\n",
    "import base64\n",
    "import pandas as pd\n",
    "import json\n",
    "\n",
    "from PIL import Image\n",
    "from openai import OpenAI\n",
    "\n",
    "from pdf2image import convert_from_path"
   ]
  },
  {
   "cell_type": "code",
   "execution_count": 2,
   "metadata": {},
   "outputs": [],
   "source": [
    "source = \"data/ab-4.pdf\""
   ]
  },
  {
   "cell_type": "code",
   "execution_count": 3,
   "metadata": {},
   "outputs": [],
   "source": [
    "pipeline_options = PdfPipelineOptions()\n",
    "pipeline_options.do_ocr = True\n",
    "pipeline_options.do_table_structure = True\n",
    "pipeline_options.table_structure_options.do_cell_matching = True\n",
    "\n",
    "\n",
    "# ocr_options = TesseractCliOcrOptions(force_full_page_ocr=True)\n",
    "# pipeline_options.ocr_options = ocr_options"
   ]
  },
  {
   "cell_type": "code",
   "execution_count": 4,
   "metadata": {},
   "outputs": [],
   "source": [
    "converter = DocumentConverter(\n",
    "    format_options={\n",
    "        InputFormat.PDF: PdfFormatOption(\n",
    "            pipeline_options=pipeline_options,\n",
    "        )\n",
    "    }\n",
    ")"
   ]
  },
  {
   "cell_type": "code",
   "execution_count": 5,
   "metadata": {},
   "outputs": [
    {
     "name": "stdout",
     "output_type": "stream",
     "text": [
      "Firmenname - Musterstraße 50 - 12345 Musterstadt\n",
      "\n",
      "Mustermann GmbH\n",
      "\n",
      "Herrn Max Mustermann Musterstraße 12 12345 Musterstadt\n",
      "\n",
      "## Auftragsbestätigung Nr. XXXXX\n",
      "\n",
      "Sehr geehrte Damen und Herren,\n",
      "\n",
      "wir bedanken uns für Ihren Auftrag. Gemäß unserem Angebot XXXXXX vom TT.MM.JJJJ erbringen wir im Einzelnen die folgenden Leistungen:\n",
      "\n",
      "| Pos.   | Menge    | Bezeichnung                       | Einzelpreis   | Gesamtpreis   |\n",
      "|--------|----------|-----------------------------------|---------------|---------------|\n",
      "| 1      | 1 Stk.   | Fernseher 40 Zoll | Musterartikel | 1000,00 EUR   | 1000,00 EUR   |\n",
      "| 2      | Pauschal | Anfahrt und Aufbau                | 120,00 EUR    | 120,00 EUR    |\n",
      "|        |          |                                   | Zwischensumme | 1120,00 EUR   |\n",
      "|        |          |                                   | 19% MwSt.     | 212,80 EUR    |\n",
      "|        |          |                                   | Gesamtbetrag  | 1332,80 EUR   |\n",
      "\n",
      "Sie haben noch Fragen? Sie erreichen uns täglich von XX.XX bis XX.XX unter (+49) 1234/98 76 54 oder per E-Mail mail@musterfirma.com.\n",
      "\n",
      "Wir freuen uns auf die Zusammenarbeit!\n",
      "\n",
      "Mit freundlichen Grüßen\n",
      "\n",
      "## Kontakt:\n",
      "\n",
      "Firmenname Musterstraße 50 12345 Musterstadt\n",
      "\n",
      "Tel: 0123 98765 43\n",
      "\n",
      "E-Mail: info@domain.de\n",
      "\n",
      "Web: www.domain.de\n",
      "\n",
      "Datum:\n",
      "\n",
      "XX.XX.XXXX\n",
      "\n",
      "Auftragsdatum:\n",
      "\n",
      "XX.XX.XXXX\n",
      "\n",
      "Kundennummer:\n",
      "\n",
      "XXXXXXXXX\n"
     ]
    }
   ],
   "source": [
    "result = converter.convert(source)\n",
    "print(result.document.export_to_markdown())"
   ]
  },
  {
   "cell_type": "code",
   "execution_count": 6,
   "metadata": {},
   "outputs": [
    {
     "name": "stdout",
     "output_type": "stream",
     "text": [
      "## Table 0\n",
      "|    | Pos.   | Menge    | Bezeichnung                       | Einzelpreis   | Gesamtpreis   |\n",
      "|---:|:-------|:---------|:----------------------------------|:--------------|:--------------|\n",
      "|  0 | 1      | 1 Stk.   | Fernseher 40 Zoll | Musterartikel | 1000,00 EUR   | 1000,00 EUR   |\n",
      "|  1 | 2      | Pauschal | Anfahrt und Aufbau                | 120,00 EUR    | 120,00 EUR    |\n",
      "|  2 |        |          |                                   | Zwischensumme | 1120,00 EUR   |\n",
      "|  3 |        |          |                                   | 19% MwSt.     | 212,80 EUR    |\n",
      "|  4 |        |          |                                   | Gesamtbetrag  | 1332,80 EUR   |\n"
     ]
    }
   ],
   "source": [
    "for table_ix, table in enumerate(result.document.tables):\n",
    "    table_df: pd.DataFrame = table.export_to_dataframe()\n",
    "    print(f\"## Table {table_ix}\")\n",
    "    print(table_df.to_markdown())\n",
    "    if table_ix > 1:\n",
    "        print(\"\\n\\n\")"
   ]
  },
  {
   "cell_type": "code",
   "execution_count": 28,
   "metadata": {},
   "outputs": [],
   "source": [
    "ordered_products = [\n",
    "    {\"Name\": \"Fernseher Smart TV QLED 4K\", \"Price\": 1000, \"SKU\": \"123456\"},\n",
    "    {\"Name\": \"Aufbauservice\", \"Price\": 120, \"SKU\": \"123457\"},\n",
    "]"
   ]
  },
  {
   "cell_type": "code",
   "execution_count": null,
   "metadata": {},
   "outputs": [],
   "source": [
    "product_strs = []\n",
    "\n",
    "for product in ordered_products:\n",
    "    product_string = \"\"\n",
    "    for key, value in product.items():\n",
    "        product_string += f\"{key}: {value}\\n\"\n",
    "\n",
    "    product_strs.append(product_string)\n",
    "\n",
    "print(product_strs[0])"
   ]
  },
  {
   "cell_type": "code",
   "execution_count": null,
   "metadata": {},
   "outputs": [],
   "source": [
    "client = OpenAI(base_url=\"http://localhost:1234/v1\", api_key=\"lm-studio\")"
   ]
  },
  {
   "cell_type": "code",
   "execution_count": 45,
   "metadata": {},
   "outputs": [],
   "source": [
    "schema = {\n",
    "    \"type\": \"json_schema\",\n",
    "    \"json_schema\": {\n",
    "        \"name\": \"product\",\n",
    "        \"schema\": {\n",
    "            \"type\": \"object\",\n",
    "            \"properties\": {\n",
    "                \"SKU\": {\"type\": \"string\"},\n",
    "                \"In_Table\": {\"type\": \"boolean\"},\n",
    "            },\n",
    "            \"required\": [\"SKU\", \"In_Table\"],\n",
    "        },\n",
    "    },\n",
    "}"
   ]
  },
  {
   "cell_type": "code",
   "execution_count": 52,
   "metadata": {},
   "outputs": [
    {
     "data": {
      "text/plain": [
       "{'type': 'object',\n",
       " 'properties': {'SKU': {'type': 'string'}, 'In_Table': {'type': 'boolean'}},\n",
       " 'required': ['SKU', 'In_Table']}"
      ]
     },
     "execution_count": 52,
     "metadata": {},
     "output_type": "execute_result"
    }
   ],
   "source": [
    "schema[\"json_schema\"][\"schema\"]"
   ]
  },
  {
   "cell_type": "code",
   "execution_count": 57,
   "metadata": {},
   "outputs": [
    {
     "name": "stdout",
     "output_type": "stream",
     "text": [
      "[{'SKU': '123456', 'In_Table': True}, {'SKU': '123457', 'In_Table': True}]\n"
     ]
    }
   ],
   "source": [
    "results = []\n",
    "\n",
    "for product_str in product_strs:\n",
    "    completion = client.chat.completions.create(\n",
    "        model=\"phi-4\",\n",
    "        messages=[\n",
    "            {\"role\": \"system\", \"content\": \"Extract the product information.\"},\n",
    "            {\n",
    "                \"role\": \"user\",\n",
    "                \"content\": f\"\"\"Please check that the ordered product is in the table.\n",
    "                Here is the table:\n",
    "                {table_df.to_json()}\n",
    "\n",
    "                Here are the ordered product:\n",
    "                {product_str}\n",
    "\n",
    "                The product information may differ, i.e. the SKU may be missing or the product name may be different. However, the price must be the same. If there is a product that almost matches the ordered product, please select it.\n",
    "\n",
    "                Please return a JSON object with the SKU of the product ordered product and weather it is in the table or not.\"\"\",\n",
    "            },\n",
    "        ],\n",
    "        response_format=schema,\n",
    "        temperature=0.3,\n",
    "        seed=42,\n",
    "    )\n",
    "\n",
    "    results.append(json.loads(completion.choices[0].message.content))\n",
    "\n",
    "print(results)"
   ]
  },
  {
   "cell_type": "code",
   "execution_count": null,
   "metadata": {},
   "outputs": [],
   "source": []
  },
  {
   "cell_type": "code",
   "execution_count": null,
   "metadata": {},
   "outputs": [],
   "source": []
  }
 ],
 "metadata": {
  "kernelspec": {
   "display_name": "Python 3",
   "language": "python",
   "name": "python3"
  },
  "language_info": {
   "codemirror_mode": {
    "name": "ipython",
    "version": 3
   },
   "file_extension": ".py",
   "mimetype": "text/x-python",
   "name": "python",
   "nbconvert_exporter": "python",
   "pygments_lexer": "ipython3",
   "version": "3.11.6"
  }
 },
 "nbformat": 4,
 "nbformat_minor": 2
}
