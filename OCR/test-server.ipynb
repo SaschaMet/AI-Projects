{
 "cells": [
  {
   "cell_type": "code",
   "execution_count": 10,
   "metadata": {},
   "outputs": [],
   "source": [
    "import os\n",
    "\n",
    "from docling.datamodel.base_models import InputFormat\n",
    "from docling.document_converter import DocumentConverter, PdfFormatOption\n",
    "from docling.datamodel.pipeline_options import PdfPipelineOptions, TableFormerMode\n",
    "\n",
    "import pandas as pd\n",
    "\n",
    "import requests"
   ]
  },
  {
   "cell_type": "code",
   "execution_count": 3,
   "metadata": {},
   "outputs": [],
   "source": [
    "def get_text_from_file(filepath: str) -> str:\n",
    "    pipeline_options = PdfPipelineOptions()\n",
    "    pipeline_options.do_ocr = False\n",
    "    pipeline_options.do_table_structure = True\n",
    "    pipeline_options.table_structure_options.do_cell_matching = True\n",
    "    pipeline_options.table_structure_options.mode = (\n",
    "        TableFormerMode.ACCURATE\n",
    "    )  # use more accurate TableFormer model\n",
    "\n",
    "    converter = DocumentConverter(\n",
    "        format_options={\n",
    "            InputFormat.PDF: PdfFormatOption(\n",
    "                pipeline_options=pipeline_options,\n",
    "            )\n",
    "        }\n",
    "    )\n",
    "\n",
    "    result = converter.convert(filepath)\n",
    "\n",
    "    tables = \"\"\n",
    "    for _, table in enumerate(result.document.tables):\n",
    "        table_df: pd.DataFrame = table.export_to_dataframe()\n",
    "        tables = tables + table_df.to_markdown() + \"\\n\"\n",
    "\n",
    "    return tables"
   ]
  },
  {
   "cell_type": "code",
   "execution_count": 4,
   "metadata": {},
   "outputs": [
    {
     "name": "stdout",
     "output_type": "stream",
     "text": [
      "|    | 0           | 1                 | 2                 | 3                        |\n",
      "|---:|:------------|:------------------|:------------------|:-------------------------|\n",
      "|  0 | Pos Art-Nr. |                   | Bezeichnung       | Menge Einzelpreis Betrag |\n",
      "|  1 | 1123        | Farbe Weiss       | 25,49             | 25,49 €                  |\n",
      "|  2 | 2           |                   | 60,00             | 10 6d0,Do €              |\n",
      "|  3 |             | Ncttobetrag       | Ncttobetrag       | 625,49 €                 |\n",
      "|  4 |             | Umsatzsteucr 1990 | Umsatzsteucr 1990 | 118,84 €                 |\n",
      "\n"
     ]
    }
   ],
   "source": [
    "file_path = \"data/ab-5.png\"\n",
    "\n",
    "tables = get_text_from_file(file_path)\n",
    "\n",
    "print(tables)"
   ]
  },
  {
   "cell_type": "code",
   "execution_count": 5,
   "metadata": {},
   "outputs": [
    {
     "name": "stdout",
     "output_type": "stream",
     "text": [
      "[{'SKU': '', 'Found': False}, {'SKU': '', 'Found': False}]\n"
     ]
    }
   ],
   "source": [
    "url = \"http://0.0.0.0:8111/process\"\n",
    "data = {\"order_number\": \"1235\", \"table\": tables}\n",
    "\n",
    "response = requests.post(url, json=data)\n",
    "\n",
    "print(response.json())"
   ]
  },
  {
   "cell_type": "code",
   "execution_count": 8,
   "metadata": {},
   "outputs": [
    {
     "name": "stdout",
     "output_type": "stream",
     "text": [
      "|    | Pos.   | Menge    | Bezeichnung                       | Einzelpreis   | Gesamtpreis   |\n",
      "|---:|:-------|:---------|:----------------------------------|:--------------|:--------------|\n",
      "|  0 | 1      | 1 Stk.   | Fernseher 40 Zoll | Musterartikel | 1000,00 EUR   | 1000,00 EUR   |\n",
      "|  1 | 2      | Pauschal | Anfahrt und Aufbau                | 120,00 EUR    | 120,00 EUR    |\n",
      "|  2 |        |          |                                   | Zwischensumme | 1120,00 EUR   |\n",
      "|  3 |        |          |                                   | 19% MwSt.     | 212,80 EUR    |\n",
      "|  4 |        |          |                                   | Gesamtbetrag  | 1332,80 EUR   |\n",
      "\n"
     ]
    }
   ],
   "source": [
    "file_path = \"data/ab-4.pdf\"\n",
    "\n",
    "tables = get_text_from_file(file_path)\n",
    "\n",
    "print(tables)"
   ]
  },
  {
   "cell_type": "code",
   "execution_count": 9,
   "metadata": {},
   "outputs": [
    {
     "name": "stdout",
     "output_type": "stream",
     "text": [
      "[{'SKU': '123456', 'Found': False}, {'SKU': '123457', 'Found': True}]\n"
     ]
    }
   ],
   "source": [
    "url = \"http://0.0.0.0:8111/process\"\n",
    "data = {\"order_number\": \"1234\", \"table\": tables}\n",
    "\n",
    "response = requests.post(url, json=data)\n",
    "\n",
    "print(response.json())"
   ]
  },
  {
   "cell_type": "code",
   "execution_count": 15,
   "metadata": {},
   "outputs": [
    {
     "name": "stdout",
     "output_type": "stream",
     "text": [
      "|    | Pos.   | Menge    | Bezeichnung                       | Einzelpreis   | Gesamtpreis   |\n",
      "|---:|:-------|:---------|:----------------------------------|:--------------|:--------------|\n",
      "|  0 | 1      | 1 Stk.   | Fernseher 40 Zoll | Musterartikel | 1000,00 EUR   | 1000,00 EUR   |\n",
      "|  1 | 2      | Pauschal | Anfahrt und Aufbau                | 120,00 EUR    | 120,00 EUR    |\n",
      "|  2 |        |          |                                   | Zwischensumme | 1120,00 EUR   |\n",
      "|  3 |        |          |                                   | 19% MwSt.     | 212,80 EUR    |\n",
      "|  4 |        |          |                                   | Gesamtbetrag  | 1332,80 EUR   |\n",
      "\n"
     ]
    }
   ],
   "source": [
    "file_path = \"./data/ab-4.pdf\"\n",
    "url = \"http://localhost:8111/extract-table\"\n",
    "\n",
    "headers = {\"Content-Type\": \"application/json\"}\n",
    "payload = {\"filepath\": file_path}\n",
    "\n",
    "response = requests.post(url, json=payload, headers=headers)\n",
    "table = response.json()\n",
    "\n",
    "table = response.json().get(\"tables\")\n",
    "print(table)"
   ]
  },
  {
   "cell_type": "code",
   "execution_count": 18,
   "metadata": {},
   "outputs": [
    {
     "data": {
      "text/plain": [
       "[{'output': {'SKU': '123456',\n",
       "   'Product Name': 'Fernseher 40 Zoll | Musterartikel',\n",
       "   'Found': True}},\n",
       " {'output': {'SKU': '123457',\n",
       "   'Product Name': 'Anfahrt und Aufbau',\n",
       "   'Found': True}}]"
      ]
     },
     "execution_count": 18,
     "metadata": {},
     "output_type": "execute_result"
    }
   ],
   "source": [
    "url = \"http://localhost:5678/webhook/33cb034f-b754-4992-be53-884db4dd9479\"\n",
    "\n",
    "headers = {\"Content-Type\": \"application/json\"}\n",
    "payload = {\"order_number\": 1234}\n",
    "\n",
    "response = requests.post(url, json=payload, headers=headers)\n",
    "response.json()"
   ]
  }
 ],
 "metadata": {
  "kernelspec": {
   "display_name": "Python 3",
   "language": "python",
   "name": "python3"
  },
  "language_info": {
   "codemirror_mode": {
    "name": "ipython",
    "version": 3
   },
   "file_extension": ".py",
   "mimetype": "text/x-python",
   "name": "python",
   "nbconvert_exporter": "python",
   "pygments_lexer": "ipython3",
   "version": "3.11.6"
  }
 },
 "nbformat": 4,
 "nbformat_minor": 2
}
