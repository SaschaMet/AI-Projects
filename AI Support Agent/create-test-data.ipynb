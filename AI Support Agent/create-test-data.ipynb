{
 "cells": [
  {
   "cell_type": "code",
   "execution_count": 1,
   "metadata": {},
   "outputs": [],
   "source": [
    "import random\n",
    "import requests\n",
    "import pandas as pd\n",
    "from pprint import pprint\n",
    "\n",
    "from faker import Faker\n",
    "from qdrant_client import QdrantClient, models"
   ]
  },
  {
   "cell_type": "code",
   "execution_count": 2,
   "metadata": {},
   "outputs": [],
   "source": [
    "client = QdrantClient(url=\"http://localhost:6333\")"
   ]
  },
  {
   "cell_type": "code",
   "execution_count": null,
   "metadata": {},
   "outputs": [
    {
     "data": {
      "text/plain": [
       "True"
      ]
     },
     "execution_count": 3,
     "metadata": {},
     "output_type": "execute_result"
    }
   ],
   "source": [
    "COLLECTION_NAME = \"CS-AGENT-TEST\"\n",
    "\n",
    "client.create_collection(\n",
    "    collection_name=COLLECTION_NAME,\n",
    "    vectors_config=models.VectorParams(size=100, distance=models.Distance.COSINE),\n",
    ")"
   ]
  },
  {
   "cell_type": "code",
   "execution_count": 36,
   "metadata": {},
   "outputs": [
    {
     "data": {
      "text/html": [
       "<div>\n",
       "<style scoped>\n",
       "    .dataframe tbody tr th:only-of-type {\n",
       "        vertical-align: middle;\n",
       "    }\n",
       "\n",
       "    .dataframe tbody tr th {\n",
       "        vertical-align: top;\n",
       "    }\n",
       "\n",
       "    .dataframe thead th {\n",
       "        text-align: right;\n",
       "    }\n",
       "</style>\n",
       "<table border=\"1\" class=\"dataframe\">\n",
       "  <thead>\n",
       "    <tr style=\"text-align: right;\">\n",
       "      <th></th>\n",
       "      <th>ID</th>\n",
       "      <th>Customer Name</th>\n",
       "      <th>Email</th>\n",
       "      <th>Total Amount Net</th>\n",
       "      <th>Total Amount Gross</th>\n",
       "      <th>Order Date</th>\n",
       "      <th>Paid</th>\n",
       "    </tr>\n",
       "  </thead>\n",
       "  <tbody>\n",
       "    <tr>\n",
       "      <th>0</th>\n",
       "      <td>1</td>\n",
       "      <td>Dr. Rachael Thompson DDS</td>\n",
       "      <td>johnsonjames@example.net</td>\n",
       "      <td>130.20</td>\n",
       "      <td>154.94</td>\n",
       "      <td>2024-12-20 15:18:20</td>\n",
       "      <td>True</td>\n",
       "    </tr>\n",
       "    <tr>\n",
       "      <th>1</th>\n",
       "      <td>2</td>\n",
       "      <td>Tabitha Arias</td>\n",
       "      <td>jlong@example.net</td>\n",
       "      <td>367.59</td>\n",
       "      <td>437.43</td>\n",
       "      <td>2024-12-20 15:18:25</td>\n",
       "      <td>False</td>\n",
       "    </tr>\n",
       "    <tr>\n",
       "      <th>2</th>\n",
       "      <td>3</td>\n",
       "      <td>Jason Carson</td>\n",
       "      <td>nicholseric@example.org</td>\n",
       "      <td>213.07</td>\n",
       "      <td>253.55</td>\n",
       "      <td>2024-12-20 15:18:28</td>\n",
       "      <td>True</td>\n",
       "    </tr>\n",
       "    <tr>\n",
       "      <th>3</th>\n",
       "      <td>4</td>\n",
       "      <td>Alicia Parrish</td>\n",
       "      <td>mandy58@example.org</td>\n",
       "      <td>300.82</td>\n",
       "      <td>357.98</td>\n",
       "      <td>2024-12-20 15:18:58</td>\n",
       "      <td>True</td>\n",
       "    </tr>\n",
       "    <tr>\n",
       "      <th>4</th>\n",
       "      <td>5</td>\n",
       "      <td>Robert Gallegos</td>\n",
       "      <td>feliciawatts@example.org</td>\n",
       "      <td>149.16</td>\n",
       "      <td>177.50</td>\n",
       "      <td>2024-12-20 15:18:45</td>\n",
       "      <td>True</td>\n",
       "    </tr>\n",
       "  </tbody>\n",
       "</table>\n",
       "</div>"
      ],
      "text/plain": [
       "   ID             Customer Name                     Email  Total Amount Net  \\\n",
       "0   1  Dr. Rachael Thompson DDS  johnsonjames@example.net            130.20   \n",
       "1   2             Tabitha Arias         jlong@example.net            367.59   \n",
       "2   3              Jason Carson   nicholseric@example.org            213.07   \n",
       "3   4            Alicia Parrish       mandy58@example.org            300.82   \n",
       "4   5           Robert Gallegos  feliciawatts@example.org            149.16   \n",
       "\n",
       "   Total Amount Gross           Order Date   Paid  \n",
       "0              154.94  2024-12-20 15:18:20   True  \n",
       "1              437.43  2024-12-20 15:18:25  False  \n",
       "2              253.55  2024-12-20 15:18:28   True  \n",
       "3              357.98  2024-12-20 15:18:58   True  \n",
       "4              177.50  2024-12-20 15:18:45   True  "
      ]
     },
     "execution_count": 36,
     "metadata": {},
     "output_type": "execute_result"
    }
   ],
   "source": [
    "fake = Faker()\n",
    "\n",
    "orders = []\n",
    "\n",
    "for i in range(1, 6):\n",
    "    order = {}\n",
    "    order[\"ID\"] = i\n",
    "    order[\"Customer Name\"] = fake.name()\n",
    "    order[\"Email\"] = fake.email()\n",
    "    amount_net = round(random.uniform(20.0, 500.0), 2)\n",
    "    tax = round(amount_net * 0.19, 2)  # Assuming 19% tax\n",
    "    amount_gross = round(amount_net + tax, 2)\n",
    "    order[\"Total Amount Net\"] = amount_net\n",
    "    order[\"Total Amount Gross\"] = amount_gross\n",
    "    order[\"Order Date\"] = fake.date_time_between(start_date=\"-1m\", end_date=\"now\").strftime(\"%Y-%m-%d %H:%M:%S\")\n",
    "    order[\"Paid\"] = random.choice([True, False])\n",
    "    orders.append(order)\n",
    "\n",
    "df = pd.DataFrame(orders)\n",
    "df.head(10)"
   ]
  },
  {
   "cell_type": "code",
   "execution_count": 37,
   "metadata": {},
   "outputs": [],
   "source": [
    "ID = 1548\n",
    "Customer_Name = \"Paul Müller\"\n",
    "Email = \"paulm@example.com\"\n",
    "TotalAmountNet = 100.0\n",
    "TotalAmountGross = 119.0\n",
    "OrderDate = \"2024-12-20 14:21:23\"\n",
    "Paid = False"
   ]
  },
  {
   "cell_type": "code",
   "execution_count": 38,
   "metadata": {},
   "outputs": [],
   "source": [
    "new_order = pd.DataFrame([{\n",
    "    \"ID\": ID,\n",
    "    \"Customer Name\": Customer_Name,\n",
    "    \"Email\": Email,\n",
    "    \"Total Amount Net\": TotalAmountNet,\n",
    "    \"Total Amount Gross\": TotalAmountGross,\n",
    "    \"Order Date\": OrderDate,\n",
    "    \"Paid\": Paid,\n",
    "}])\n",
    "\n",
    "df = pd.concat([df, new_order], ignore_index=True)"
   ]
  },
  {
   "cell_type": "code",
   "execution_count": 39,
   "metadata": {},
   "outputs": [
    {
     "data": {
      "text/html": [
       "<div>\n",
       "<style scoped>\n",
       "    .dataframe tbody tr th:only-of-type {\n",
       "        vertical-align: middle;\n",
       "    }\n",
       "\n",
       "    .dataframe tbody tr th {\n",
       "        vertical-align: top;\n",
       "    }\n",
       "\n",
       "    .dataframe thead th {\n",
       "        text-align: right;\n",
       "    }\n",
       "</style>\n",
       "<table border=\"1\" class=\"dataframe\">\n",
       "  <thead>\n",
       "    <tr style=\"text-align: right;\">\n",
       "      <th></th>\n",
       "      <th>ID</th>\n",
       "      <th>Customer Name</th>\n",
       "      <th>Email</th>\n",
       "      <th>Total Amount Net</th>\n",
       "      <th>Total Amount Gross</th>\n",
       "      <th>Order Date</th>\n",
       "      <th>Paid</th>\n",
       "    </tr>\n",
       "  </thead>\n",
       "  <tbody>\n",
       "    <tr>\n",
       "      <th>0</th>\n",
       "      <td>1</td>\n",
       "      <td>Dr. Rachael Thompson DDS</td>\n",
       "      <td>johnsonjames@example.net</td>\n",
       "      <td>130.20</td>\n",
       "      <td>154.94</td>\n",
       "      <td>2024-12-20 15:18:20</td>\n",
       "      <td>True</td>\n",
       "    </tr>\n",
       "    <tr>\n",
       "      <th>1</th>\n",
       "      <td>2</td>\n",
       "      <td>Tabitha Arias</td>\n",
       "      <td>jlong@example.net</td>\n",
       "      <td>367.59</td>\n",
       "      <td>437.43</td>\n",
       "      <td>2024-12-20 15:18:25</td>\n",
       "      <td>False</td>\n",
       "    </tr>\n",
       "    <tr>\n",
       "      <th>2</th>\n",
       "      <td>3</td>\n",
       "      <td>Jason Carson</td>\n",
       "      <td>nicholseric@example.org</td>\n",
       "      <td>213.07</td>\n",
       "      <td>253.55</td>\n",
       "      <td>2024-12-20 15:18:28</td>\n",
       "      <td>True</td>\n",
       "    </tr>\n",
       "    <tr>\n",
       "      <th>3</th>\n",
       "      <td>4</td>\n",
       "      <td>Alicia Parrish</td>\n",
       "      <td>mandy58@example.org</td>\n",
       "      <td>300.82</td>\n",
       "      <td>357.98</td>\n",
       "      <td>2024-12-20 15:18:58</td>\n",
       "      <td>True</td>\n",
       "    </tr>\n",
       "    <tr>\n",
       "      <th>4</th>\n",
       "      <td>5</td>\n",
       "      <td>Robert Gallegos</td>\n",
       "      <td>feliciawatts@example.org</td>\n",
       "      <td>149.16</td>\n",
       "      <td>177.50</td>\n",
       "      <td>2024-12-20 15:18:45</td>\n",
       "      <td>True</td>\n",
       "    </tr>\n",
       "    <tr>\n",
       "      <th>5</th>\n",
       "      <td>1548</td>\n",
       "      <td>Paul Müller</td>\n",
       "      <td>paulm@example.com</td>\n",
       "      <td>100.00</td>\n",
       "      <td>119.00</td>\n",
       "      <td>2024-12-20 14:21:23</td>\n",
       "      <td>False</td>\n",
       "    </tr>\n",
       "  </tbody>\n",
       "</table>\n",
       "</div>"
      ],
      "text/plain": [
       "     ID             Customer Name                     Email  Total Amount Net  \\\n",
       "0     1  Dr. Rachael Thompson DDS  johnsonjames@example.net            130.20   \n",
       "1     2             Tabitha Arias         jlong@example.net            367.59   \n",
       "2     3              Jason Carson   nicholseric@example.org            213.07   \n",
       "3     4            Alicia Parrish       mandy58@example.org            300.82   \n",
       "4     5           Robert Gallegos  feliciawatts@example.org            149.16   \n",
       "5  1548               Paul Müller         paulm@example.com            100.00   \n",
       "\n",
       "   Total Amount Gross           Order Date   Paid  \n",
       "0              154.94  2024-12-20 15:18:20   True  \n",
       "1              437.43  2024-12-20 15:18:25  False  \n",
       "2              253.55  2024-12-20 15:18:28   True  \n",
       "3              357.98  2024-12-20 15:18:58   True  \n",
       "4              177.50  2024-12-20 15:18:45   True  \n",
       "5              119.00  2024-12-20 14:21:23  False  "
      ]
     },
     "execution_count": 39,
     "metadata": {},
     "output_type": "execute_result"
    }
   ],
   "source": [
    "df.head(10)"
   ]
  },
  {
   "cell_type": "code",
   "execution_count": 40,
   "metadata": {},
   "outputs": [
    {
     "data": {
      "text/plain": [
       "UpdateResult(operation_id=1, status=<UpdateStatus.COMPLETED: 'completed'>)"
      ]
     },
     "execution_count": 40,
     "metadata": {},
     "output_type": "execute_result"
    }
   ],
   "source": [
    "# Inserting data into the collection\n",
    "points = []\n",
    "for i, row in df.iterrows():\n",
    "    point = models.PointStruct(\n",
    "        id=row[\"ID\"],\n",
    "        payload=row.to_dict(),\n",
    "        vector=[random.random() for _ in range(100)],\n",
    "    )\n",
    "    points.append(point)\n",
    "\n",
    "client.upsert(\n",
    "    collection_name=COLLECTION_NAME,\n",
    "    points=points,\n",
    ")"
   ]
  },
  {
   "cell_type": "code",
   "execution_count": 41,
   "metadata": {},
   "outputs": [
    {
     "name": "stdout",
     "output_type": "stream",
     "text": [
      "{'Customer Name': 'Dr. Rachael Thompson DDS',\n",
      " 'Email': 'johnsonjames@example.net',\n",
      " 'ID': 1,\n",
      " 'Order Date': '2024-12-20 15:18:20',\n",
      " 'Paid': True,\n",
      " 'Total Amount Gross': 154.94,\n",
      " 'Total Amount Net': 130.2}\n"
     ]
    }
   ],
   "source": [
    "x = client.scroll(\n",
    "    collection_name=COLLECTION_NAME,\n",
    "    limit=1,\n",
    "    with_payload=True,\n",
    "    with_vectors=False,\n",
    ")\n",
    "\n",
    "pprint(x[0][0].payload)"
   ]
  },
  {
   "cell_type": "code",
   "execution_count": 42,
   "metadata": {},
   "outputs": [
    {
     "name": "stdout",
     "output_type": "stream",
     "text": [
      "{'Customer Name': 'Dr. Rachael Thompson DDS',\n",
      " 'Email': 'johnsonjames@example.net',\n",
      " 'ID': 1,\n",
      " 'Order Date': '2024-12-20 15:18:20',\n",
      " 'Paid': True,\n",
      " 'Total Amount Gross': 154.94,\n",
      " 'Total Amount Net': 130.2}\n"
     ]
    }
   ],
   "source": [
    "# Search for the order by email\n",
    "x = client.search(\n",
    "    collection_name=COLLECTION_NAME,\n",
    "    query_vector=[random.random() for _ in range(100)],\n",
    "    limit=1,\n",
    "    query_filter=models.Filter(\n",
    "        must=[\n",
    "            models.FieldCondition(\n",
    "                key=\"Email\", match=models.MatchValue(value=x[0][0].payload[\"Email\"])\n",
    "            )\n",
    "        ]\n",
    "    ),\n",
    "    with_payload=True,\n",
    "    with_vectors=False,\n",
    ")\n",
    "\n",
    "pprint(x[0].payload)"
   ]
  }
 ],
 "metadata": {
  "kernelspec": {
   "display_name": "Python 3",
   "language": "python",
   "name": "python3"
  },
  "language_info": {
   "codemirror_mode": {
    "name": "ipython",
    "version": 3
   },
   "file_extension": ".py",
   "mimetype": "text/x-python",
   "name": "python",
   "nbconvert_exporter": "python",
   "pygments_lexer": "ipython3",
   "version": "3.11.6"
  }
 },
 "nbformat": 4,
 "nbformat_minor": 2
}
