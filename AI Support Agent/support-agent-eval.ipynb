{
 "cells": [
  {
   "cell_type": "markdown",
   "metadata": {},
   "source": [
    "# Support Agent Eval"
   ]
  },
  {
   "cell_type": "markdown",
   "metadata": {},
   "source": [
    "Datasets:\n",
    "- https://www.kaggle.com/datasets/tobiasbueck/email-ticket-text-german-classification"
   ]
  },
  {
   "cell_type": "markdown",
   "metadata": {},
   "source": [
    "## Setup"
   ]
  },
  {
   "cell_type": "code",
   "execution_count": 1,
   "metadata": {},
   "outputs": [],
   "source": [
    "# %%bash\n",
    "# pip install dtale ydata-profiling jupyter-summarytools"
   ]
  },
  {
   "cell_type": "code",
   "execution_count": 2,
   "metadata": {},
   "outputs": [],
   "source": [
    "%matplotlib inline"
   ]
  },
  {
   "cell_type": "code",
   "execution_count": 3,
   "metadata": {},
   "outputs": [],
   "source": [
    "import os\n",
    "import json\n",
    "import random\n",
    "import logging\n",
    "import importlib\n",
    "import pandas as pd\n",
    "from tqdm import tqdm\n",
    "from pprint import pprint\n",
    "from openai import OpenAI\n",
    "\n",
    "import dtale\n",
    "from summarytools import dfSummary\n",
    "from ydata_profiling import ProfileReport\n",
    "\n",
    "from sklearn.feature_extraction.text import CountVectorizer\n",
    "from sklearn.naive_bayes import MultinomialNB\n",
    "from sklearn.metrics import classification_report"
   ]
  },
  {
   "cell_type": "code",
   "execution_count": 4,
   "metadata": {},
   "outputs": [],
   "source": [
    "import calc_scores\n",
    "importlib.reload(calc_scores) # reload local import in case of changes\n",
    "from calc_scores import calculate_scores, plot_confusion_matrix"
   ]
  },
  {
   "cell_type": "code",
   "execution_count": 5,
   "metadata": {},
   "outputs": [],
   "source": [
    "logging.getLogger().setLevel(logging.WARNING)\n",
    "\n",
    "random.seed(42)"
   ]
  },
  {
   "cell_type": "code",
   "execution_count": 6,
   "metadata": {},
   "outputs": [],
   "source": [
    "client = OpenAI(base_url=\"http://localhost:1234/v1\", api_key=\"lm-studio\")"
   ]
  },
  {
   "cell_type": "code",
   "execution_count": 7,
   "metadata": {},
   "outputs": [
    {
     "name": "stdout",
     "output_type": "stream",
     "text": [
      "File: ticket_helpdesk_labeled_multi_languages_english_spain_french_german.csv\n",
      "Number of columns: 8\n",
      "Number of rows: 200\n",
      "---\n"
     ]
    }
   ],
   "source": [
    "# Directory containing the CSV files\n",
    "csv_dir = './data/raw'\n",
    "\n",
    "# Iterate over all files in the directory\n",
    "for filename in os.listdir(csv_dir):\n",
    "    if filename.endswith('.csv'):\n",
    "        file_path = os.path.join(csv_dir, filename)\n",
    "        df = pd.read_csv(file_path)\n",
    "        print(f'File: {filename}')\n",
    "        print(f'Number of columns: {df.shape[1]}')\n",
    "        print(f'Number of rows: {df.shape[0]}')\n",
    "        print('---')"
   ]
  },
  {
   "cell_type": "code",
   "execution_count": 8,
   "metadata": {},
   "outputs": [
    {
     "data": {
      "text/html": [
       "<div>\n",
       "<style scoped>\n",
       "    .dataframe tbody tr th:only-of-type {\n",
       "        vertical-align: middle;\n",
       "    }\n",
       "\n",
       "    .dataframe tbody tr th {\n",
       "        vertical-align: top;\n",
       "    }\n",
       "\n",
       "    .dataframe thead th {\n",
       "        text-align: right;\n",
       "    }\n",
       "</style>\n",
       "<table border=\"1\" class=\"dataframe\">\n",
       "  <thead>\n",
       "    <tr style=\"text-align: right;\">\n",
       "      <th></th>\n",
       "      <th>queue</th>\n",
       "      <th>priority</th>\n",
       "      <th>software_used</th>\n",
       "      <th>hardware_used</th>\n",
       "      <th>accounting_category</th>\n",
       "      <th>language</th>\n",
       "      <th>subject</th>\n",
       "      <th>text</th>\n",
       "    </tr>\n",
       "  </thead>\n",
       "  <tbody>\n",
       "    <tr>\n",
       "      <th>0</th>\n",
       "      <td>Hardware</td>\n",
       "      <td>2</td>\n",
       "      <td>NaN</td>\n",
       "      <td>Wireless Mouse</td>\n",
       "      <td>NaN</td>\n",
       "      <td>en</td>\n",
       "      <td>Wireless Mouse suddenly stops working</td>\n",
       "      <td>Dear Support Team, I've been using the Wireles...</td>\n",
       "    </tr>\n",
       "    <tr>\n",
       "      <th>1</th>\n",
       "      <td>Hardware</td>\n",
       "      <td>2</td>\n",
       "      <td>NaN</td>\n",
       "      <td>IP PBX</td>\n",
       "      <td>NaN</td>\n",
       "      <td>fr</td>\n",
       "      <td>Problème de connexions IP PBX</td>\n",
       "      <td>Bonjour, nous rencontrons un problème avec not...</td>\n",
       "    </tr>\n",
       "    <tr>\n",
       "      <th>2</th>\n",
       "      <td>Hardware</td>\n",
       "      <td>2</td>\n",
       "      <td>NaN</td>\n",
       "      <td>SFX-Netzteil</td>\n",
       "      <td>NaN</td>\n",
       "      <td>de</td>\n",
       "      <td>Problem mit meinem SFX-Netzteil</td>\n",
       "      <td>Sehr geehrte Damen und Herren, mein SFX-Netzte...</td>\n",
       "    </tr>\n",
       "  </tbody>\n",
       "</table>\n",
       "</div>"
      ],
      "text/plain": [
       "      queue  priority software_used   hardware_used accounting_category  \\\n",
       "0  Hardware         2           NaN  Wireless Mouse                 NaN   \n",
       "1  Hardware         2           NaN          IP PBX                 NaN   \n",
       "2  Hardware         2           NaN    SFX-Netzteil                 NaN   \n",
       "\n",
       "  language                                subject  \\\n",
       "0       en  Wireless Mouse suddenly stops working   \n",
       "1       fr          Problème de connexions IP PBX   \n",
       "2       de        Problem mit meinem SFX-Netzteil   \n",
       "\n",
       "                                                text  \n",
       "0  Dear Support Team, I've been using the Wireles...  \n",
       "1  Bonjour, nous rencontrons un problème avec not...  \n",
       "2  Sehr geehrte Damen und Herren, mein SFX-Netzte...  "
      ]
     },
     "execution_count": 8,
     "metadata": {},
     "output_type": "execute_result"
    }
   ],
   "source": [
    "ticket_helpdesk_path = os.path.join(\n",
    "    csv_dir, \"ticket_helpdesk_labeled_multi_languages_english_spain_french_german.csv\"\n",
    ")\n",
    "ticket_helpdesk = pd.read_csv(ticket_helpdesk_path)\n",
    "ticket_helpdesk.head(3)"
   ]
  },
  {
   "cell_type": "code",
   "execution_count": 9,
   "metadata": {},
   "outputs": [
    {
     "data": {
      "text/html": [
       "<div>\n",
       "<style scoped>\n",
       "    .dataframe tbody tr th:only-of-type {\n",
       "        vertical-align: middle;\n",
       "    }\n",
       "\n",
       "    .dataframe tbody tr th {\n",
       "        vertical-align: top;\n",
       "    }\n",
       "\n",
       "    .dataframe thead th {\n",
       "        text-align: right;\n",
       "    }\n",
       "</style>\n",
       "<table border=\"1\" class=\"dataframe\">\n",
       "  <thead>\n",
       "    <tr style=\"text-align: right;\">\n",
       "      <th></th>\n",
       "      <th>department</th>\n",
       "      <th>priority</th>\n",
       "      <th>software_used</th>\n",
       "      <th>hardware_used</th>\n",
       "      <th>accounting_category</th>\n",
       "      <th>language</th>\n",
       "      <th>subject</th>\n",
       "      <th>text</th>\n",
       "    </tr>\n",
       "  </thead>\n",
       "  <tbody>\n",
       "    <tr>\n",
       "      <th>0</th>\n",
       "      <td>Hardware</td>\n",
       "      <td>2</td>\n",
       "      <td>NaN</td>\n",
       "      <td>Wireless Mouse</td>\n",
       "      <td>NaN</td>\n",
       "      <td>en</td>\n",
       "      <td>Wireless Mouse suddenly stops working</td>\n",
       "      <td>Dear Support Team, I've been using the Wireles...</td>\n",
       "    </tr>\n",
       "    <tr>\n",
       "      <th>1</th>\n",
       "      <td>Hardware</td>\n",
       "      <td>2</td>\n",
       "      <td>NaN</td>\n",
       "      <td>IP PBX</td>\n",
       "      <td>NaN</td>\n",
       "      <td>fr</td>\n",
       "      <td>Problème de connexions IP PBX</td>\n",
       "      <td>Bonjour, nous rencontrons un problème avec not...</td>\n",
       "    </tr>\n",
       "    <tr>\n",
       "      <th>2</th>\n",
       "      <td>Hardware</td>\n",
       "      <td>2</td>\n",
       "      <td>NaN</td>\n",
       "      <td>SFX-Netzteil</td>\n",
       "      <td>NaN</td>\n",
       "      <td>de</td>\n",
       "      <td>Problem mit meinem SFX-Netzteil</td>\n",
       "      <td>Sehr geehrte Damen und Herren, mein SFX-Netzte...</td>\n",
       "    </tr>\n",
       "    <tr>\n",
       "      <th>3</th>\n",
       "      <td>Accounting</td>\n",
       "      <td>2</td>\n",
       "      <td>NaN</td>\n",
       "      <td>NaN</td>\n",
       "      <td>Customer Inquiries::Technical Support</td>\n",
       "      <td>en</td>\n",
       "      <td>Invoice Adjustment Request</td>\n",
       "      <td>Dear Customer Support,\\nI recently received my...</td>\n",
       "    </tr>\n",
       "    <tr>\n",
       "      <th>4</th>\n",
       "      <td>Software</td>\n",
       "      <td>2</td>\n",
       "      <td>Arbitrum</td>\n",
       "      <td>NaN</td>\n",
       "      <td>NaN</td>\n",
       "      <td>en</td>\n",
       "      <td>Issue with Arbitrum: UI not loading</td>\n",
       "      <td>Hello Support Team,\\nI've been experiencing an...</td>\n",
       "    </tr>\n",
       "  </tbody>\n",
       "</table>\n",
       "</div>"
      ],
      "text/plain": [
       "   department  priority software_used   hardware_used  \\\n",
       "0    Hardware         2           NaN  Wireless Mouse   \n",
       "1    Hardware         2           NaN          IP PBX   \n",
       "2    Hardware         2           NaN    SFX-Netzteil   \n",
       "3  Accounting         2           NaN             NaN   \n",
       "4    Software         2      Arbitrum             NaN   \n",
       "\n",
       "                     accounting_category language  \\\n",
       "0                                    NaN       en   \n",
       "1                                    NaN       fr   \n",
       "2                                    NaN       de   \n",
       "3  Customer Inquiries::Technical Support       en   \n",
       "4                                    NaN       en   \n",
       "\n",
       "                                 subject  \\\n",
       "0  Wireless Mouse suddenly stops working   \n",
       "1          Problème de connexions IP PBX   \n",
       "2        Problem mit meinem SFX-Netzteil   \n",
       "3             Invoice Adjustment Request   \n",
       "4    Issue with Arbitrum: UI not loading   \n",
       "\n",
       "                                                text  \n",
       "0  Dear Support Team, I've been using the Wireles...  \n",
       "1  Bonjour, nous rencontrons un problème avec not...  \n",
       "2  Sehr geehrte Damen und Herren, mein SFX-Netzte...  \n",
       "3  Dear Customer Support,\\nI recently received my...  \n",
       "4  Hello Support Team,\\nI've been experiencing an...  "
      ]
     },
     "execution_count": 9,
     "metadata": {},
     "output_type": "execute_result"
    }
   ],
   "source": [
    "ticket_helpdesk.rename(columns={'queue': 'department'}, inplace=True)\n",
    "ticket_helpdesk.head()"
   ]
  },
  {
   "cell_type": "markdown",
   "metadata": {},
   "source": [
    "## EDA"
   ]
  },
  {
   "cell_type": "code",
   "execution_count": 10,
   "metadata": {},
   "outputs": [
    {
     "data": {
      "text/plain": [
       "'http://Saschas-MacBook-Pro.fritz.box:40000/dtale/main/1'"
      ]
     },
     "execution_count": 10,
     "metadata": {},
     "output_type": "execute_result"
    }
   ],
   "source": [
    "d = dtale.show(ticket_helpdesk, notebook=False, browser=True)\n",
    "d._main_url"
   ]
  },
  {
   "cell_type": "code",
   "execution_count": 11,
   "metadata": {},
   "outputs": [
    {
     "data": {
      "application/vnd.jupyter.widget-view+json": {
       "model_id": "d2d18158ccfd4abd800d998bf112f039",
       "version_major": 2,
       "version_minor": 0
      },
      "text/plain": [
       "Summarize dataset:   0%|          | 0/5 [00:00<?, ?it/s]"
      ]
     },
     "metadata": {},
     "output_type": "display_data"
    },
    {
     "data": {
      "application/vnd.jupyter.widget-view+json": {
       "model_id": "d8da8cba04c24304b5fb0e14c9eb0ed0",
       "version_major": 2,
       "version_minor": 0
      },
      "text/plain": [
       "Generate report structure:   0%|          | 0/1 [00:00<?, ?it/s]"
      ]
     },
     "metadata": {},
     "output_type": "display_data"
    },
    {
     "data": {
      "application/vnd.jupyter.widget-view+json": {
       "model_id": "4f0291c736f64a84bd3dd66ff5ffd011",
       "version_major": 2,
       "version_minor": 0
      },
      "text/plain": [
       "Render HTML:   0%|          | 0/1 [00:00<?, ?it/s]"
      ]
     },
     "metadata": {},
     "output_type": "display_data"
    },
    {
     "data": {
      "application/vnd.jupyter.widget-view+json": {
       "model_id": "384f533535964867b65abd35b511c3fc",
       "version_major": 2,
       "version_minor": 0
      },
      "text/plain": [
       "Export report to file:   0%|          | 0/1 [00:00<?, ?it/s]"
      ]
     },
     "metadata": {},
     "output_type": "display_data"
    }
   ],
   "source": [
    "profile = ProfileReport(ticket_helpdesk, title=\"Profiling Report\")\n",
    "profile.to_file(\"ticket_helpdesk_profiling_report.html\")\n",
    "# profile.to_notebook_iframe()"
   ]
  },
  {
   "cell_type": "code",
   "execution_count": 12,
   "metadata": {},
   "outputs": [
    {
     "name": "stderr",
     "output_type": "stream",
     "text": [
      "2024-12-19 18:28:42,752 - INFO     - Using categorical units to plot a list of strings that are all parsable as floats or dates. If these strings should be plotted as numbers, cast to the appropriate data type before plotting.\n",
      "2024-12-19 18:28:42,753 - INFO     - Using categorical units to plot a list of strings that are all parsable as floats or dates. If these strings should be plotted as numbers, cast to the appropriate data type before plotting.\n"
     ]
    },
    {
     "data": {
      "text/html": [
       "<style type=\"text/css\">\n",
       "#T_099cc thead>tr>th {\n",
       "  text-align: left;\n",
       "}\n",
       "#T_099cc_row0_col0, #T_099cc_row1_col0, #T_099cc_row2_col0, #T_099cc_row3_col0, #T_099cc_row4_col0, #T_099cc_row5_col0, #T_099cc_row6_col0, #T_099cc_row7_col0 {\n",
       "  text-align: left;\n",
       "  font-size: 12px;\n",
       "  vertical-align: middle;\n",
       "  width: 5%;\n",
       "  max-width: 50px;\n",
       "  min-width: 20px;\n",
       "}\n",
       "#T_099cc_row0_col1, #T_099cc_row1_col1, #T_099cc_row2_col1, #T_099cc_row3_col1, #T_099cc_row4_col1, #T_099cc_row5_col1, #T_099cc_row6_col1, #T_099cc_row7_col1 {\n",
       "  text-align: left;\n",
       "  font-size: 12px;\n",
       "  vertical-align: middle;\n",
       "  width: 15%;\n",
       "  max-width: 200px;\n",
       "  min-width: 100px;\n",
       "  word-break: break-word;\n",
       "}\n",
       "#T_099cc_row0_col2, #T_099cc_row1_col2, #T_099cc_row2_col2, #T_099cc_row3_col2, #T_099cc_row4_col2, #T_099cc_row5_col2, #T_099cc_row6_col2, #T_099cc_row7_col2 {\n",
       "  text-align: left;\n",
       "  font-size: 12px;\n",
       "  vertical-align: middle;\n",
       "  width: 30%;\n",
       "  min-width: 100px;\n",
       "}\n",
       "#T_099cc_row0_col3, #T_099cc_row1_col3, #T_099cc_row2_col3, #T_099cc_row3_col3, #T_099cc_row4_col3, #T_099cc_row5_col3, #T_099cc_row6_col3, #T_099cc_row7_col3 {\n",
       "  text-align: left;\n",
       "  font-size: 12px;\n",
       "  vertical-align: middle;\n",
       "  width: 25%;\n",
       "  min-width: 100px;\n",
       "}\n",
       "#T_099cc_row0_col4, #T_099cc_row1_col4, #T_099cc_row2_col4, #T_099cc_row3_col4, #T_099cc_row4_col4, #T_099cc_row5_col4, #T_099cc_row6_col4, #T_099cc_row7_col4 {\n",
       "  text-align: left;\n",
       "  font-size: 12px;\n",
       "  vertical-align: middle;\n",
       "  width: 20%;\n",
       "  min-width: 150px;\n",
       "}\n",
       "#T_099cc_row0_col5, #T_099cc_row1_col5, #T_099cc_row2_col5, #T_099cc_row3_col5, #T_099cc_row4_col5, #T_099cc_row5_col5, #T_099cc_row6_col5, #T_099cc_row7_col5 {\n",
       "  text-align: left;\n",
       "  font-size: 12px;\n",
       "  vertical-align: middle;\n",
       "  width: 10%;\n",
       "}\n",
       "</style>\n",
       "<table id=\"T_099cc\">\n",
       "  <caption><strong>Data Frame Summary</strong><br>ticket_helpdesk<br>Dimensions: 200 x 8<br>Duplicates: 0</caption>\n",
       "  <thead>\n",
       "    <tr>\n",
       "      <th id=\"T_099cc_level0_col0\" class=\"col_heading level0 col0\" >No</th>\n",
       "      <th id=\"T_099cc_level0_col1\" class=\"col_heading level0 col1\" >Variable</th>\n",
       "      <th id=\"T_099cc_level0_col2\" class=\"col_heading level0 col2\" >Stats / Values</th>\n",
       "      <th id=\"T_099cc_level0_col3\" class=\"col_heading level0 col3\" >Freqs / (% of Valid)</th>\n",
       "      <th id=\"T_099cc_level0_col4\" class=\"col_heading level0 col4\" >Graph</th>\n",
       "      <th id=\"T_099cc_level0_col5\" class=\"col_heading level0 col5\" >Missing</th>\n",
       "    </tr>\n",
       "  </thead>\n",
       "  <tbody>\n",
       "    <tr>\n",
       "      <td id=\"T_099cc_row0_col0\" class=\"data row0 col0\" >1</td>\n",
       "      <td id=\"T_099cc_row0_col1\" class=\"data row0 col1\" ><strong>department</strong><br>[object]</td>\n",
       "      <td id=\"T_099cc_row0_col2\" class=\"data row0 col2\" >1. Software<br>2. Hardware<br>3. Accounting</td>\n",
       "      <td id=\"T_099cc_row0_col3\" class=\"data row0 col3\" >83 (41.5%)<br>66 (33.0%)<br>51 (25.5%)</td>\n",
       "      <td id=\"T_099cc_row0_col4\" class=\"data row0 col4\" ><img src = \"data:image/png;base64, iVBORw0KGgoAAAANSUhEUgAAAJsAAABFCAYAAABdVZTTAAAAOXRFWHRTb2Z0d2FyZQBNYXRwbG90bGliIHZlcnNpb24zLjguNCwgaHR0cHM6Ly9tYXRwbG90bGliLm9yZy8fJSN1AAAACXBIWXMAAA9hAAAPYQGoP6dpAAABlUlEQVR4nO3bQWrCUBRG4ZsSpJ0kBMHFuIgutovIbkR8gypO0oE7KHjuy3vnW8EVDkqC/7BtW0iEj+wD1I8hIr4i4pB9SKLntm337CN6MB6Px+9pmpbsQ7KUUq7DMPwY3PuN0zQt5/P5Ps/zI/sY2u12+1zXdblcLoeIMLY3GyMi5nl+nE6n3+xjknxlH9ALHxCEMTZhjE0YYxPG2IQxNmGMTRhjE8bYhDE2YYxNGGMTxtiEMTZhxojX/7qyD8nQ6+fOMpZSruu6LtHp/7pKKdeIeGbf0QM3CG4QMINTPlFa+2bzW6piTa2rXErVrZl1lUup+rW2ruryiXovfKkrjLEJY2zCGJswxiaMsQljbMIYmzDGJoyxCWNswhibMMYmjLEJ08y6qoXP0Lqm1lUupermBkEY11XC+IAgzB5+Rv1pbET1Uz7nee2oesrnPK8te5jy7f6VjF58QBDG2IQxNmGMTRhjE8bYhDE2YYxNGGMTxtiEMTZhjE0YYxPG2ISpespX6136n+qnfM7z2uEGQRinfML8AUq8o0qVu8MrAAAAAElFTkSuQmCC\"></img></td>\n",
       "      <td id=\"T_099cc_row0_col5\" class=\"data row0 col5\" >0<br>(0.0%)</td>\n",
       "    </tr>\n",
       "    <tr>\n",
       "      <td id=\"T_099cc_row1_col0\" class=\"data row1 col0\" >2</td>\n",
       "      <td id=\"T_099cc_row1_col1\" class=\"data row1 col1\" ><strong>priority</strong><br>[int64]</td>\n",
       "      <td id=\"T_099cc_row1_col2\" class=\"data row1 col2\" >1. 3<br>2. 2<br>3. 1</td>\n",
       "      <td id=\"T_099cc_row1_col3\" class=\"data row1 col3\" >84 (42.0%)<br>71 (35.5%)<br>45 (22.5%)</td>\n",
       "      <td id=\"T_099cc_row1_col4\" class=\"data row1 col4\" ><img src = \"data:image/png;base64, iVBORw0KGgoAAAANSUhEUgAAAJsAAABFCAYAAABdVZTTAAAAOXRFWHRTb2Z0d2FyZQBNYXRwbG90bGliIHZlcnNpb24zLjguNCwgaHR0cHM6Ly9tYXRwbG90bGliLm9yZy8fJSN1AAAACXBIWXMAAA9hAAAPYQGoP6dpAAABlUlEQVR4nO3bQWrCUBRG4ZsSpE4SRHAxLqKL7SKyGxHfoIqTdOCgK/Dc15vzreAKByXBf1jXNSTCR/YB2o4hIvYRscs+JNlzXdd79hHVjcfj8WuapkP2IZlaa9dhGL4N7r3GaZoO5/P5Ps/zI/uYDLfb7XNZlsPlctlFhLG90RgRMc/z43Q6/WQfk2iffcAW+IAgjLEJY2zCGJswxiaMsQljbMIYmzDGJoyxCWNswhibMMYmjLEJM0a8/tOVfUiWLX922thauy7LcogN/6ertXaNiGf2HdW5QXhxgwAYnPKJUv2bzW+sjpReV7ma6kvZdZWrqf5UX1dt9gm7R77UFcbYhDE2YYxNGGMTxtiEMTZhjE0YYxPG2IQxNmGMTRhjE8bYhCm7rqr4mf670usqV1N9cYMgjOsqYXxAEKa3n1F/9grrasrn9K62bqZ8Tu/q623KV+71i/74gCCMsQljbMIYmzDGJoyxCWNswhibMMYmjLEJY2zCGJswxiaMsQnTzZSvhxv0Xl1N+Zze1eYGQRinfML8Akq8o0pbUPLaAAAAAElFTkSuQmCC\"></img></td>\n",
       "      <td id=\"T_099cc_row1_col5\" class=\"data row1 col5\" >0<br>(0.0%)</td>\n",
       "    </tr>\n",
       "    <tr>\n",
       "      <td id=\"T_099cc_row2_col0\" class=\"data row2 col0\" >3</td>\n",
       "      <td id=\"T_099cc_row2_col1\" class=\"data row2 col1\" ><strong>software_used</strong><br>[object]</td>\n",
       "      <td id=\"T_099cc_row2_col2\" class=\"data row2 col2\" >1. nan<br>2. Sales Forecasting<br>3. Grafana<br>4. P2P Lending<br>5. Financial Analysis<br>6. SAP Business Suite<br>7. Angel Investing<br>8. Oracle VM VirtualBox<br>9. Mobile Security<br>10. Squarespace<br>11. other</td>\n",
       "      <td id=\"T_099cc_row2_col3\" class=\"data row2 col3\" >117 (58.5%)<br>3 (1.5%)<br>1 (0.5%)<br>1 (0.5%)<br>1 (0.5%)<br>1 (0.5%)<br>1 (0.5%)<br>1 (0.5%)<br>1 (0.5%)<br>1 (0.5%)<br>72 (36.0%)</td>\n",
       "      <td id=\"T_099cc_row2_col4\" class=\"data row2 col4\" ><img src = \"data:image/png;base64, iVBORw0KGgoAAAANSUhEUgAAAJsAAAD+CAYAAAAtWHdlAAAAOXRFWHRTb2Z0d2FyZQBNYXRwbG90bGliIHZlcnNpb24zLjguNCwgaHR0cHM6Ly9tYXRwbG90bGliLm9yZy8fJSN1AAAACXBIWXMAAA9hAAAPYQGoP6dpAAAEDklEQVR4nO3cwW0bVwBF0U+CUKzNEAQBlaECWISKTREsQH0IBGdhKtooC8tBCgjvKOQ5FXwb16PR4D+vPj8/BxTWSx+A+yE2MmIjIzYyYiMjNjJiIyM2MmIjsxpjPI4xHpY+yJ34+Pz8vCx9iKVs9vv9yzRNu6UPcg/meT6tVqs/7zW4zTRNu8PhcNlut+9LH+aWnc/nH8fjcff29vYwxrjP2MYYY7vdvj89Pf1c+jB34HHpAyzJLwhkxEZGbGTERkZsZMRGRmxkxEZGbGTERkZsZMRGRmxkxEZmM8avu1ZLH+TW+TseYzPP8+l4PO7Gnd+1KszzfBpjfCx9jqXYILTueoOw8l9mUfn3k+2u/9Vxff+sq+59+cP1radp2j0/P4+vOZ93N65mPcYYj4+Pfy19EG6fj7pkxEZGbGTERkZsZMRGRmxkxEZGbGTERkZsZMRGRmxk1mOMcblc/lj6INy+9TzPp9fX17sfY3B9roWTMXgh8/vJNjzVuLbNfr9/GWMMYxeubT1N087YhYLvbGTERkZsZMRGRmxkxEZGbGTERkZsZMRGRmxkxEZGbGTERkZsZDZfQ5cxjF24MtfCyRi8kPHORsaPUTLWVWSsq8h4ZyMjNjJiIyM2MmIjIzYyYiMjNjJiIyM2MmIjIzYyYiMjNjJiI2NdRca1cDLWVWQ82cgYvJAxeCHj0wcZsZERGxmxkREbGbGRERsZsZERGxmxkREbGbGRERsZsZERGxmDFzKuhZMxeCHjyUbG4IWMwQsZnz7IiI2M2MiIjYzYyIiNjNjIiI2M2MiIjYzYyIiNjNjIiI2M2MiIjYx1FRkbBDLWVWQ82chYV5GxriLj0wcZsZERGxmxkREbGbGRERsZsZERGxmxkREbGbGRERsZsZERGxmDFzKuhZMxeCHjyUbG4IWMwQsZnz7IiI2M2MiIjYzYyIiNjNjIiI2M2MiIjYzYyIiNjNjIiI2M2MgYvJBxLZyMwQsZ72xk/BglY11FxrqKjHc2MmIjIzYyYiMjNjJiIyM2MmIjIzYyYiMjNjJiIyM2MmIjIzYy1lVkXAsnY11FxpONjMELGYMXMj59kBEbGbGRERsZsZERGxmxkREbGbGRERsZsZERGxmxkREbGbGRMXgh41o4GYMXMr+fbLd8JfzDU/t72Oz3+5evDcJNmuf5ZMzzPWymadodDofLdrt9X/ow/7Xz+fzjeDzu3t7eHsYYYlvYZowxttvt+9PT08+lD3Mlj0sfgF98ZyMjNjJiIyM2MmIjIzYyYiMjNjJiIyM2MmIjIzYyYiOzGePXVZylD3INt/rn+r/azPN8Oh6Pu3GjV3G+Bj3GPN+Aa+FkDF7I+AWBjNjIiI2M2MiIjYzYyIiNjNjIiI3M31hLQMhMfJg4AAAAAElFTkSuQmCC\"></img></td>\n",
       "      <td id=\"T_099cc_row2_col5\" class=\"data row2 col5\" >117<br>(58.5%)</td>\n",
       "    </tr>\n",
       "    <tr>\n",
       "      <td id=\"T_099cc_row3_col0\" class=\"data row3 col0\" >4</td>\n",
       "      <td id=\"T_099cc_row3_col1\" class=\"data row3 col1\" ><strong>hardware_used</strong><br>[object]</td>\n",
       "      <td id=\"T_099cc_row3_col2\" class=\"data row3 col2\" >1. nan<br>2. IP PBX<br>3. Ringlicht<br>4. NAS-Gehäuse<br>5. Wireless Mouse<br>6. Accelerometer<br>7. Das Keyboard 4 Professional<br>8. Smart-Gartenbeleuchtung<br>9. Externe Festplatte<br>10. Smart Home Hub<br>11. other</td>\n",
       "      <td id=\"T_099cc_row3_col3\" class=\"data row3 col3\" >134 (67.0%)<br>2 (1.0%)<br>2 (1.0%)<br>2 (1.0%)<br>1 (0.5%)<br>1 (0.5%)<br>1 (0.5%)<br>1 (0.5%)<br>1 (0.5%)<br>1 (0.5%)<br>54 (27.0%)</td>\n",
       "      <td id=\"T_099cc_row3_col4\" class=\"data row3 col4\" ><img src = \"data:image/png;base64, iVBORw0KGgoAAAANSUhEUgAAAJsAAAD+CAYAAAAtWHdlAAAAOXRFWHRTb2Z0d2FyZQBNYXRwbG90bGliIHZlcnNpb24zLjguNCwgaHR0cHM6Ly9tYXRwbG90bGliLm9yZy8fJSN1AAAACXBIWXMAAA9hAAAPYQGoP6dpAAAEGklEQVR4nO3cUU4bVwCG0QuyaHgZy7LkZWQBLILFdhFeAPtAFvMQU17ch5CoVZO2UuEb456zgivxMdij+3N1Op0GFK6XPgD/H2IjIzYyYiMjNjJiIyM2MmIjIzYyV2OM2zHGzdIH4adeTqfTcelDvIXVdru9n6Zps/RB+LF5ng9XV1e/XkJwq2maNnd3d8f1ev289GH4s6enp0/7/X7z+Ph4M8b4+LGNMcZ6vX7e7XZflj4MP3S79AHeii8IZMRGRmxkxEZGbGTERkZsZMRGRmxkxEZGbGTERkZsZMRGZjXG13tTSx+Ev7q0n8tqnufDfr/fjAu6N3VJ5nk+jDFelj7HW7BBOH8Xs0G48i+zqPzxyXYxv0Gcp+/rqkta8XCerqdp2nz+/Hm8zvl8duPdXI8xxu3t7W9LH4TL56UuGbGRERsZsZERGxmxkREbGbGRERsZsZERGxmxkREbmesxxjgej78sfRAu3/U8z4eHh4eLGlZwnlwLJ2PwQsaTjYzBCxmDFzIGL2S81CUjNjJiIyM2MmIjIzYyYiMjNjJiIyM2MmIjIzYyYiNj8ELG4IWMa+FkDF7I+IJAxp9RMtZVZKyryFhXkfEFgYzYyIiNjNjIiI2M2MiIjYzYyIiNjNjIiI2M2MiIjYx1FRnrKjKuhZOxriLz7ck2PNV4b6vtdns/xhjGLry362maNsYuFLxnIyM2MmIjIzYyYiMjNjJiIyM2MmIjIzYyYiMjNjJiIyM2MmIjs3oduoxh7MI7cy2cjMELGU82MgYvZAxeyHj1QUZsZMRGRmxkxEZGbGTERkZsZMRGRmxkxEZGbGTERkZsZMRGRmxkrKvI2CCQsa4i48lGxrqKjHUVGa8+yIiNjNjIiI2M2MiIjYzYyIiNjNjIiI2M2MiIjYzYyIiNjNjIGLyQcS2cjMELGU82MgYvZAxeyHj1QUZsZMRGRmxkxEZGbGTERkZsZMRGRmxkxEZGbGTERkZsZMRGxuCFjGvhZAxeyPjMRsafUTLWVWSsq8j4zEZGbGTERkZsZMRGRmxkxEZGbGTERkZsZMRGRmxkxEZGbGTERsa6ioxr4WSsq8h4spExeCFj8ELGqw8yYiMjNjJiIyM2MmIjIzYyYiMjNjJiIyM2MmIjIzYyYiMjNjIGL2RcCydj8ELm25PtI1wJf/H0/dhW2+32/nWDcNbmeT4Y5Xxsq2maNnd3d8f1ev289GF+5unp6dN+v988Pj7ejDHE9kGtxhhjvV4/73a7L0sf5h/cLn0A/hvv2ciIjYzYyIiNjNjIiI2M2MiIjYzYyIiNjNjIiI2M2Misxvh6hWfpg/ydcz8f/85qnufDfr/fjDO/wvM6zDHK+cBcCydj8ELGFwQyYiMjNjJiIyM2MmIjIzYyYiMjNjK/A56PYk7lwS3LAAAAAElFTkSuQmCC\"></img></td>\n",
       "      <td id=\"T_099cc_row3_col5\" class=\"data row3 col5\" >134<br>(67.0%)</td>\n",
       "    </tr>\n",
       "    <tr>\n",
       "      <td id=\"T_099cc_row4_col0\" class=\"data row4 col0\" >5</td>\n",
       "      <td id=\"T_099cc_row4_col1\" class=\"data row4 col1\" ><strong>accounting_category</strong><br>[object]</td>\n",
       "      <td id=\"T_099cc_row4_col2\" class=\"data row4 col2\" >1. nan<br>2. Employee Inquiries::Technical:<br>3. Employee Inquiries::Technical<br>4. Employee Inquiries::Health and<br>5. Employee Inquiries::General<br>6. Employee Inquiries::General::A<br>7. Employee Inquiries::Accounting<br>8. Employee Inquiries::Legal Inqu<br>9. Employee Inquiries::IT Support<br>10. Employee Inquiries::Legal Inqu<br>11. other</td>\n",
       "      <td id=\"T_099cc_row4_col3\" class=\"data row4 col3\" >149 (74.5%)<br>5 (2.5%)<br>3 (1.5%)<br>3 (1.5%)<br>3 (1.5%)<br>3 (1.5%)<br>3 (1.5%)<br>2 (1.0%)<br>2 (1.0%)<br>2 (1.0%)<br>25 (12.5%)</td>\n",
       "      <td id=\"T_099cc_row4_col4\" class=\"data row4 col4\" ><img src = \"data:image/png;base64, iVBORw0KGgoAAAANSUhEUgAAAJsAAAD+CAYAAAAtWHdlAAAAOXRFWHRTb2Z0d2FyZQBNYXRwbG90bGliIHZlcnNpb24zLjguNCwgaHR0cHM6Ly9tYXRwbG90bGliLm9yZy8fJSN1AAAACXBIWXMAAA9hAAAPYQGoP6dpAAAEFklEQVR4nO3cUWobVwCG0Ssj3OhFQhi0jCxAi+hiuwgtwPsQRvMQu3lRHxJCgmMXavmT5J6zgGHAn8fMcH/PjsfjgMLNuW+A/w+xkREbGbGRERsZsZERGxmxkREbmdkYYzHGuD33jXASX4/H4+O5b+Il87u7uz+Xy+X63DfC203T9DCbzf661ODmy+Vyvd1uH1er1dO5b4b/7nA4fNrtduv9fn87xrjM2MYYY7VaPW02my/nvhnebHHuG3iNFwQyYiMjNjJiIyM2MmIjIzYyYiMjNjJiIyM2MmIjIzYyYiMzH+PbWahz3whvcw0/w/k0TQ+73W49LvwsFP9umqaHMcbXc9/HS2wQPpaL3iDM/MssKr97sl30bwfX69m66tIXOlyvX9ZV17DQ4Xr9bl3lrZR34aMuGbGRERsZsZERGxmxkREbGbGRERsZsZERGxmxkREbmV8GL9cwmuB6PRu8XPpoguvlWDgZgxcyPz/ZPNF4Vz8GL4YuvLeb5XK5/vz58/i+sDJW5t3cjDHGYrH4+9w3wsfnoy4ZsZERGxmxkREbGbGRERsZsZERGxmxkREbGbGRERuZmzHGeHx8/OPcN8LHdzNN08P9/b2hC+/OsXAyBi9kvCCQ8WeUjHUVGesqMtZVZLwgkBEbGbGRERsZsZERGxmxkREbGbGRERsZsZERGxmxkbGuImNdRcaxcDLWVWQ82cgYvJAxeCFj8ELGR10yYiMjNjJiIyM2MmIjIzYyYiMjNjJiIyM2MmIjIzYyBi9kDF7IOBZOxuCFjCcbGYMXMgYvZAxeyPioS0ZsZMRGRmxkxEZGbGTERkZsZMRGRmxkxEZGbGTERkZsZKyryFhXkbFBIGNdRcaTjYx1FRnrKjLWVWR81CUjNjJiIyM2MmIjIzYyYiMjNjJiIyM2MmIjIzYyYiNj8ELG4IWMY+FkDF7IeLKRMXghY/BCxuCFjI+6ZMRGRmxkxEZGbGTERkZsZMRGRmxkxEZGbGTERkZsZAxeyBi8kHEsnIzBCxkvCGT8GSVjXUXGuoqMdRUZLwhkxEZGbGTERkZsZMRGRmxkxEZGbGTERkZsZMRGRmxkrKvIWFeRcSycjHUVGU82MgYvZAxeyBi8kPFRl4zYyIiNjNjIiI2M2MiIjYzYyIiNjNjIiI2M2MiIjYzBCxmDFzKOhZMxeCHz85PtFDwdedGPwcspLmY0w2vmy+Vyvd1uH1er1dNbLnQ4HD7tdrv1fr+/HWOIjWfmY4yxWq2eNpvNlxNcb3GCa/BB+ahLRmxkxEZGbGTERkZsZMRGRmxkxEZGbGTERkZsZMRGZj7Gt+NBb73QKa7Bxzafpulht9utxwmOBxnN8BrHwskYvJDxgkBGbGTERkZsZMRGRmxkxEZGbGTERuYf+qjV+x9luzgAAAAASUVORK5CYII=\"></img></td>\n",
       "      <td id=\"T_099cc_row4_col5\" class=\"data row4 col5\" >149<br>(74.5%)</td>\n",
       "    </tr>\n",
       "    <tr>\n",
       "      <td id=\"T_099cc_row5_col0\" class=\"data row5 col0\" >6</td>\n",
       "      <td id=\"T_099cc_row5_col1\" class=\"data row5 col1\" ><strong>language</strong><br>[object]</td>\n",
       "      <td id=\"T_099cc_row5_col2\" class=\"data row5 col2\" >1. en<br>2. de<br>3. es<br>4. fr</td>\n",
       "      <td id=\"T_099cc_row5_col3\" class=\"data row5 col3\" >78 (39.0%)<br>47 (23.5%)<br>46 (23.0%)<br>29 (14.5%)</td>\n",
       "      <td id=\"T_099cc_row5_col4\" class=\"data row5 col4\" ><img src = \"data:image/png;base64, iVBORw0KGgoAAAANSUhEUgAAAJsAAABcCAYAAAB5jMeAAAAAOXRFWHRTb2Z0d2FyZQBNYXRwbG90bGliIHZlcnNpb24zLjguNCwgaHR0cHM6Ly9tYXRwbG90bGliLm9yZy8fJSN1AAAACXBIWXMAAA9hAAAPYQGoP6dpAAAB1klEQVR4nO3bQWrjQBRF0a9GhM5Ewhi8GC8ii+1FaDfGuAadkIl60KOETPVUWOesoAwXmRJ6w7quBQm/9j4AxyE2Yoaqeq2ql70PEvS5ruv73oc4ovF8Pr9N03Ta+yAprbX7MAx/BJc3TtN0ul6v7/M8f+x9mK09Ho/fy7KcbrfbS1WJLWysqprn+eNyufzd+zAhr3sf4KhcEIgRGzFiI0ZsxIiNGLERIzZixEaM2IgRGzFiI0ZsxIiNmLHq/6c3ex8k4Si/s1dja+2+LMupDvLpTWvtXlWfe5/jiHwWTsxgykeKCwIxPf6N+pt7Ut2tq6yfnldX6yrrp+fW47rqEK9gjsgFgRixESM2YsRGjNiIERsxYiNGbMSIjRixESM2YsRGjNiIERsxXU35ejkH2+huymdq97xsEIgx5SPGk40Y6ypirKuIsa4ixktdYsRGjNiIERsxYiNGbMSIjRixESM2YsRGjNiIERsxYiNGbMRYVxFjXUWMDQIx1lXEbPlk84Tii83WVVZSfLfJuspKip9sua7q4nZLP7zUJUZsxIiNGLERIzZixEaM2IgRGzFiI0ZsxIiNGLERIzZixEbMJusqKyl+stm6ykqK72wQiLGuIsYFgZh/PyPYuVLx9IwAAAAASUVORK5CYII=\"></img></td>\n",
       "      <td id=\"T_099cc_row5_col5\" class=\"data row5 col5\" >0<br>(0.0%)</td>\n",
       "    </tr>\n",
       "    <tr>\n",
       "      <td id=\"T_099cc_row6_col0\" class=\"data row6 col0\" >7</td>\n",
       "      <td id=\"T_099cc_row6_col1\" class=\"data row6 col1\" ><strong>subject</strong><br>[object]</td>\n",
       "      <td id=\"T_099cc_row6_col2\" class=\"data row6 col2\" >1. Wireless Mouse suddenly stops <br>2. Pequeño error en SAP Business <br>3. Zune HD lässt sich nicht einsc<br>4. MicroSIP - Failed to Load SIP <br>5. URGENT: Squarespace Website No<br>6. Adaptador de corriente para Ep<br>7. Mouse funktioniert nicht an me<br>8. Problème critique de Mobile Se<br>9. Oracle VM VirtualBox - Fehler <br>10. USB-C Adapter funktioniert nic<br>11. other</td>\n",
       "      <td id=\"T_099cc_row6_col3\" class=\"data row6 col3\" >1 (0.5%)<br>1 (0.5%)<br>1 (0.5%)<br>1 (0.5%)<br>1 (0.5%)<br>1 (0.5%)<br>1 (0.5%)<br>1 (0.5%)<br>1 (0.5%)<br>1 (0.5%)<br>190 (95.0%)</td>\n",
       "      <td id=\"T_099cc_row6_col4\" class=\"data row6 col4\" ><img src = \"data:image/png;base64, iVBORw0KGgoAAAANSUhEUgAAAJsAAAD+CAYAAAAtWHdlAAAAOXRFWHRTb2Z0d2FyZQBNYXRwbG90bGliIHZlcnNpb24zLjguNCwgaHR0cHM6Ly9tYXRwbG90bGliLm9yZy8fJSN1AAAACXBIWXMAAA9hAAAPYQGoP6dpAAADfElEQVR4nO3cwWoaUQCG0WuQ0GxGRPBhfIg8bB/CtxFxFk3Ixi5qd60JNP2k9pxVoZtZfIzTy/27OJ/PAwoPt34A/h9iIyM2MmIjIzYyYiMjNjJiIyM2MosxxtMYY5zP55cbPwt3brnZbJ7HGGOxWHwVHH/TwzRN62ma1mOMx1s/DPfNNxsZsZERGxmxkREbGbGRERsZsZERGxmxkREbGbGRERsZsZERGxmxkVnO83y8/Pntpk/C3bNBILPwX2ZR8WYjY11FxrqKjKMPMmIjIzYyYiMjNjJiIyM2MmIjIzYyYiMjNjJiIyM2MmIjIzYyBi9kXAsnY/BCxpuNjMELGYMXMo4+yIiNjNjIiI2M2MiIjYzYyIiNjNjIiI2M2MiIjYzYyIiNjNjIGLyQcS2cjMELGd9sZPyMkrGuImNdRcY3GxmxkREbGbGRERsZsZERGxmxkREbGbGRERsZsZERGxmxkREbGesqMq6Fk7GuIuPNRsbghYzBCxlHH2TERkZsZMRGRmxkxEZGbGTERkZsZMRGRmxkxEZGbGTERkZsZAxeyLgWTsbghYw3GxmDFzIGL2QcfZARGxmxkREbGbGRERsZsZERGxmxkREbGbGRERsZsZERGxmxkREbGesqMjYIZKyryHizkbGuImNdRcbRBxmxkREbGbGRERsZsZERGxmxkREbGbGRERsZsZERGxmxkREbGYMXMq6FkzF4IePNRsbghYzBCxlHH2TERkZsZMRGRmxkxEZGbGTERkZsZMRGRmxkxEZGbGTERkZsZAxeyLgWTsbghYxvNjJ+RslYV5GxriLjm42M2MiIjYzYyIiNjNjIiI2M2MiIjYzYyIiNjNjIiI2M2MiIjYx1FRnXwslYV5HxZiNj8ELG4IWMow8yYiMjNjJiIyM2MmIjIzYyYiMjNjJiIyM2MmIjIzYyYiMjNjIGL2RcCydj8ELm55vNlXA+w9u1X8jlZrN5vmwQ4I/M83y8NpxaTtO03u12L6vV6rV+OO7H6XT6st/v14fD4XGM8evYxhhjtVq9brfbb+nTcY+erv2lczYyYiMjNjJiIyM2MmIjIzYyYiMjNjJiIyM2MmIjIzYyyzF+XA+59YPwb/tIQ8t5no/7/X493rkeAu+5jKd+O5xyLZzPdPVauMELGf9AICM2MmIjIzYyYiMjNjJiIyM2MmIj8x0gQBAnkyXa7AAAAABJRU5ErkJggg==\"></img></td>\n",
       "      <td id=\"T_099cc_row6_col5\" class=\"data row6 col5\" >0<br>(0.0%)</td>\n",
       "    </tr>\n",
       "    <tr>\n",
       "      <td id=\"T_099cc_row7_col0\" class=\"data row7 col0\" >8</td>\n",
       "      <td id=\"T_099cc_row7_col1\" class=\"data row7 col1\" ><strong>text</strong><br>[object]</td>\n",
       "      <td id=\"T_099cc_row7_col2\" class=\"data row7 col2\" >1. Dear Support Team, I've been u<br>2. Hola equipo de soporte, he not<br>3. Hi Support, mein Zune HD lässt<br>4. Dear Support Team, I am experi<br>5. Dear Support Team, My Squaresp<br>6. Noté que el adaptador de corri<br>7. Meine Maus reagiert plötzlich <br>8. Bonjour, depuis la dernière mi<br>9. Sehr geehrter Support, seit ge<br>10. Hello Support Team, my USB-C t<br>11. other</td>\n",
       "      <td id=\"T_099cc_row7_col3\" class=\"data row7 col3\" >1 (0.5%)<br>1 (0.5%)<br>1 (0.5%)<br>1 (0.5%)<br>1 (0.5%)<br>1 (0.5%)<br>1 (0.5%)<br>1 (0.5%)<br>1 (0.5%)<br>1 (0.5%)<br>190 (95.0%)</td>\n",
       "      <td id=\"T_099cc_row7_col4\" class=\"data row7 col4\" ><img src = \"data:image/png;base64, iVBORw0KGgoAAAANSUhEUgAAAJsAAAD+CAYAAAAtWHdlAAAAOXRFWHRTb2Z0d2FyZQBNYXRwbG90bGliIHZlcnNpb24zLjguNCwgaHR0cHM6Ly9tYXRwbG90bGliLm9yZy8fJSN1AAAACXBIWXMAAA9hAAAPYQGoP6dpAAADfElEQVR4nO3cwWoaUQCG0WuQ0GxGRPBhfIg8bB/CtxFxFk3Ixi5qd60JNP2k9pxVoZtZfIzTy/27OJ/PAwoPt34A/h9iIyM2MmIjIzYyYiMjNjJiIyM2MosxxtMYY5zP55cbPwt3brnZbJ7HGGOxWHwVHH/TwzRN62ma1mOMx1s/DPfNNxsZsZERGxmxkREbGbGRERsZsZERGxmxkREbGbGRERsZsZERGxmxkVnO83y8/Pntpk/C3bNBILPwX2ZR8WYjY11FxrqKjKMPMmIjIzYyYiMjNjJiIyM2MmIjIzYyYiMjNjJiIyM2MmIjIzYyBi9kXAsnY/BCxpuNjMELGYMXMo4+yIiNjNjIiI2M2MiIjYzYyIiNjNjIiI2M2MiIjYzYyIiNjNjIGLyQcS2cjMELGd9sZPyMkrGuImNdRcY3GxmxkREbGbGRERsZsZERGxmxkREbGbGRERsZsZERGxmxkREbGesqMq6Fk7GuIuPNRsbghYzBCxlHH2TERkZsZMRGRmxkxEZGbGTERkZsZMRGRmxkxEZGbGTERkZsZAxeyLgWTsbghYw3GxmDFzIGL2QcfZARGxmxkREbGbGRERsZsZERGxmxkREbGbGRERsZsZERGxmxkREbGesqMjYIZKyryHizkbGuImNdRcbRBxmxkREbGbGRERsZsZERGxmxkREbGbGRERsZsZERGxmxkREbGYMXMq6FkzF4IePNRsbghYzBCxlHH2TERkZsZMRGRmxkxEZGbGTERkZsZMRGRmxkxEZGbGTERkZsZAxeyLgWTsbghYxvNjJ+RslYV5GxriLjm42M2MiIjYzYyIiNjNjIiI2M2MiIjYzYyIiNjNjIiI2M2MiIjYx1FRnXwslYV5HxZiNj8ELG4IWMow8yYiMjNjJiIyM2MmIjIzYyYiMjNjJiIyM2MmIjIzYyYiMjNjIGL2RcCydj8ELm55vNlXA+w9u1X8jlZrN5vmwQ4I/M83y8NpxaTtO03u12L6vV6rV+OO7H6XT6st/v14fD4XGM8evYxhhjtVq9brfbb+nTcY+erv2lczYyYiMjNjJiIyM2MmIjIzYyYiMjNjJiIyM2MmIjIzYyyzF+XA+59YPwb/tIQ8t5no/7/X493rkeAu+5jKd+O5xyLZzPdPVauMELGf9AICM2MmIjIzYyYiMjNjJiIyM2MmIj8x0gQBAnkyXa7AAAAABJRU5ErkJggg==\"></img></td>\n",
       "      <td id=\"T_099cc_row7_col5\" class=\"data row7 col5\" >0<br>(0.0%)</td>\n",
       "    </tr>\n",
       "  </tbody>\n",
       "</table>\n"
      ],
      "text/plain": [
       "<pandas.io.formats.style.Styler at 0x322ce3910>"
      ]
     },
     "execution_count": 12,
     "metadata": {},
     "output_type": "execute_result"
    }
   ],
   "source": [
    "dfSummary(ticket_helpdesk)"
   ]
  },
  {
   "cell_type": "markdown",
   "metadata": {},
   "source": [
    "## Data Preprocessing & Cleaning"
   ]
  },
  {
   "cell_type": "code",
   "execution_count": 13,
   "metadata": {},
   "outputs": [],
   "source": [
    "# Drop columns with missing values\n",
    "ticket_helpdesk = ticket_helpdesk.drop(columns=['software_used', 'hardware_used', 'accounting_category'])"
   ]
  },
  {
   "cell_type": "code",
   "execution_count": 14,
   "metadata": {},
   "outputs": [],
   "source": [
    "# Keep only de and en languages\n",
    "ticket_helpdesk = ticket_helpdesk[ticket_helpdesk['language'].isin(['de', 'en'])]"
   ]
  },
  {
   "cell_type": "code",
   "execution_count": 15,
   "metadata": {},
   "outputs": [
    {
     "name": "stderr",
     "output_type": "stream",
     "text": [
      "2024-12-19 18:28:43,046 - INFO     - Using categorical units to plot a list of strings that are all parsable as floats or dates. If these strings should be plotted as numbers, cast to the appropriate data type before plotting.\n",
      "2024-12-19 18:28:43,046 - INFO     - Using categorical units to plot a list of strings that are all parsable as floats or dates. If these strings should be plotted as numbers, cast to the appropriate data type before plotting.\n"
     ]
    },
    {
     "data": {
      "text/html": [
       "<style type=\"text/css\">\n",
       "#T_62ad9 thead>tr>th {\n",
       "  text-align: left;\n",
       "}\n",
       "#T_62ad9_row0_col0, #T_62ad9_row1_col0, #T_62ad9_row2_col0 {\n",
       "  text-align: left;\n",
       "  font-size: 12px;\n",
       "  vertical-align: middle;\n",
       "  width: 5%;\n",
       "  max-width: 50px;\n",
       "  min-width: 20px;\n",
       "}\n",
       "#T_62ad9_row0_col1, #T_62ad9_row1_col1, #T_62ad9_row2_col1 {\n",
       "  text-align: left;\n",
       "  font-size: 12px;\n",
       "  vertical-align: middle;\n",
       "  width: 15%;\n",
       "  max-width: 200px;\n",
       "  min-width: 100px;\n",
       "  word-break: break-word;\n",
       "}\n",
       "#T_62ad9_row0_col2, #T_62ad9_row1_col2, #T_62ad9_row2_col2 {\n",
       "  text-align: left;\n",
       "  font-size: 12px;\n",
       "  vertical-align: middle;\n",
       "  width: 30%;\n",
       "  min-width: 100px;\n",
       "}\n",
       "#T_62ad9_row0_col3, #T_62ad9_row1_col3, #T_62ad9_row2_col3 {\n",
       "  text-align: left;\n",
       "  font-size: 12px;\n",
       "  vertical-align: middle;\n",
       "  width: 25%;\n",
       "  min-width: 100px;\n",
       "}\n",
       "#T_62ad9_row0_col4, #T_62ad9_row1_col4, #T_62ad9_row2_col4 {\n",
       "  text-align: left;\n",
       "  font-size: 12px;\n",
       "  vertical-align: middle;\n",
       "  width: 20%;\n",
       "  min-width: 150px;\n",
       "}\n",
       "#T_62ad9_row0_col5, #T_62ad9_row1_col5, #T_62ad9_row2_col5 {\n",
       "  text-align: left;\n",
       "  font-size: 12px;\n",
       "  vertical-align: middle;\n",
       "  width: 10%;\n",
       "}\n",
       "</style>\n",
       "<table id=\"T_62ad9\">\n",
       "  <caption><strong>Data Frame Summary</strong><br><br>Dimensions: 125 x 3<br>Duplicates: 107</caption>\n",
       "  <thead>\n",
       "    <tr>\n",
       "      <th id=\"T_62ad9_level0_col0\" class=\"col_heading level0 col0\" >No</th>\n",
       "      <th id=\"T_62ad9_level0_col1\" class=\"col_heading level0 col1\" >Variable</th>\n",
       "      <th id=\"T_62ad9_level0_col2\" class=\"col_heading level0 col2\" >Stats / Values</th>\n",
       "      <th id=\"T_62ad9_level0_col3\" class=\"col_heading level0 col3\" >Freqs / (% of Valid)</th>\n",
       "      <th id=\"T_62ad9_level0_col4\" class=\"col_heading level0 col4\" >Graph</th>\n",
       "      <th id=\"T_62ad9_level0_col5\" class=\"col_heading level0 col5\" >Missing</th>\n",
       "    </tr>\n",
       "  </thead>\n",
       "  <tbody>\n",
       "    <tr>\n",
       "      <td id=\"T_62ad9_row0_col0\" class=\"data row0 col0\" >1</td>\n",
       "      <td id=\"T_62ad9_row0_col1\" class=\"data row0 col1\" ><strong>language</strong><br>[object]</td>\n",
       "      <td id=\"T_62ad9_row0_col2\" class=\"data row0 col2\" >1. en<br>2. de</td>\n",
       "      <td id=\"T_62ad9_row0_col3\" class=\"data row0 col3\" >78 (62.4%)<br>47 (37.6%)</td>\n",
       "      <td id=\"T_62ad9_row0_col4\" class=\"data row0 col4\" ><img src = \"data:image/png;base64, iVBORw0KGgoAAAANSUhEUgAAAJsAAAAuCAYAAAA/ZmtKAAAAOXRFWHRTb2Z0d2FyZQBNYXRwbG90bGliIHZlcnNpb24zLjguNCwgaHR0cHM6Ly9tYXRwbG90bGliLm9yZy8fJSN1AAAACXBIWXMAAA9hAAAPYQGoP6dpAAABN0lEQVR4nO3bQWrDMBCF4VExodlIGIMP40P0sD2EbmOMtWhCNuqiZ8gb1fN/J5iEH0OCX+q9G6CQzOxuZjfvQ4J79d4f3ke827Qsy1fOefY+JLLW2pFS+r56cFPOed627VFKeXofE9F5np+11nnf95uZXTs2M7NSynNd1x/vYwK7ex+g8OF9AOIgNsgQG2SIDTLEBhligwyxQYbYIENskCE2yBAbZIgNMsQGGWKDDLFBZjL7e4HP+5CoIn33U2vtqLXOFuQFvhG11g4ze3nf8W4MXsYQYvCSmPJBJdKTLcTTY2RhpnxR5nIjCzHlizSXG1mkKR+/tp3xpy5kiA0yxAYZYoMMsUGG2CBDbJAhNsgQG2SIDTLEBhligwyxQYbYIENskAkx5bv65/svwkz5oszlRsbgBTK/Cltq36Cso0UAAAAASUVORK5CYII=\"></img></td>\n",
       "      <td id=\"T_62ad9_row0_col5\" class=\"data row0 col5\" >0<br>(0.0%)</td>\n",
       "    </tr>\n",
       "    <tr>\n",
       "      <td id=\"T_62ad9_row1_col0\" class=\"data row1 col0\" >2</td>\n",
       "      <td id=\"T_62ad9_row1_col1\" class=\"data row1 col1\" ><strong>department</strong><br>[object]</td>\n",
       "      <td id=\"T_62ad9_row1_col2\" class=\"data row1 col2\" >1. Hardware<br>2. Software<br>3. Accounting</td>\n",
       "      <td id=\"T_62ad9_row1_col3\" class=\"data row1 col3\" >48 (38.4%)<br>46 (36.8%)<br>31 (24.8%)</td>\n",
       "      <td id=\"T_62ad9_row1_col4\" class=\"data row1 col4\" ><img src = \"data:image/png;base64, iVBORw0KGgoAAAANSUhEUgAAAJsAAABFCAYAAABdVZTTAAAAOXRFWHRTb2Z0d2FyZQBNYXRwbG90bGliIHZlcnNpb24zLjguNCwgaHR0cHM6Ly9tYXRwbG90bGliLm9yZy8fJSN1AAAACXBIWXMAAA9hAAAPYQGoP6dpAAABkElEQVR4nO3bwWnDQBBG4VEQJr5ICIOKUREpNkWoG2O8h9j4ohzSQvJ2svu+CsbwsJHwPxzHERLhrfYB6scQEeeIONU+BPQ6juNR+4gejZfL5WOapqX2IZRSym0Yhk+D443TNC3btj3meX7WPuav3e/3933fl+v1eooIY4ONERHzPD/Xdf2qfQzkXPuAXvmAIIyxCWNswhibMMYmjLEJY2zCGJswxiaMsQljbMIYmzDGJoyxCTNG/PzPq/YhhF4+Z1ZjKeW27/sSnfzPq5Ryi4hX7Tt65AZBmMEpnyi9fLP5bZZAF+sqF1U5NL+uclGVRy/rqi6etLPzpa4wxiaMsQljbMIYmzDGJoyxCWNswhibMMYmjLEJY2zCGJswxiZM8+uqlj/bf9PFuspFVQ5uEIRxXSWMDwjCZP4Z9aevMWmnfM7v2pNyyuf8rk2Zp3zNvorplQ8IwhibMMYmjLEJY2zCGJswxiaMsQljbMIYmzDGJoyxCWNswhibMCmnfNnu0e9IO+VzftceNwjCOOUT5htKvKNKsWiazQAAAABJRU5ErkJggg==\"></img></td>\n",
       "      <td id=\"T_62ad9_row1_col5\" class=\"data row1 col5\" >0<br>(0.0%)</td>\n",
       "    </tr>\n",
       "    <tr>\n",
       "      <td id=\"T_62ad9_row2_col0\" class=\"data row2 col0\" >3</td>\n",
       "      <td id=\"T_62ad9_row2_col1\" class=\"data row2 col1\" ><strong>priority</strong><br>[int64]</td>\n",
       "      <td id=\"T_62ad9_row2_col2\" class=\"data row2 col2\" >1. 3<br>2. 2<br>3. 1</td>\n",
       "      <td id=\"T_62ad9_row2_col3\" class=\"data row2 col3\" >52 (41.6%)<br>45 (36.0%)<br>28 (22.4%)</td>\n",
       "      <td id=\"T_62ad9_row2_col4\" class=\"data row2 col4\" ><img src = \"data:image/png;base64, iVBORw0KGgoAAAANSUhEUgAAAJsAAABFCAYAAABdVZTTAAAAOXRFWHRTb2Z0d2FyZQBNYXRwbG90bGliIHZlcnNpb24zLjguNCwgaHR0cHM6Ly9tYXRwbG90bGliLm9yZy8fJSN1AAAACXBIWXMAAA9hAAAPYQGoP6dpAAABk0lEQVR4nO3bQYrCQBBG4coQZNwkBMHDeIg57BwitwliL0Zxk1l4Bl+13e87QQkPJcF/2Pc9JMJX9gHqxxARx4g4ZB+S6Lnv+z37iB6Mp9PpZ5qmJfuQLKWU6zAMvwb3fuM0TcvlcrnP8/zIPoZ2u92+13Vdtm07RISxvdkYETHP8+N8Pv9lH5PkmH1AL3xAEMbYhDE2YYxNGGMTxtiEMTZhjE0YYxPG2IQxNmGMTRhjE8bYhBkjXv/ryj4kQ6+fO8tYSrmu67pEp//rKqVcI+KZfUcP3CC4QcAMTvlE6eGbzW+uSjS/rnI9VY+m11Wup+rSw7qqy6fsGvlSVxhjE8bYhDE2YYxNGGMTxtiEMTZhjE0YYxPG2IQxNmGMTRhjE6bpdVWrn+tTNb+ucj1VDzcIwriuEsYHBGFq+xn1J69hVU35nN21rZopn7O79tU25Wvy9YtefEAQxtiEMTZhjE0YYxPG2IQxNmGMTRhjE8bYhDE2YYxNGGMTxtiEqWbKV8MNeq+qpnzO7trmBkEYp3zC/ANKvKNKBzZUdgAAAABJRU5ErkJggg==\"></img></td>\n",
       "      <td id=\"T_62ad9_row2_col5\" class=\"data row2 col5\" >0<br>(0.0%)</td>\n",
       "    </tr>\n",
       "  </tbody>\n",
       "</table>\n"
      ],
      "text/plain": [
       "<pandas.io.formats.style.Styler at 0x32ec26c90>"
      ]
     },
     "execution_count": 15,
     "metadata": {},
     "output_type": "execute_result"
    }
   ],
   "source": [
    "dfSummary(ticket_helpdesk[[\"language\", \"department\", \"priority\"]])"
   ]
  },
  {
   "cell_type": "markdown",
   "metadata": {},
   "source": [
    "## Data Preparation"
   ]
  },
  {
   "cell_type": "code",
   "execution_count": 16,
   "metadata": {},
   "outputs": [
    {
     "data": {
      "text/plain": [
       "(125, 5)"
      ]
     },
     "execution_count": 16,
     "metadata": {},
     "output_type": "execute_result"
    }
   ],
   "source": [
    "df = ticket_helpdesk.copy()\n",
    "assert df.shape == ticket_helpdesk.shape\n",
    "\n",
    "df.shape"
   ]
  },
  {
   "cell_type": "code",
   "execution_count": 17,
   "metadata": {},
   "outputs": [
    {
     "data": {
      "text/plain": [
       "((100, 5), (20, 5), (5, 5))"
      ]
     },
     "execution_count": 17,
     "metadata": {},
     "output_type": "execute_result"
    }
   ],
   "source": [
    "# Split: Use 5 random rows for few-shot learning, 20 for validation, and the rest for training\n",
    "df_few_shot = df.sample(5, random_state=42)\n",
    "df = df.drop(df_few_shot.index)\n",
    "\n",
    "df_val = df.sample(20, random_state=42)\n",
    "df = df.drop(df_val.index)\n",
    "\n",
    "df.shape, df_val.shape, df_few_shot.shape"
   ]
  },
  {
   "cell_type": "code",
   "execution_count": 18,
   "metadata": {},
   "outputs": [
    {
     "name": "stderr",
     "output_type": "stream",
     "text": [
      "2024-12-19 18:28:43,131 - INFO     - Using categorical units to plot a list of strings that are all parsable as floats or dates. If these strings should be plotted as numbers, cast to the appropriate data type before plotting.\n",
      "2024-12-19 18:28:43,131 - INFO     - Using categorical units to plot a list of strings that are all parsable as floats or dates. If these strings should be plotted as numbers, cast to the appropriate data type before plotting.\n"
     ]
    },
    {
     "data": {
      "text/html": [
       "<style type=\"text/css\">\n",
       "#T_2f173 thead>tr>th {\n",
       "  text-align: left;\n",
       "}\n",
       "#T_2f173_row0_col0, #T_2f173_row1_col0, #T_2f173_row2_col0 {\n",
       "  text-align: left;\n",
       "  font-size: 12px;\n",
       "  vertical-align: middle;\n",
       "  width: 5%;\n",
       "  max-width: 50px;\n",
       "  min-width: 20px;\n",
       "}\n",
       "#T_2f173_row0_col1, #T_2f173_row1_col1, #T_2f173_row2_col1 {\n",
       "  text-align: left;\n",
       "  font-size: 12px;\n",
       "  vertical-align: middle;\n",
       "  width: 15%;\n",
       "  max-width: 200px;\n",
       "  min-width: 100px;\n",
       "  word-break: break-word;\n",
       "}\n",
       "#T_2f173_row0_col2, #T_2f173_row1_col2, #T_2f173_row2_col2 {\n",
       "  text-align: left;\n",
       "  font-size: 12px;\n",
       "  vertical-align: middle;\n",
       "  width: 30%;\n",
       "  min-width: 100px;\n",
       "}\n",
       "#T_2f173_row0_col3, #T_2f173_row1_col3, #T_2f173_row2_col3 {\n",
       "  text-align: left;\n",
       "  font-size: 12px;\n",
       "  vertical-align: middle;\n",
       "  width: 25%;\n",
       "  min-width: 100px;\n",
       "}\n",
       "#T_2f173_row0_col4, #T_2f173_row1_col4, #T_2f173_row2_col4 {\n",
       "  text-align: left;\n",
       "  font-size: 12px;\n",
       "  vertical-align: middle;\n",
       "  width: 20%;\n",
       "  min-width: 150px;\n",
       "}\n",
       "#T_2f173_row0_col5, #T_2f173_row1_col5, #T_2f173_row2_col5 {\n",
       "  text-align: left;\n",
       "  font-size: 12px;\n",
       "  vertical-align: middle;\n",
       "  width: 10%;\n",
       "}\n",
       "</style>\n",
       "<table id=\"T_2f173\">\n",
       "  <caption><strong>Data Frame Summary</strong><br><br>Dimensions: 100 x 3<br>Duplicates: 82</caption>\n",
       "  <thead>\n",
       "    <tr>\n",
       "      <th id=\"T_2f173_level0_col0\" class=\"col_heading level0 col0\" >No</th>\n",
       "      <th id=\"T_2f173_level0_col1\" class=\"col_heading level0 col1\" >Variable</th>\n",
       "      <th id=\"T_2f173_level0_col2\" class=\"col_heading level0 col2\" >Stats / Values</th>\n",
       "      <th id=\"T_2f173_level0_col3\" class=\"col_heading level0 col3\" >Freqs / (% of Valid)</th>\n",
       "      <th id=\"T_2f173_level0_col4\" class=\"col_heading level0 col4\" >Graph</th>\n",
       "      <th id=\"T_2f173_level0_col5\" class=\"col_heading level0 col5\" >Missing</th>\n",
       "    </tr>\n",
       "  </thead>\n",
       "  <tbody>\n",
       "    <tr>\n",
       "      <td id=\"T_2f173_row0_col0\" class=\"data row0 col0\" >1</td>\n",
       "      <td id=\"T_2f173_row0_col1\" class=\"data row0 col1\" ><strong>language</strong><br>[object]</td>\n",
       "      <td id=\"T_2f173_row0_col2\" class=\"data row0 col2\" >1. en<br>2. de</td>\n",
       "      <td id=\"T_2f173_row0_col3\" class=\"data row0 col3\" >62 (62.0%)<br>38 (38.0%)</td>\n",
       "      <td id=\"T_2f173_row0_col4\" class=\"data row0 col4\" ><img src = \"data:image/png;base64, iVBORw0KGgoAAAANSUhEUgAAAJsAAAAuCAYAAAA/ZmtKAAAAOXRFWHRTb2Z0d2FyZQBNYXRwbG90bGliIHZlcnNpb24zLjguNCwgaHR0cHM6Ly9tYXRwbG90bGliLm9yZy8fJSN1AAAACXBIWXMAAA9hAAAPYQGoP6dpAAABNElEQVR4nO3bQWrDMBRF0a9iQjORMAYvJovoYrsI7cYYa9CETNRB9/Ak+u5ZwU+4GBL8Uu89AIUUEfeIuI0+xNi79/4cfYTCsm3bV855HX2Iq9bamVL6dghuyTmvj8fjWUp5jT7GzXVdn7XW9TiOW0T8/9giIkopr33ff0YfY+o++gCVj9EHwAexQYbYIENskCE2yBAbZIgNMsQGGWKDDLFBhtggQ2yQITbIEBtkiA0yS8TfS3yjD3Hk9r0vrbWz1rqG0Ut8M2mtnRHxHn2HAoOX8WwGL4kpH1Tcnmw2T5EZWU35nGZzM7KZ8rnN5mbkNuXjF/dA/KkLGWKDDLFBhtggQ2yQITbIEBtkiA0yxAYZYoMMsUGG2CBDbJAhNsgQG2RspnwOn3F2VlM+p9ncjBi8QOYXCltq37DnnSoAAAAASUVORK5CYII=\"></img></td>\n",
       "      <td id=\"T_2f173_row0_col5\" class=\"data row0 col5\" >0<br>(0.0%)</td>\n",
       "    </tr>\n",
       "    <tr>\n",
       "      <td id=\"T_2f173_row1_col0\" class=\"data row1 col0\" >2</td>\n",
       "      <td id=\"T_2f173_row1_col1\" class=\"data row1 col1\" ><strong>department</strong><br>[object]</td>\n",
       "      <td id=\"T_2f173_row1_col2\" class=\"data row1 col2\" >1. Software<br>2. Hardware<br>3. Accounting</td>\n",
       "      <td id=\"T_2f173_row1_col3\" class=\"data row1 col3\" >40 (40.0%)<br>36 (36.0%)<br>24 (24.0%)</td>\n",
       "      <td id=\"T_2f173_row1_col4\" class=\"data row1 col4\" ><img src = \"data:image/png;base64, iVBORw0KGgoAAAANSUhEUgAAAJsAAABFCAYAAABdVZTTAAAAOXRFWHRTb2Z0d2FyZQBNYXRwbG90bGliIHZlcnNpb24zLjguNCwgaHR0cHM6Ly9tYXRwbG90bGliLm9yZy8fJSN1AAAACXBIWXMAAA9hAAAPYQGoP6dpAAABj0lEQVR4nO3bwWnDQBBG4VEQJr5ICIGLcREpNkWoG2O0h9j4ohzSQng73n1fBWN42Ej4H47jCInwUfsA9WOIiHNEnGofUsHrOI5H7SN6Mq7r+jVN01L7EFop5T4Mw7fBccZpmpbr9fqY5/lZ+xjKvu+f27Ytt9vtFBHGBhkjIuZ5fl4ul5/ax8DOtQ/ojQ8IwhibMMYmjLEJY2zCGJswxiaMsQljbMIYmzDGJoyxCWNswhibMGPE3/+7ah9C6u3zZjGWUu7bti3R2f+7Sin3iHjVvqMnbhCEGZzyidLDN5vfYEk0v65yRZVH0+sqV1S59LCu6uopOzNf6gpjbMIYmzDGJoyxCWNswhibMMYmjLEJY2zCGJswxiaMsQljbMI0va5q9XO9q+bXVa6o8nCDIIzrKmF8QBAm68+oP30NSjnlc37XpnRTPud37co65WvyNUzvfEAQxtiEMTZhjE0YYxPG2IQxNmGMTRhjE8bYhDE2YYxNGGMTxtiESTfly3SL/lfKKZ/zuza5QRDGKZ8wv0q8o0p5VMC1AAAAAElFTkSuQmCC\"></img></td>\n",
       "      <td id=\"T_2f173_row1_col5\" class=\"data row1 col5\" >0<br>(0.0%)</td>\n",
       "    </tr>\n",
       "    <tr>\n",
       "      <td id=\"T_2f173_row2_col0\" class=\"data row2 col0\" >3</td>\n",
       "      <td id=\"T_2f173_row2_col1\" class=\"data row2 col1\" ><strong>priority</strong><br>[int64]</td>\n",
       "      <td id=\"T_2f173_row2_col2\" class=\"data row2 col2\" >1. 3<br>2. 2<br>3. 1</td>\n",
       "      <td id=\"T_2f173_row2_col3\" class=\"data row2 col3\" >46 (46.0%)<br>34 (34.0%)<br>20 (20.0%)</td>\n",
       "      <td id=\"T_2f173_row2_col4\" class=\"data row2 col4\" ><img src = \"data:image/png;base64, iVBORw0KGgoAAAANSUhEUgAAAJsAAABFCAYAAABdVZTTAAAAOXRFWHRTb2Z0d2FyZQBNYXRwbG90bGliIHZlcnNpb24zLjguNCwgaHR0cHM6Ly9tYXRwbG90bGliLm9yZy8fJSN1AAAACXBIWXMAAA9hAAAPYQGoP6dpAAABlklEQVR4nO3bQYoaURSF4VtBmvSkChFcjIvIYrOI2o2INUg3PakMMgwkEznv8er7VnCVH6XEM+37XpDwrfUBHMdUVe9V9db6kE597fv+0fqIUZwul8uPeZ7PrQ/p0bZtj2mafgruNU7zPJ9vt9vHsiyfrY/pyfP5/L6u6/l+v79Vldhe4FRVtSzL5/V6/dX6mA69tz5gJB4QiBEbMWIjRmzEiI0YsREjNmLERozYiBEbMWIjRmzEiI0YsRFzqvrz363Wh/TGe/J6p23bHuu6nst/t/6ybdujqr5a3zEKG4R/s0F4ocmUj5RRP9l8InVoyHWVVVSfhltXWUX1a9R1lSfrDvlRlxixESM2YsRGjNiIERsxYiNGbMSIjRixESM2YsRGjNiIERsxw62rRnotoxlyXWUV1ScbBGKsq4jxgEBM669RX3cH0nTKZ3J3LM2mfCZ3x9N6yjfMzy38nwcEYsRGjNiIERsxYiNGbMSIjRixESM2YsRGjNiIERsxYiNGbMQ0m/KZ3B1P0ymfyd2x2CAQY8pHzG9KvKNKK7BBYgAAAABJRU5ErkJggg==\"></img></td>\n",
       "      <td id=\"T_2f173_row2_col5\" class=\"data row2 col5\" >0<br>(0.0%)</td>\n",
       "    </tr>\n",
       "  </tbody>\n",
       "</table>\n"
      ],
      "text/plain": [
       "<pandas.io.formats.style.Styler at 0x32ebafad0>"
      ]
     },
     "execution_count": 18,
     "metadata": {},
     "output_type": "execute_result"
    }
   ],
   "source": [
    "dfSummary(df[[\"language\", \"department\", \"priority\"]])"
   ]
  },
  {
   "cell_type": "code",
   "execution_count": 19,
   "metadata": {},
   "outputs": [
    {
     "name": "stderr",
     "output_type": "stream",
     "text": [
      "2024-12-19 18:28:43,194 - INFO     - Using categorical units to plot a list of strings that are all parsable as floats or dates. If these strings should be plotted as numbers, cast to the appropriate data type before plotting.\n",
      "2024-12-19 18:28:43,195 - INFO     - Using categorical units to plot a list of strings that are all parsable as floats or dates. If these strings should be plotted as numbers, cast to the appropriate data type before plotting.\n"
     ]
    },
    {
     "data": {
      "text/html": [
       "<style type=\"text/css\">\n",
       "#T_ce2e3 thead>tr>th {\n",
       "  text-align: left;\n",
       "}\n",
       "#T_ce2e3_row0_col0, #T_ce2e3_row1_col0, #T_ce2e3_row2_col0 {\n",
       "  text-align: left;\n",
       "  font-size: 12px;\n",
       "  vertical-align: middle;\n",
       "  width: 5%;\n",
       "  max-width: 50px;\n",
       "  min-width: 20px;\n",
       "}\n",
       "#T_ce2e3_row0_col1, #T_ce2e3_row1_col1, #T_ce2e3_row2_col1 {\n",
       "  text-align: left;\n",
       "  font-size: 12px;\n",
       "  vertical-align: middle;\n",
       "  width: 15%;\n",
       "  max-width: 200px;\n",
       "  min-width: 100px;\n",
       "  word-break: break-word;\n",
       "}\n",
       "#T_ce2e3_row0_col2, #T_ce2e3_row1_col2, #T_ce2e3_row2_col2 {\n",
       "  text-align: left;\n",
       "  font-size: 12px;\n",
       "  vertical-align: middle;\n",
       "  width: 30%;\n",
       "  min-width: 100px;\n",
       "}\n",
       "#T_ce2e3_row0_col3, #T_ce2e3_row1_col3, #T_ce2e3_row2_col3 {\n",
       "  text-align: left;\n",
       "  font-size: 12px;\n",
       "  vertical-align: middle;\n",
       "  width: 25%;\n",
       "  min-width: 100px;\n",
       "}\n",
       "#T_ce2e3_row0_col4, #T_ce2e3_row1_col4, #T_ce2e3_row2_col4 {\n",
       "  text-align: left;\n",
       "  font-size: 12px;\n",
       "  vertical-align: middle;\n",
       "  width: 20%;\n",
       "  min-width: 150px;\n",
       "}\n",
       "#T_ce2e3_row0_col5, #T_ce2e3_row1_col5, #T_ce2e3_row2_col5 {\n",
       "  text-align: left;\n",
       "  font-size: 12px;\n",
       "  vertical-align: middle;\n",
       "  width: 10%;\n",
       "}\n",
       "</style>\n",
       "<table id=\"T_ce2e3\">\n",
       "  <caption><strong>Data Frame Summary</strong><br><br>Dimensions: 20 x 3<br>Duplicates: 8</caption>\n",
       "  <thead>\n",
       "    <tr>\n",
       "      <th id=\"T_ce2e3_level0_col0\" class=\"col_heading level0 col0\" >No</th>\n",
       "      <th id=\"T_ce2e3_level0_col1\" class=\"col_heading level0 col1\" >Variable</th>\n",
       "      <th id=\"T_ce2e3_level0_col2\" class=\"col_heading level0 col2\" >Stats / Values</th>\n",
       "      <th id=\"T_ce2e3_level0_col3\" class=\"col_heading level0 col3\" >Freqs / (% of Valid)</th>\n",
       "      <th id=\"T_ce2e3_level0_col4\" class=\"col_heading level0 col4\" >Graph</th>\n",
       "      <th id=\"T_ce2e3_level0_col5\" class=\"col_heading level0 col5\" >Missing</th>\n",
       "    </tr>\n",
       "  </thead>\n",
       "  <tbody>\n",
       "    <tr>\n",
       "      <td id=\"T_ce2e3_row0_col0\" class=\"data row0 col0\" >1</td>\n",
       "      <td id=\"T_ce2e3_row0_col1\" class=\"data row0 col1\" ><strong>language</strong><br>[object]</td>\n",
       "      <td id=\"T_ce2e3_row0_col2\" class=\"data row0 col2\" >1. en<br>2. de</td>\n",
       "      <td id=\"T_ce2e3_row0_col3\" class=\"data row0 col3\" >13 (65.0%)<br>7 (35.0%)</td>\n",
       "      <td id=\"T_ce2e3_row0_col4\" class=\"data row0 col4\" ><img src = \"data:image/png;base64, iVBORw0KGgoAAAANSUhEUgAAAJsAAAAuCAYAAAA/ZmtKAAAAOXRFWHRTb2Z0d2FyZQBNYXRwbG90bGliIHZlcnNpb24zLjguNCwgaHR0cHM6Ly9tYXRwbG90bGliLm9yZy8fJSN1AAAACXBIWXMAAA9hAAAPYQGoP6dpAAABO0lEQVR4nO3bwWnDQBRF0TdBmHgzQghUjIpIsSliuhFCs4iNN8rCkJC9/cb6uaeCb3wR2Oilfd8FOCRJZ0mn1ofgj9u+75fWRzxaN47jR855aH0IftVa15TSZ7TgupzzMM/zpe/7a+tjIG3b9l5KGZZlOUmKFZsk9X1/nabpq/Ux+HFufcAzvLU+AP8HscGG2GBDbLAhNtgQG2yIDTbEBhtigw2xwYbYYENssCE22BAbbIgNNp10f2Gv9SG4i/xddLXWtZQyKOgLe0dUa10l3Vrf8WgMXl5TyMFLYsoHl8hPtpBPhyMLO+WLOoc7spBTvshzuCOLPOXj1/WL4U9d2BAbbIgNNsQGG2KDDbHBhthgQ2ywITbYEBtsiA02xAYbYoMNscGG2GATcsoX7fNEEXbKF3UOd2QMXmDzDQpbat+zDfyfAAAAAElFTkSuQmCC\"></img></td>\n",
       "      <td id=\"T_ce2e3_row0_col5\" class=\"data row0 col5\" >0<br>(0.0%)</td>\n",
       "    </tr>\n",
       "    <tr>\n",
       "      <td id=\"T_ce2e3_row1_col0\" class=\"data row1 col0\" >2</td>\n",
       "      <td id=\"T_ce2e3_row1_col1\" class=\"data row1 col1\" ><strong>department</strong><br>[object]</td>\n",
       "      <td id=\"T_ce2e3_row1_col2\" class=\"data row1 col2\" >1. Hardware<br>2. Software<br>3. Accounting</td>\n",
       "      <td id=\"T_ce2e3_row1_col3\" class=\"data row1 col3\" >10 (50.0%)<br>5 (25.0%)<br>5 (25.0%)</td>\n",
       "      <td id=\"T_ce2e3_row1_col4\" class=\"data row1 col4\" ><img src = \"data:image/png;base64, iVBORw0KGgoAAAANSUhEUgAAAJsAAABFCAYAAABdVZTTAAAAOXRFWHRTb2Z0d2FyZQBNYXRwbG90bGliIHZlcnNpb24zLjguNCwgaHR0cHM6Ly9tYXRwbG90bGliLm9yZy8fJSN1AAAACXBIWXMAAA9hAAAPYQGoP6dpAAABgUlEQVR4nO3bwWnjYBSF0adBhMlGwhhcjIuYYqcIdWOM/0USslEW00CSgftLyjkVPMyHjYzusK5rQcKv3gfwcwxV9VxVT70P2aH3dV1fex+xJ+P5fP4zTdOp9yF701q7D8PwV3CfN07TdLper6/zPL/1PmYvHo/H72VZTrfb7amqxPZJY1XVPM9vl8vlpfcxO/Pc+4C98YBAjNiIERsxYiNGbMSIjRixESM2YsRGjNiIERsxYiNGbMSIjZix6t/7Wb0P2ROf1/eMrbX7siyn8n7Wl7TW7lX13vuOPbFB+D4bhC8aTPlI2fo3m2+PA9n0usqC6Vg2u66yYDqera+rPCEfiD91iREbMWIjRmzEiI0YsREjNmLERozYiBEbMWIjRmzEiI0YsRGz2XXVFm/i/2x6XWXBdCw2CMRYVxHjAYEYP6PEmPIRY8pHjCkfMR4QiBEbMWIjRmzEiI0YsREjNmLERozYiBEbMWIjRmzEiI0YsRFjykeMKR8xNgjEmPIR8wG+8aNK0V5brwAAAABJRU5ErkJggg==\"></img></td>\n",
       "      <td id=\"T_ce2e3_row1_col5\" class=\"data row1 col5\" >0<br>(0.0%)</td>\n",
       "    </tr>\n",
       "    <tr>\n",
       "      <td id=\"T_ce2e3_row2_col0\" class=\"data row2 col0\" >3</td>\n",
       "      <td id=\"T_ce2e3_row2_col1\" class=\"data row2 col1\" ><strong>priority</strong><br>[int64]</td>\n",
       "      <td id=\"T_ce2e3_row2_col2\" class=\"data row2 col2\" >1. 2<br>2. 1<br>3. 3</td>\n",
       "      <td id=\"T_ce2e3_row2_col3\" class=\"data row2 col3\" >8 (40.0%)<br>7 (35.0%)<br>5 (25.0%)</td>\n",
       "      <td id=\"T_ce2e3_row2_col4\" class=\"data row2 col4\" ><img src = \"data:image/png;base64, iVBORw0KGgoAAAANSUhEUgAAAJsAAABFCAYAAABdVZTTAAAAOXRFWHRTb2Z0d2FyZQBNYXRwbG90bGliIHZlcnNpb24zLjguNCwgaHR0cHM6Ly9tYXRwbG90bGliLm9yZy8fJSN1AAAACXBIWXMAAA9hAAAPYQGoP6dpAAABkElEQVR4nO3bwWnDQBBG4VEQJr5ICIGLcREpNkWoG2O0h9j4ohxSQuDtevZ9FYzhYSPhfziOIyTCR+0D1I8hIs4Rcap9SAWv4zgetY/oybiu69c0TUvtQ2illPswDN8GxxmnaVqu1+tjnudn7WMo+75/btu23G63U0QYG2SMiJjn+Xm5XH5qHwM71z6gNz4gCGNswhibMMYmjLEJY2zCGJswxiaMsQljbMIYmzDGJoyxCWNswowRf//vqn0IqbfP24qxlHLftm2Jzv7fVUq5R8Sr9h09cYMgzOCUT5TM32x+czUm7brK9VR7Uq6rXE+1KfO6qqun63fgS11hjE0YYxPG2IQxNmGMTRhjE8bYhDE2YYxNGGMTxtiEMTZhjE2YlOuqbJ8ni7TrKtdT7XGDIIzrKmF8QBCm9Z9RfwoTaXrK5xwvl2anfM7x8ml9ypfqdUzvfEAQxtiEMTZhjE0YYxPG2IQxNmGMTRhjE8bYhDE2YYxNGGMTxtiEaXbK1+JN+p+mp3zO8XJxgyCMUz5hfgFKvKNK9YP+xwAAAABJRU5ErkJggg==\"></img></td>\n",
       "      <td id=\"T_ce2e3_row2_col5\" class=\"data row2 col5\" >0<br>(0.0%)</td>\n",
       "    </tr>\n",
       "  </tbody>\n",
       "</table>\n"
      ],
      "text/plain": [
       "<pandas.io.formats.style.Styler at 0x32eaabf50>"
      ]
     },
     "execution_count": 19,
     "metadata": {},
     "output_type": "execute_result"
    }
   ],
   "source": [
    "dfSummary(df_val[[\"language\", \"department\", \"priority\"]])"
   ]
  },
  {
   "cell_type": "code",
   "execution_count": 20,
   "metadata": {},
   "outputs": [
    {
     "name": "stderr",
     "output_type": "stream",
     "text": [
      "2024-12-19 18:28:43,269 - INFO     - Using categorical units to plot a list of strings that are all parsable as floats or dates. If these strings should be plotted as numbers, cast to the appropriate data type before plotting.\n",
      "2024-12-19 18:28:43,270 - INFO     - Using categorical units to plot a list of strings that are all parsable as floats or dates. If these strings should be plotted as numbers, cast to the appropriate data type before plotting.\n"
     ]
    },
    {
     "data": {
      "text/html": [
       "<style type=\"text/css\">\n",
       "#T_c32e2 thead>tr>th {\n",
       "  text-align: left;\n",
       "}\n",
       "#T_c32e2_row0_col0, #T_c32e2_row1_col0, #T_c32e2_row2_col0 {\n",
       "  text-align: left;\n",
       "  font-size: 12px;\n",
       "  vertical-align: middle;\n",
       "  width: 5%;\n",
       "  max-width: 50px;\n",
       "  min-width: 20px;\n",
       "}\n",
       "#T_c32e2_row0_col1, #T_c32e2_row1_col1, #T_c32e2_row2_col1 {\n",
       "  text-align: left;\n",
       "  font-size: 12px;\n",
       "  vertical-align: middle;\n",
       "  width: 15%;\n",
       "  max-width: 200px;\n",
       "  min-width: 100px;\n",
       "  word-break: break-word;\n",
       "}\n",
       "#T_c32e2_row0_col2, #T_c32e2_row1_col2, #T_c32e2_row2_col2 {\n",
       "  text-align: left;\n",
       "  font-size: 12px;\n",
       "  vertical-align: middle;\n",
       "  width: 30%;\n",
       "  min-width: 100px;\n",
       "}\n",
       "#T_c32e2_row0_col3, #T_c32e2_row1_col3, #T_c32e2_row2_col3 {\n",
       "  text-align: left;\n",
       "  font-size: 12px;\n",
       "  vertical-align: middle;\n",
       "  width: 25%;\n",
       "  min-width: 100px;\n",
       "}\n",
       "#T_c32e2_row0_col4, #T_c32e2_row1_col4, #T_c32e2_row2_col4 {\n",
       "  text-align: left;\n",
       "  font-size: 12px;\n",
       "  vertical-align: middle;\n",
       "  width: 20%;\n",
       "  min-width: 150px;\n",
       "}\n",
       "#T_c32e2_row0_col5, #T_c32e2_row1_col5, #T_c32e2_row2_col5 {\n",
       "  text-align: left;\n",
       "  font-size: 12px;\n",
       "  vertical-align: middle;\n",
       "  width: 10%;\n",
       "}\n",
       "</style>\n",
       "<table id=\"T_c32e2\">\n",
       "  <caption><strong>Data Frame Summary</strong><br><br>Dimensions: 5 x 3<br>Duplicates: 0</caption>\n",
       "  <thead>\n",
       "    <tr>\n",
       "      <th id=\"T_c32e2_level0_col0\" class=\"col_heading level0 col0\" >No</th>\n",
       "      <th id=\"T_c32e2_level0_col1\" class=\"col_heading level0 col1\" >Variable</th>\n",
       "      <th id=\"T_c32e2_level0_col2\" class=\"col_heading level0 col2\" >Stats / Values</th>\n",
       "      <th id=\"T_c32e2_level0_col3\" class=\"col_heading level0 col3\" >Freqs / (% of Valid)</th>\n",
       "      <th id=\"T_c32e2_level0_col4\" class=\"col_heading level0 col4\" >Graph</th>\n",
       "      <th id=\"T_c32e2_level0_col5\" class=\"col_heading level0 col5\" >Missing</th>\n",
       "    </tr>\n",
       "  </thead>\n",
       "  <tbody>\n",
       "    <tr>\n",
       "      <td id=\"T_c32e2_row0_col0\" class=\"data row0 col0\" >1</td>\n",
       "      <td id=\"T_c32e2_row0_col1\" class=\"data row0 col1\" ><strong>language</strong><br>[object]</td>\n",
       "      <td id=\"T_c32e2_row0_col2\" class=\"data row0 col2\" >1. en<br>2. de</td>\n",
       "      <td id=\"T_c32e2_row0_col3\" class=\"data row0 col3\" >3 (60.0%)<br>2 (40.0%)</td>\n",
       "      <td id=\"T_c32e2_row0_col4\" class=\"data row0 col4\" ><img src = \"data:image/png;base64, iVBORw0KGgoAAAANSUhEUgAAAJsAAAAuCAYAAAA/ZmtKAAAAOXRFWHRTb2Z0d2FyZQBNYXRwbG90bGliIHZlcnNpb24zLjguNCwgaHR0cHM6Ly9tYXRwbG90bGliLm9yZy8fJSN1AAAACXBIWXMAAA9hAAAPYQGoP6dpAAABMUlEQVR4nO3bwWnDQBRF0T9BmHgzgxC4GBWRYlPEdCOEZhEbbyaL9PB+4N1Twbe5CGz0ypwzAIUSEfeIuGUfYuY953xmH6G2bNv2VWtdsw9xMsY4SynfbsEttdZ13/dna+2VfYyD67o+e+/rcRy3iPCKLSKitfZ6PB4/2ccYuWcfkOEj+wD4IDbIEBtkiA0yxAYZYoMMsUGG2CBDbJAhNsgQG2SIDTLEBhligwyxQWaJ+HuhL/sQF87f9TLGOHvva5i+0JdhjHFGxDv7DjUGLzksBy+FKR9UnJ9slk+XTLZTPtc5XSbLKZ/znC6T85SPX99i/KkLGWKDDLFBhtggQ2yQITbIEBtkiA0yxAYZYoMMsUGG2CBDbJAhNsgQG2Qsp3xun/e/sJ3yuc7pMjF4gcwvCltq33xJpBkAAAAASUVORK5CYII=\"></img></td>\n",
       "      <td id=\"T_c32e2_row0_col5\" class=\"data row0 col5\" >0<br>(0.0%)</td>\n",
       "    </tr>\n",
       "    <tr>\n",
       "      <td id=\"T_c32e2_row1_col0\" class=\"data row1 col0\" >2</td>\n",
       "      <td id=\"T_c32e2_row1_col1\" class=\"data row1 col1\" ><strong>department</strong><br>[object]</td>\n",
       "      <td id=\"T_c32e2_row1_col2\" class=\"data row1 col2\" >1. Accounting<br>2. Hardware<br>3. Software</td>\n",
       "      <td id=\"T_c32e2_row1_col3\" class=\"data row1 col3\" >2 (40.0%)<br>2 (40.0%)<br>1 (20.0%)</td>\n",
       "      <td id=\"T_c32e2_row1_col4\" class=\"data row1 col4\" ><img src = \"data:image/png;base64, iVBORw0KGgoAAAANSUhEUgAAAJsAAABFCAYAAABdVZTTAAAAOXRFWHRTb2Z0d2FyZQBNYXRwbG90bGliIHZlcnNpb24zLjguNCwgaHR0cHM6Ly9tYXRwbG90bGliLm9yZy8fJSN1AAAACXBIWXMAAA9hAAAPYQGoP6dpAAABdUlEQVR4nO3bQWrCUBSF4ZsSpE4SRHAxLqKL7SKyGxHfoIqTdNA9nFd437eCK/woCZ5p3/eChI/eBzCOqaqOVXXofUgH733fn72PGMl8Pp+/lmU59T4krbV2n6bpW3A587Isp+v1+lzX9dX7mJTH4/G5bdvpdrsdqkpsIXNV1bqur8vl8tP7mLBj7wNG4wGBGLERIzZixEaM2IgRGzFiI0ZsxIiNGLERIzZixEaM2IgRGzFz1d//u3ofkjTa5/0v5tbafdu2Uw32/67W2r2q3r3vGIkNAjGTKR8pvtmIsa4SXIx1lXVVjHUVMV7qEiM2YsRGjNiIERsxYiNGbMSIjRixESM2YsRGjNiIERsxYiPGuooY6ypibBCIsa4ixgMCMb1/Rv2UDaTrlM+cbizdpnzmdOPpPeUb6nXL6DwgECM2YsRGjNiIERsxYiNGbMSIjRixESM2YsRGjNiIERsxYiOm25TPnG48Xad85nRjsUEgxpSPmF9KvKNKKutCbQAAAABJRU5ErkJggg==\"></img></td>\n",
       "      <td id=\"T_c32e2_row1_col5\" class=\"data row1 col5\" >0<br>(0.0%)</td>\n",
       "    </tr>\n",
       "    <tr>\n",
       "      <td id=\"T_c32e2_row2_col0\" class=\"data row2 col0\" >3</td>\n",
       "      <td id=\"T_c32e2_row2_col1\" class=\"data row2 col1\" ><strong>priority</strong><br>[int64]</td>\n",
       "      <td id=\"T_c32e2_row2_col2\" class=\"data row2 col2\" >1. 2<br>2. 1<br>3. 3</td>\n",
       "      <td id=\"T_c32e2_row2_col3\" class=\"data row2 col3\" >3 (60.0%)<br>1 (20.0%)<br>1 (20.0%)</td>\n",
       "      <td id=\"T_c32e2_row2_col4\" class=\"data row2 col4\" ><img src = \"data:image/png;base64, iVBORw0KGgoAAAANSUhEUgAAAJsAAABFCAYAAABdVZTTAAAAOXRFWHRTb2Z0d2FyZQBNYXRwbG90bGliIHZlcnNpb24zLjguNCwgaHR0cHM6Ly9tYXRwbG90bGliLm9yZy8fJSN1AAAACXBIWXMAAA9hAAAPYQGoP6dpAAABeUlEQVR4nO3bwWnDUBAG4VUQJr5ICIGKcREpNkW8boTQO9jGF+WQHmYPO18FixnbyPgfrusKifCVfYDqGCLiHhG37EOK+VzX9co+gjau6/ozTdOSfUglvfdjGIbfasGN0zQtj8fjNc/zO/uYCs7z/G6tLfu+3yKiVmwREfM8v7dte2YfU8g9+4AMPiAIY2zCGJswxiaMsQljbMIYmzDGJoyxCWNswhibMMYmjLEJY2zCjBH//7HKPqSKyq/12Hs/WmtLFP2PVYbe+xERn+w7aG4QcpTcIAxO+UTJ/mQr+Q6vKnVdVXVlVFXauqryyqiq7HWVT8CF+KOuMMYmjLEJY2zCGJswxiaMsQljbMIYmzDGJoyxCWNswhibMMYmTNq6qvLKqKrUdVXVlVFVbhCEcV0ljA8Iwvg1KoxTPmGc8gnjlE8YHxCEMTZhjE0YYxPG2IQxNmGMTRhjE8bYhDE2YYxNGGMTxtiEMTZhnPIJ45RPGDcIwjjlE+YPSryjSkqPt8AAAAAASUVORK5CYII=\"></img></td>\n",
       "      <td id=\"T_c32e2_row2_col5\" class=\"data row2 col5\" >0<br>(0.0%)</td>\n",
       "    </tr>\n",
       "  </tbody>\n",
       "</table>\n"
      ],
      "text/plain": [
       "<pandas.io.formats.style.Styler at 0x32ea6f710>"
      ]
     },
     "execution_count": 20,
     "metadata": {},
     "output_type": "execute_result"
    }
   ],
   "source": [
    "dfSummary(df_few_shot[[\"language\", \"department\", \"priority\"]])"
   ]
  },
  {
   "cell_type": "markdown",
   "metadata": {},
   "source": [
    "## Simple Classification Model"
   ]
  },
  {
   "cell_type": "code",
   "execution_count": 21,
   "metadata": {},
   "outputs": [
    {
     "data": {
      "text/html": [
       "<div>\n",
       "<style scoped>\n",
       "    .dataframe tbody tr th:only-of-type {\n",
       "        vertical-align: middle;\n",
       "    }\n",
       "\n",
       "    .dataframe tbody tr th {\n",
       "        vertical-align: top;\n",
       "    }\n",
       "\n",
       "    .dataframe thead th {\n",
       "        text-align: right;\n",
       "    }\n",
       "</style>\n",
       "<table border=\"1\" class=\"dataframe\">\n",
       "  <thead>\n",
       "    <tr style=\"text-align: right;\">\n",
       "      <th></th>\n",
       "      <th>Metric</th>\n",
       "      <th>Priority</th>\n",
       "      <th>Department</th>\n",
       "    </tr>\n",
       "  </thead>\n",
       "  <tbody>\n",
       "    <tr>\n",
       "      <th>0</th>\n",
       "      <td>Accuracy</td>\n",
       "      <td>0.680556</td>\n",
       "      <td>0.677083</td>\n",
       "    </tr>\n",
       "    <tr>\n",
       "      <th>1</th>\n",
       "      <td>F1 Score</td>\n",
       "      <td>0.614372</td>\n",
       "      <td>0.618674</td>\n",
       "    </tr>\n",
       "    <tr>\n",
       "      <th>2</th>\n",
       "      <td>Recall</td>\n",
       "      <td>0.600000</td>\n",
       "      <td>0.600000</td>\n",
       "    </tr>\n",
       "    <tr>\n",
       "      <th>3</th>\n",
       "      <td>Precision</td>\n",
       "      <td>0.680556</td>\n",
       "      <td>0.677083</td>\n",
       "    </tr>\n",
       "  </tbody>\n",
       "</table>\n",
       "</div>"
      ],
      "text/plain": [
       "      Metric  Priority  Department\n",
       "0   Accuracy  0.680556    0.677083\n",
       "1   F1 Score  0.614372    0.618674\n",
       "2     Recall  0.600000    0.600000\n",
       "3  Precision  0.680556    0.677083"
      ]
     },
     "execution_count": 21,
     "metadata": {},
     "output_type": "execute_result"
    }
   ],
   "source": [
    "# Combine 'subject' and 'text' into a single feature\n",
    "df[\"combined_text\"] = df[\"subject\"] + \" \" + df[\"text\"]\n",
    "\n",
    "# Transform text data into numerical features\n",
    "vectorizer = CountVectorizer()\n",
    "X_train = vectorizer.fit_transform(df[\"combined_text\"])\n",
    "y_train = df[\"department\"]\n",
    "\n",
    "# Train a Multinomial Naive Bayes classifier\n",
    "nb_clf = MultinomialNB()\n",
    "nb_clf.fit(X_train, y_train)\n",
    "\n",
    "# Prepare validation data\n",
    "df_val[\"combined_text\"] = df_val[\"subject\"] + \" \" + df_val[\"text\"]\n",
    "X_val = vectorizer.transform(df_val[\"combined_text\"])\n",
    "y_val = df_val[\"department\"]\n",
    "\n",
    "# Predict on validation data\n",
    "y_pred_nb = nb_clf.predict(X_val)\n",
    "\n",
    "# Evaluate the model\n",
    "# Generate classification report\n",
    "report = classification_report(y_val, y_pred_nb, output_dict=True)\n",
    "\n",
    "# Extract metrics for 'priority' and 'department'\n",
    "priority_metrics = report[\"macro avg\"]\n",
    "department_metrics = report[\"weighted avg\"]\n",
    "\n",
    "# Create a DataFrame to display the metrics\n",
    "metrics_df = pd.DataFrame(\n",
    "    {\n",
    "        \"Metric\": [\"Accuracy\", \"F1 Score\", \"Recall\", \"Precision\"],\n",
    "        \"Priority\": [\n",
    "            priority_metrics[\"precision\"],\n",
    "            priority_metrics[\"f1-score\"],\n",
    "            priority_metrics[\"recall\"],\n",
    "            priority_metrics[\"precision\"],\n",
    "        ],\n",
    "        \"Department\": [\n",
    "            department_metrics[\"precision\"],\n",
    "            department_metrics[\"f1-score\"],\n",
    "            department_metrics[\"recall\"],\n",
    "            department_metrics[\"precision\"],\n",
    "        ],\n",
    "    }\n",
    ")\n",
    "\n",
    "metrics_df"
   ]
  },
  {
   "cell_type": "code",
   "execution_count": 22,
   "metadata": {},
   "outputs": [
    {
     "name": "stdout",
     "output_type": "stream",
     "text": [
      "Best alpha parameter: {'alpha': 0.1}\n"
     ]
    }
   ],
   "source": [
    "# Parameter tuning\n",
    "\n",
    "from sklearn.model_selection import GridSearchCV\n",
    "\n",
    "parameters = {\n",
    "    'alpha': [0.1, 0.5, 1.0, 2.0, 5.0]\n",
    "}\n",
    "\n",
    "grid_search = GridSearchCV(MultinomialNB(), parameters, cv=5)\n",
    "grid_search.fit(X_train, y_train)\n",
    "print(\"Best alpha parameter:\", grid_search.best_params_)"
   ]
  },
  {
   "cell_type": "code",
   "execution_count": 23,
   "metadata": {},
   "outputs": [
    {
     "data": {
      "text/html": [
       "<div>\n",
       "<style scoped>\n",
       "    .dataframe tbody tr th:only-of-type {\n",
       "        vertical-align: middle;\n",
       "    }\n",
       "\n",
       "    .dataframe tbody tr th {\n",
       "        vertical-align: top;\n",
       "    }\n",
       "\n",
       "    .dataframe thead th {\n",
       "        text-align: right;\n",
       "    }\n",
       "</style>\n",
       "<table border=\"1\" class=\"dataframe\">\n",
       "  <thead>\n",
       "    <tr style=\"text-align: right;\">\n",
       "      <th></th>\n",
       "      <th>Metric</th>\n",
       "      <th>Priority</th>\n",
       "      <th>Department</th>\n",
       "    </tr>\n",
       "  </thead>\n",
       "  <tbody>\n",
       "    <tr>\n",
       "      <th>0</th>\n",
       "      <td>Accuracy</td>\n",
       "      <td>0.709524</td>\n",
       "      <td>0.707143</td>\n",
       "    </tr>\n",
       "    <tr>\n",
       "      <th>1</th>\n",
       "      <td>F1 Score</td>\n",
       "      <td>0.650000</td>\n",
       "      <td>0.662500</td>\n",
       "    </tr>\n",
       "    <tr>\n",
       "      <th>2</th>\n",
       "      <td>Recall</td>\n",
       "      <td>0.633333</td>\n",
       "      <td>0.650000</td>\n",
       "    </tr>\n",
       "    <tr>\n",
       "      <th>3</th>\n",
       "      <td>Precision</td>\n",
       "      <td>0.709524</td>\n",
       "      <td>0.707143</td>\n",
       "    </tr>\n",
       "  </tbody>\n",
       "</table>\n",
       "</div>"
      ],
      "text/plain": [
       "      Metric  Priority  Department\n",
       "0   Accuracy  0.709524    0.707143\n",
       "1   F1 Score  0.650000    0.662500\n",
       "2     Recall  0.633333    0.650000\n",
       "3  Precision  0.709524    0.707143"
      ]
     },
     "execution_count": 23,
     "metadata": {},
     "output_type": "execute_result"
    }
   ],
   "source": [
    "nb_clf = MultinomialNB(alpha=grid_search.best_params_[\"alpha\"])\n",
    "nb_clf.fit(X_train, y_train)\n",
    "\n",
    "# Prepare validation data\n",
    "df_val[\"combined_text\"] = df_val[\"subject\"] + \" \" + df_val[\"text\"]\n",
    "X_val = vectorizer.transform(df_val[\"combined_text\"])\n",
    "y_val = df_val[\"department\"]\n",
    "\n",
    "# Predict on validation data\n",
    "y_pred_nb = nb_clf.predict(X_val)\n",
    "\n",
    "# Evaluate the model\n",
    "# Generate classification report\n",
    "report = classification_report(y_val, y_pred_nb, output_dict=True)\n",
    "\n",
    "# Extract metrics for 'priority' and 'department'\n",
    "priority_metrics = report[\"macro avg\"]\n",
    "department_metrics = report[\"weighted avg\"]\n",
    "\n",
    "# Create a DataFrame to display the metrics\n",
    "metrics_df = pd.DataFrame(\n",
    "    {\n",
    "        \"Metric\": [\"Accuracy\", \"F1 Score\", \"Recall\", \"Precision\"],\n",
    "        \"Priority\": [\n",
    "            priority_metrics[\"precision\"],\n",
    "            priority_metrics[\"f1-score\"],\n",
    "            priority_metrics[\"recall\"],\n",
    "            priority_metrics[\"precision\"],\n",
    "        ],\n",
    "        \"Department\": [\n",
    "            department_metrics[\"precision\"],\n",
    "            department_metrics[\"f1-score\"],\n",
    "            department_metrics[\"recall\"],\n",
    "            department_metrics[\"precision\"],\n",
    "        ],\n",
    "    }\n",
    ")\n",
    "\n",
    "metrics_df"
   ]
  },
  {
   "cell_type": "markdown",
   "metadata": {},
   "source": [
    "## Initial Model Evaluation"
   ]
  },
  {
   "cell_type": "code",
   "execution_count": 24,
   "metadata": {},
   "outputs": [],
   "source": [
    "true_values = df.to_dict(\"records\")\n",
    "true_val_values = df_val.to_dict(\"records\")"
   ]
  },
  {
   "cell_type": "code",
   "execution_count": 25,
   "metadata": {},
   "outputs": [],
   "source": [
    "schema = {\n",
    "    \"type\": \"json_schema\",\n",
    "    \"json_schema\": {\n",
    "        \"name\": \"ticket_classification\",\n",
    "        \"schema\": {\n",
    "            \"type\": \"object\",\n",
    "            \"properties\": {\n",
    "                \"priority\": {\"type\": \"integer\", \"enum\": [1, 2, 3]},\n",
    "                \"department\": {\n",
    "                    \"type\": \"string\",\n",
    "                    \"enum\": [\"Hardware\", \"Accounting\", \"Software\"],\n",
    "                },\n",
    "            },\n",
    "            \"required\": [\"priority\", \"department\"],\n",
    "        },\n",
    "    },\n",
    "}"
   ]
  },
  {
   "cell_type": "code",
   "execution_count": null,
   "metadata": {},
   "outputs": [],
   "source": [
    "responses = []\n",
    "\n",
    "for index, row in tqdm(df.iterrows(), total=df.shape[0]):\n",
    "    messages = [\n",
    "        {\n",
    "            \"role\": \"user\",\n",
    "            \"content\": \"Please assign a priority and a department to the following ticket.\\n\\n\"\n",
    "            + row[\"subject\"]\n",
    "            + \"\\n\"\n",
    "            + row[\"text\"],\n",
    "        },\n",
    "    ]\n",
    "\n",
    "    response = client.chat.completions.create(\n",
    "        model=\"phi-4\",\n",
    "        messages=messages,\n",
    "        response_format=schema,\n",
    "        temperature=0.0,\n",
    "        max_tokens=100,\n",
    "        seed=42,\n",
    "    )\n",
    "\n",
    "    results = json.loads(response.choices[0].message.content)\n",
    "    responses.append(results)"
   ]
  },
  {
   "cell_type": "code",
   "execution_count": 27,
   "metadata": {},
   "outputs": [
    {
     "data": {
      "text/html": [
       "<div>\n",
       "<style scoped>\n",
       "    .dataframe tbody tr th:only-of-type {\n",
       "        vertical-align: middle;\n",
       "    }\n",
       "\n",
       "    .dataframe tbody tr th {\n",
       "        vertical-align: top;\n",
       "    }\n",
       "\n",
       "    .dataframe thead th {\n",
       "        text-align: right;\n",
       "    }\n",
       "</style>\n",
       "<table border=\"1\" class=\"dataframe\">\n",
       "  <thead>\n",
       "    <tr style=\"text-align: right;\">\n",
       "      <th></th>\n",
       "      <th>Metric</th>\n",
       "      <th>Priority</th>\n",
       "      <th>Department</th>\n",
       "    </tr>\n",
       "  </thead>\n",
       "  <tbody>\n",
       "    <tr>\n",
       "      <th>0</th>\n",
       "      <td>Accuracy</td>\n",
       "      <td>0.30000</td>\n",
       "      <td>0.910000</td>\n",
       "    </tr>\n",
       "    <tr>\n",
       "      <th>1</th>\n",
       "      <td>F1 Score</td>\n",
       "      <td>0.24878</td>\n",
       "      <td>0.906352</td>\n",
       "    </tr>\n",
       "    <tr>\n",
       "      <th>2</th>\n",
       "      <td>Recall</td>\n",
       "      <td>0.30000</td>\n",
       "      <td>0.910000</td>\n",
       "    </tr>\n",
       "    <tr>\n",
       "      <th>3</th>\n",
       "      <td>Precision</td>\n",
       "      <td>0.21250</td>\n",
       "      <td>0.913095</td>\n",
       "    </tr>\n",
       "  </tbody>\n",
       "</table>\n",
       "</div>"
      ],
      "text/plain": [
       "      Metric  Priority  Department\n",
       "0   Accuracy   0.30000    0.910000\n",
       "1   F1 Score   0.24878    0.906352\n",
       "2     Recall   0.30000    0.910000\n",
       "3  Precision   0.21250    0.913095"
      ]
     },
     "execution_count": 27,
     "metadata": {},
     "output_type": "execute_result"
    }
   ],
   "source": [
    "scores_df = calculate_scores(true_values, responses)\n",
    "scores_df.head()"
   ]
  },
  {
   "cell_type": "code",
   "execution_count": 28,
   "metadata": {},
   "outputs": [
    {
     "data": {
      "image/png": "[encoded data removed]",
      "text/plain": [
       "<Figure size 2000x800 with 4 Axes>"
      ]
     },
     "metadata": {},
     "output_type": "display_data"
    }
   ],
   "source": [
    "plot_confusion_matrix(true_values, responses)"
   ]
  },
  {
   "cell_type": "code",
   "execution_count": 29,
   "metadata": {},
   "outputs": [
    {
     "name": "stderr",
     "output_type": "stream",
     "text": [
      "  0%|          | 0/20 [00:00<?, ?it/s]2024-12-19 18:30:42,872 - INFO     - HTTP Request: POST http://localhost:1234/v1/chat/completions \"HTTP/1.1 200 OK\"\n",
      "  5%|▌         | 1/20 [00:01<00:19,  1.00s/it]2024-12-19 18:30:44,018 - INFO     - HTTP Request: POST http://localhost:1234/v1/chat/completions \"HTTP/1.1 200 OK\"\n",
      " 10%|█         | 2/20 [00:02<00:19,  1.09s/it]2024-12-19 18:30:45,170 - INFO     - HTTP Request: POST http://localhost:1234/v1/chat/completions \"HTTP/1.1 200 OK\"\n",
      " 15%|█▌        | 3/20 [00:03<00:18,  1.12s/it]2024-12-19 18:30:46,333 - INFO     - HTTP Request: POST http://localhost:1234/v1/chat/completions \"HTTP/1.1 200 OK\"\n",
      " 20%|██        | 4/20 [00:04<00:18,  1.13s/it]2024-12-19 18:30:47,508 - INFO     - HTTP Request: POST http://localhost:1234/v1/chat/completions \"HTTP/1.1 200 OK\"\n",
      " 25%|██▌       | 5/20 [00:05<00:17,  1.15s/it]2024-12-19 18:30:48,764 - INFO     - HTTP Request: POST http://localhost:1234/v1/chat/completions \"HTTP/1.1 200 OK\"\n",
      " 30%|███       | 6/20 [00:06<00:16,  1.19s/it]2024-12-19 18:30:49,955 - INFO     - HTTP Request: POST http://localhost:1234/v1/chat/completions \"HTTP/1.1 200 OK\"\n",
      " 35%|███▌      | 7/20 [00:08<00:15,  1.19s/it]2024-12-19 18:30:51,094 - INFO     - HTTP Request: POST http://localhost:1234/v1/chat/completions \"HTTP/1.1 200 OK\"\n",
      " 40%|████      | 8/20 [00:09<00:14,  1.17s/it]2024-12-19 18:30:52,098 - INFO     - HTTP Request: POST http://localhost:1234/v1/chat/completions \"HTTP/1.1 200 OK\"\n",
      " 45%|████▌     | 9/20 [00:10<00:12,  1.12s/it]2024-12-19 18:30:53,253 - INFO     - HTTP Request: POST http://localhost:1234/v1/chat/completions \"HTTP/1.1 200 OK\"\n",
      " 50%|█████     | 10/20 [00:11<00:11,  1.13s/it]2024-12-19 18:30:54,493 - INFO     - HTTP Request: POST http://localhost:1234/v1/chat/completions \"HTTP/1.1 200 OK\"\n",
      " 55%|█████▌    | 11/20 [00:12<00:10,  1.16s/it]2024-12-19 18:30:55,370 - INFO     - HTTP Request: POST http://localhost:1234/v1/chat/completions \"HTTP/1.1 200 OK\"\n",
      " 60%|██████    | 12/20 [00:13<00:08,  1.08s/it]2024-12-19 18:30:56,416 - INFO     - HTTP Request: POST http://localhost:1234/v1/chat/completions \"HTTP/1.1 200 OK\"\n",
      " 65%|██████▌   | 13/20 [00:14<00:07,  1.07s/it]2024-12-19 18:30:57,409 - INFO     - HTTP Request: POST http://localhost:1234/v1/chat/completions \"HTTP/1.1 200 OK\"\n",
      " 70%|███████   | 14/20 [00:15<00:06,  1.05s/it]2024-12-19 18:30:58,691 - INFO     - HTTP Request: POST http://localhost:1234/v1/chat/completions \"HTTP/1.1 200 OK\"\n",
      " 75%|███████▌  | 15/20 [00:16<00:05,  1.12s/it]2024-12-19 18:31:00,080 - INFO     - HTTP Request: POST http://localhost:1234/v1/chat/completions \"HTTP/1.1 200 OK\"\n",
      " 80%|████████  | 16/20 [00:18<00:04,  1.20s/it]2024-12-19 18:31:01,207 - INFO     - HTTP Request: POST http://localhost:1234/v1/chat/completions \"HTTP/1.1 200 OK\"\n",
      " 85%|████████▌ | 17/20 [00:19<00:03,  1.18s/it]2024-12-19 18:31:02,210 - INFO     - HTTP Request: POST http://localhost:1234/v1/chat/completions \"HTTP/1.1 200 OK\"\n",
      " 90%|█████████ | 18/20 [00:20<00:02,  1.12s/it]2024-12-19 18:31:03,360 - INFO     - HTTP Request: POST http://localhost:1234/v1/chat/completions \"HTTP/1.1 200 OK\"\n",
      " 95%|█████████▌| 19/20 [00:21<00:01,  1.13s/it]2024-12-19 18:31:04,495 - INFO     - HTTP Request: POST http://localhost:1234/v1/chat/completions \"HTTP/1.1 200 OK\"\n",
      "100%|██████████| 20/20 [00:22<00:00,  1.13s/it]\n"
     ]
    }
   ],
   "source": [
    "responses = []\n",
    "\n",
    "for index, row in tqdm(df_val.iterrows(), total=df_val.shape[0]):\n",
    "    messages = [\n",
    "        {\n",
    "            \"role\": \"user\",\n",
    "            \"content\": \"Please assign a priority and a department to the following ticket.\\n\\n\"\n",
    "            + row[\"subject\"]\n",
    "            + \"\\n\"\n",
    "            + row[\"text\"],\n",
    "        },\n",
    "    ]\n",
    "\n",
    "    response = client.chat.completions.create(\n",
    "        model=\"phi-4\",\n",
    "        messages=messages,\n",
    "        response_format=schema,\n",
    "        temperature=0.0,\n",
    "        max_tokens=100,\n",
    "        seed=42,\n",
    "    )\n",
    "\n",
    "    results = json.loads(response.choices[0].message.content)\n",
    "    responses.append(results)"
   ]
  },
  {
   "cell_type": "code",
   "execution_count": 30,
   "metadata": {},
   "outputs": [
    {
     "name": "stderr",
     "output_type": "stream",
     "text": [
      "/Users/saschametzger/.pyenv/versions/3.11.6/lib/python3.11/site-packages/sklearn/metrics/_classification.py:1509: UndefinedMetricWarning:\n",
      "\n",
      "Precision is ill-defined and being set to 0.0 in labels with no predicted samples. Use `zero_division` parameter to control this behavior.\n",
      "\n"
     ]
    },
    {
     "data": {
      "text/html": [
       "<div>\n",
       "<style scoped>\n",
       "    .dataframe tbody tr th:only-of-type {\n",
       "        vertical-align: middle;\n",
       "    }\n",
       "\n",
       "    .dataframe tbody tr th {\n",
       "        vertical-align: top;\n",
       "    }\n",
       "\n",
       "    .dataframe thead th {\n",
       "        text-align: right;\n",
       "    }\n",
       "</style>\n",
       "<table border=\"1\" class=\"dataframe\">\n",
       "  <thead>\n",
       "    <tr style=\"text-align: right;\">\n",
       "      <th></th>\n",
       "      <th>Metric</th>\n",
       "      <th>Priority</th>\n",
       "      <th>Department</th>\n",
       "    </tr>\n",
       "  </thead>\n",
       "  <tbody>\n",
       "    <tr>\n",
       "      <th>0</th>\n",
       "      <td>Accuracy</td>\n",
       "      <td>0.350000</td>\n",
       "      <td>0.850000</td>\n",
       "    </tr>\n",
       "    <tr>\n",
       "      <th>1</th>\n",
       "      <td>F1 Score</td>\n",
       "      <td>0.254545</td>\n",
       "      <td>0.827381</td>\n",
       "    </tr>\n",
       "    <tr>\n",
       "      <th>2</th>\n",
       "      <td>Recall</td>\n",
       "      <td>0.350000</td>\n",
       "      <td>0.850000</td>\n",
       "    </tr>\n",
       "    <tr>\n",
       "      <th>3</th>\n",
       "      <td>Precision</td>\n",
       "      <td>0.200000</td>\n",
       "      <td>0.883117</td>\n",
       "    </tr>\n",
       "  </tbody>\n",
       "</table>\n",
       "</div>"
      ],
      "text/plain": [
       "      Metric  Priority  Department\n",
       "0   Accuracy  0.350000    0.850000\n",
       "1   F1 Score  0.254545    0.827381\n",
       "2     Recall  0.350000    0.850000\n",
       "3  Precision  0.200000    0.883117"
      ]
     },
     "execution_count": 30,
     "metadata": {},
     "output_type": "execute_result"
    }
   ],
   "source": [
    "calculate_scores(true_val_values, responses).head()"
   ]
  },
  {
   "cell_type": "code",
   "execution_count": 31,
   "metadata": {},
   "outputs": [
    {
     "data": {
      "image/png": "[encoded data removed]",
      "text/plain": [
       "<Figure size 2000x800 with 4 Axes>"
      ]
     },
     "metadata": {},
     "output_type": "display_data"
    }
   ],
   "source": [
    "plot_confusion_matrix(true_val_values, responses)"
   ]
  },
  {
   "cell_type": "markdown",
   "metadata": {},
   "source": [
    "## Improvements"
   ]
  },
  {
   "cell_type": "markdown",
   "metadata": {},
   "source": [
    "### 1. Add System Prompt"
   ]
  },
  {
   "cell_type": "code",
   "execution_count": 32,
   "metadata": {},
   "outputs": [],
   "source": [
    "system_prompt = \"\"\"You are an AI service agent. Your job is to take an incoming customer support ticket, prioritize it and select a department for it.\n",
    "\n",
    "Priorities can be:\n",
    "- 3: High (High urgency, needs immediate attention)\n",
    "- 2: Medium (Medium urgency, can wait a bit)\n",
    "- 1: Low (Low urgency, can wait)\n",
    "\n",
    "Departments can be one of the following:\n",
    "- Hardware\n",
    "- Accounting\n",
    "- Software\n",
    "\n",
    "Please analyze the ticket description and subject to determine the appropriate priority and department.\n",
    "\n",
    "Answer in the following json format:\n",
    "{\n",
    "  \"priority\": [1, 2, 3],\n",
    "  \"department\": [\"Hardware\", \"Accounting\", \"Software\"]\n",
    "}\n",
    "\"\"\".strip()"
   ]
  },
  {
   "cell_type": "code",
   "execution_count": 33,
   "metadata": {},
   "outputs": [],
   "source": [
    "examples = []\n",
    "for index, row in df_few_shot.iterrows():\n",
    "    example = {\n",
    "        \"priority\": row[\"priority\"],\n",
    "        \"department\": row[\"department\"],\n",
    "        \"language\": row[\"language\"],\n",
    "        \"subject\": row[\"subject\"],\n",
    "        \"text\": row[\"text\"]\n",
    "    }\n",
    "    examples.append(example)"
   ]
  },
  {
   "cell_type": "code",
   "execution_count": 34,
   "metadata": {},
   "outputs": [],
   "source": [
    "system_prompt = (\n",
    "    system_prompt.strip()\n",
    "    + \"\\n\\n\"\n",
    "    + \"Here are some examples of tickets and their corresponding priorities and departments:\\n\\n\"\n",
    ")\n",
    "\n",
    "for i, example in enumerate(examples):\n",
    "    system_prompt += f\"\\nExample {i+1}:\\n\"\n",
    "    system_prompt += f\"{example['subject'].strip()}\\n\\n\"\n",
    "    system_prompt += f\"{example['text'].strip()}\\n\\n\"\n",
    "    system_prompt += \"Response:\\n\"\n",
    "    system_prompt += f\"\"\"{{\n",
    "    \"priority\": {example['priority']},\n",
    "    \"department\": \"{example['department']}\"\n",
    "}}\\n\\n\\n\"\"\""
   ]
  },
  {
   "cell_type": "code",
   "execution_count": 35,
   "metadata": {},
   "outputs": [
    {
     "name": "stdout",
     "output_type": "stream",
     "text": [
      "You are an AI service agent. Your job is to take an incoming customer support ticket, prioritize it and select a department for it.\n",
      "\n",
      "Priorities can be:\n",
      "- 3: High (High urgency, needs immediate attention)\n",
      "- 2: Medium (Medium urgency, can wait a bit)\n",
      "- 1: Low (Low urgency, can wait)\n",
      "\n",
      "Departments can be one of the following:\n",
      "- Hardware\n",
      "- Accounting\n",
      "- Software\n",
      "\n",
      "Please analyze the ticket description and subject to determine the appropriate priority and department.\n",
      "\n",
      "Answer in the following json format:\n",
      "{\n",
      "  \"priority\": [1, 2, 3],\n",
      "  \"department\": [\"Hardware\", \"Accounting\", \"Software\"]\n",
      "}\n",
      "\n",
      "Here are some examples of tickets and their corresponding priorities and departments:\n",
      "\n",
      "\n",
      "Example 1:\n",
      "Inquiry regarding billing security protocols\n",
      "\n",
      "Hello Support Team,\n",
      "I would like to inquire about the security protocols you have in place regarding our billing and account information security. Can you provide details on how my financial data is protected? Ensuring safety and compliance is crucial for us.\n",
      "Thank you,\n",
      "Alex Brunner\n",
      "\n",
      "Response:\n",
      "{\n",
      "    \"priority\": 1,\n",
      "    \"department\": \"Accounting\"\n",
      "}\n",
      "\n",
      "\n",
      "\n",
      "Example 2:\n",
      "External Hard Drive not recognized\n",
      "\n",
      "Hi team, I recently purchased an external hard drive (Order #46392) from your store, but it seems my computer is not recognizing the drive. I've tried different USB ports and another computer to no avail. The drive's light is on, indicating power, but it's not showing up in My Computer. I need the data ASAP. Could you please guide me? Thanks, Michael. (Customer #70612)\n",
      "\n",
      "Response:\n",
      "{\n",
      "    \"priority\": 2,\n",
      "    \"department\": \"Hardware\"\n",
      "}\n",
      "\n",
      "\n",
      "\n",
      "Example 3:\n",
      "Grafikkarten-Problem bei Gaming PC\n",
      "\n",
      "Hallo Support, meine Grafikkarte läuft seit dem letzten Update überhitzt. Was kann ich tun? Grüße, Lena Schmidt\n",
      "\n",
      "Response:\n",
      "{\n",
      "    \"priority\": 2,\n",
      "    \"department\": \"Hardware\"\n",
      "}\n",
      "\n",
      "\n",
      "\n",
      "Example 4:\n",
      "Health Check Inquiry - Upcoming Schedule\n",
      "\n",
      "Hello HR Team,\n",
      "Could you please provide the schedule for upcoming health checks for this quarter? Also, how can employees book their slots? Any updates or changes in policy we need to be aware of? Thanks!\n",
      "\n",
      "Response:\n",
      "{\n",
      "    \"priority\": 2,\n",
      "    \"department\": \"Accounting\"\n",
      "}\n",
      "\n",
      "\n",
      "\n",
      "Example 5:\n",
      "Duda zeigt Fehler 404 nach dem Login\n",
      "\n",
      "Hallo Support-Team,\n",
      "\n",
      "ich habe ein ernsthaftes Problem mit der Duda Software. Direkt nach dem Login erhalte ich ständig einen Fehler 404, der Zugriff ist damit komplett blockiert. Ich bin dringend auf diesen Zugang angewiesen, vor allem um Kunden-Websites zu aktualisieren. Bitte um schnellstmögliche Hilfe! \n",
      "\n",
      "Vielen Dank,\n",
      "Peter Müller\n",
      "\n",
      "Response:\n",
      "{\n",
      "    \"priority\": 3,\n",
      "    \"department\": \"Software\"\n",
      "}\n",
      "\n",
      "\n",
      "\n"
     ]
    }
   ],
   "source": [
    "print(system_prompt)"
   ]
  },
  {
   "cell_type": "code",
   "execution_count": null,
   "metadata": {},
   "outputs": [],
   "source": [
    "responses = []\n",
    "\n",
    "for index, row in tqdm(df.iterrows(), total=df.shape[0]):\n",
    "    messages = [\n",
    "        {\"role\": \"system\", \"content\": system_prompt},\n",
    "        {\n",
    "            \"role\": \"user\",\n",
    "            \"content\": \"Please assign a priority and a department to the following ticket.\\n\\n\"\n",
    "            + row[\"subject\"]\n",
    "            + \"\\n\"\n",
    "            + row[\"text\"],\n",
    "        },\n",
    "    ]\n",
    "\n",
    "    response=client.chat.completions.create(\n",
    "        model=\"phi-4\",\n",
    "        messages=messages,\n",
    "        response_format=schema,\n",
    "        temperature=0.0,\n",
    "        max_tokens=100,\n",
    "        seed=42,\n",
    "    )\n",
    "\n",
    "    results = json.loads(response.choices[0].message.content)\n",
    "    responses.append(results)"
   ]
  },
  {
   "cell_type": "code",
   "execution_count": 37,
   "metadata": {},
   "outputs": [
    {
     "data": {
      "text/html": [
       "<div>\n",
       "<style scoped>\n",
       "    .dataframe tbody tr th:only-of-type {\n",
       "        vertical-align: middle;\n",
       "    }\n",
       "\n",
       "    .dataframe tbody tr th {\n",
       "        vertical-align: top;\n",
       "    }\n",
       "\n",
       "    .dataframe thead th {\n",
       "        text-align: right;\n",
       "    }\n",
       "</style>\n",
       "<table border=\"1\" class=\"dataframe\">\n",
       "  <thead>\n",
       "    <tr style=\"text-align: right;\">\n",
       "      <th></th>\n",
       "      <th>Metric</th>\n",
       "      <th>Priority</th>\n",
       "      <th>Department</th>\n",
       "    </tr>\n",
       "  </thead>\n",
       "  <tbody>\n",
       "    <tr>\n",
       "      <th>0</th>\n",
       "      <td>Accuracy</td>\n",
       "      <td>0.790000</td>\n",
       "      <td>0.970000</td>\n",
       "    </tr>\n",
       "    <tr>\n",
       "      <th>1</th>\n",
       "      <td>F1 Score</td>\n",
       "      <td>0.796217</td>\n",
       "      <td>0.970150</td>\n",
       "    </tr>\n",
       "    <tr>\n",
       "      <th>2</th>\n",
       "      <td>Recall</td>\n",
       "      <td>0.790000</td>\n",
       "      <td>0.970000</td>\n",
       "    </tr>\n",
       "    <tr>\n",
       "      <th>3</th>\n",
       "      <td>Precision</td>\n",
       "      <td>0.816925</td>\n",
       "      <td>0.972093</td>\n",
       "    </tr>\n",
       "  </tbody>\n",
       "</table>\n",
       "</div>"
      ],
      "text/plain": [
       "      Metric  Priority  Department\n",
       "0   Accuracy  0.790000    0.970000\n",
       "1   F1 Score  0.796217    0.970150\n",
       "2     Recall  0.790000    0.970000\n",
       "3  Precision  0.816925    0.972093"
      ]
     },
     "execution_count": 37,
     "metadata": {},
     "output_type": "execute_result"
    }
   ],
   "source": [
    "scores_df = calculate_scores(true_values, responses)\n",
    "scores_df.head()"
   ]
  },
  {
   "cell_type": "code",
   "execution_count": 38,
   "metadata": {},
   "outputs": [
    {
     "data": {
      "image/png": "[encoded data removed]",
      "text/plain": [
       "<Figure size 2000x800 with 4 Axes>"
      ]
     },
     "metadata": {},
     "output_type": "display_data"
    }
   ],
   "source": [
    "plot_confusion_matrix(true_values, responses)"
   ]
  },
  {
   "cell_type": "markdown",
   "metadata": {},
   "source": [
    "### 2. Add an explanation for the prediction"
   ]
  },
  {
   "cell_type": "code",
   "execution_count": 39,
   "metadata": {},
   "outputs": [
    {
     "data": {
      "text/html": [
       "<div>\n",
       "<style scoped>\n",
       "    .dataframe tbody tr th:only-of-type {\n",
       "        vertical-align: middle;\n",
       "    }\n",
       "\n",
       "    .dataframe tbody tr th {\n",
       "        vertical-align: top;\n",
       "    }\n",
       "\n",
       "    .dataframe thead th {\n",
       "        text-align: right;\n",
       "    }\n",
       "</style>\n",
       "<table border=\"1\" class=\"dataframe\">\n",
       "  <thead>\n",
       "    <tr style=\"text-align: right;\">\n",
       "      <th></th>\n",
       "      <th>department</th>\n",
       "      <th>priority</th>\n",
       "      <th>language</th>\n",
       "      <th>subject</th>\n",
       "      <th>text</th>\n",
       "      <th>explanation</th>\n",
       "    </tr>\n",
       "  </thead>\n",
       "  <tbody>\n",
       "    <tr>\n",
       "      <th>30</th>\n",
       "      <td>Accounting</td>\n",
       "      <td>1</td>\n",
       "      <td>en</td>\n",
       "      <td>Inquiry regarding billing security protocols</td>\n",
       "      <td>Hello Support Team,\\nI would like to inquire a...</td>\n",
       "      <td></td>\n",
       "    </tr>\n",
       "    <tr>\n",
       "      <th>67</th>\n",
       "      <td>Hardware</td>\n",
       "      <td>2</td>\n",
       "      <td>en</td>\n",
       "      <td>External Hard Drive not recognized</td>\n",
       "      <td>Hi team, I recently purchased an external hard...</td>\n",
       "      <td></td>\n",
       "    </tr>\n",
       "    <tr>\n",
       "      <th>56</th>\n",
       "      <td>Hardware</td>\n",
       "      <td>2</td>\n",
       "      <td>de</td>\n",
       "      <td>Grafikkarten-Problem bei Gaming PC</td>\n",
       "      <td>Hallo Support, meine Grafikkarte läuft seit de...</td>\n",
       "      <td></td>\n",
       "    </tr>\n",
       "    <tr>\n",
       "      <th>119</th>\n",
       "      <td>Accounting</td>\n",
       "      <td>2</td>\n",
       "      <td>en</td>\n",
       "      <td>Health Check Inquiry - Upcoming Schedule</td>\n",
       "      <td>Hello HR Team,\\nCould you please provide the s...</td>\n",
       "      <td></td>\n",
       "    </tr>\n",
       "    <tr>\n",
       "      <th>85</th>\n",
       "      <td>Software</td>\n",
       "      <td>3</td>\n",
       "      <td>de</td>\n",
       "      <td>Duda zeigt Fehler 404 nach dem Login</td>\n",
       "      <td>Hallo Support-Team,\\n\\nich habe ein ernsthafte...</td>\n",
       "      <td></td>\n",
       "    </tr>\n",
       "  </tbody>\n",
       "</table>\n",
       "</div>"
      ],
      "text/plain": [
       "     department  priority language  \\\n",
       "30   Accounting         1       en   \n",
       "67     Hardware         2       en   \n",
       "56     Hardware         2       de   \n",
       "119  Accounting         2       en   \n",
       "85     Software         3       de   \n",
       "\n",
       "                                          subject  \\\n",
       "30   Inquiry regarding billing security protocols   \n",
       "67             External Hard Drive not recognized   \n",
       "56             Grafikkarten-Problem bei Gaming PC   \n",
       "119      Health Check Inquiry - Upcoming Schedule   \n",
       "85           Duda zeigt Fehler 404 nach dem Login   \n",
       "\n",
       "                                                  text explanation  \n",
       "30   Hello Support Team,\\nI would like to inquire a...              \n",
       "67   Hi team, I recently purchased an external hard...              \n",
       "56   Hallo Support, meine Grafikkarte läuft seit de...              \n",
       "119  Hello HR Team,\\nCould you please provide the s...              \n",
       "85   Hallo Support-Team,\\n\\nich habe ein ernsthafte...              "
      ]
     },
     "execution_count": 39,
     "metadata": {},
     "output_type": "execute_result"
    }
   ],
   "source": [
    "## add an exmpty explanation column to the df_few_shot dataframe\n",
    "df_few_shot['explanation'] = \"\"\n",
    "df_few_shot"
   ]
  },
  {
   "cell_type": "code",
   "execution_count": 40,
   "metadata": {},
   "outputs": [],
   "source": [
    "explanation_schema = {\n",
    "    \"type\": \"json_schema\",\n",
    "    \"json_schema\": {\n",
    "        \"name\": \"ticket_classification\",\n",
    "        \"schema\": {\n",
    "            \"type\": \"object\",\n",
    "            \"properties\": {\n",
    "                \"priority_decision\": {\"type\": \"string\"},\n",
    "                \"department_assignment\": {\"type\": \"string\"},\n",
    "            },\n",
    "            \"required\": [\"priority\", \"department\"],\n",
    "        },\n",
    "    },\n",
    "}"
   ]
  },
  {
   "cell_type": "code",
   "execution_count": 41,
   "metadata": {},
   "outputs": [
    {
     "name": "stderr",
     "output_type": "stream",
     "text": [
      "  0%|          | 0/5 [00:00<?, ?it/s]2024-12-19 18:33:03,639 - INFO     - HTTP Request: POST http://localhost:1234/v1/chat/completions \"HTTP/1.1 200 OK\"\n",
      " 20%|██        | 1/5 [00:04<00:17,  4.48s/it]2024-12-19 18:33:08,424 - INFO     - HTTP Request: POST http://localhost:1234/v1/chat/completions \"HTTP/1.1 200 OK\"\n",
      " 40%|████      | 2/5 [00:09<00:13,  4.66s/it]2024-12-19 18:33:11,818 - INFO     - HTTP Request: POST http://localhost:1234/v1/chat/completions \"HTTP/1.1 200 OK\"\n",
      " 60%|██████    | 3/5 [00:12<00:08,  4.08s/it]2024-12-19 18:33:16,477 - INFO     - HTTP Request: POST http://localhost:1234/v1/chat/completions \"HTTP/1.1 200 OK\"\n",
      " 80%|████████  | 4/5 [00:17<00:04,  4.31s/it]2024-12-19 18:33:20,504 - INFO     - HTTP Request: POST http://localhost:1234/v1/chat/completions \"HTTP/1.1 200 OK\"\n",
      "100%|██████████| 5/5 [00:21<00:00,  4.27s/it]\n"
     ]
    }
   ],
   "source": [
    "# iterate over the df and let the AI write an explanation for each row explaining why it chose the priority and department\n",
    "responses = []\n",
    "\n",
    "for index, row in tqdm(df_few_shot.iterrows(), total=df_few_shot.shape[0]):\n",
    "    messages = [\n",
    "        {\n",
    "            \"role\": \"system\",\n",
    "            \"content\": \"You are a senior customer support agent. Please provide a short and concise explanation on why you chose the priority (1 for low, 2 for medium and 3 for high) and department (Software, Hardware or Accounting) for the following ticket.\",\n",
    "        },\n",
    "        {\n",
    "            \"role\": \"user\",\n",
    "            \"content\": \"Here is the ticket:\\n\"\n",
    "            + \"Subject: \"\n",
    "            + row[\"subject\"]\n",
    "            + \"\\n\"\n",
    "            + \"Message: \"\n",
    "            + row[\"text\"]\n",
    "            + \"\\nDepartment: \"\n",
    "            + row[\"department\"]\n",
    "            + \"\\nPriority: \"\n",
    "            + str(row[\"priority\"]),\n",
    "        },\n",
    "    ]\n",
    "\n",
    "    response = client.chat.completions.create(\n",
    "        model=\"phi-4\",\n",
    "        messages=messages,\n",
    "        response_format=explanation_schema,\n",
    "        temperature=0.3,\n",
    "        max_tokens=512,\n",
    "        seed=42,\n",
    "    )\n",
    "\n",
    "    results = json.loads(response.choices[0].message.content)\n",
    "    responses.append(results)"
   ]
  },
  {
   "cell_type": "code",
   "execution_count": 42,
   "metadata": {},
   "outputs": [],
   "source": [
    "## add each explanation to the df_few_shot dataframe\n",
    "df_few_shot['explanation'] = responses"
   ]
  },
  {
   "cell_type": "code",
   "execution_count": 43,
   "metadata": {},
   "outputs": [],
   "source": [
    "system_prompt = \"\"\"You are an AI service agent. Your job is to take an incoming customer support ticket, prioritize it and select a department for it.\n",
    "\n",
    "Priorities can be:\n",
    "- 3: High (High urgency, needs immediate attention)\n",
    "- 2: Medium (Medium urgency, can wait a bit)\n",
    "- 1: Low (Low urgency, can wait)\n",
    "\n",
    "Departments can be one of the following:\n",
    "- Hardware\n",
    "- Accounting\n",
    "- Software\n",
    "\n",
    "Please analyze the ticket description and subject to determine the appropriate priority and department.\n",
    "\n",
    "Answer in the following json format:\n",
    "{\n",
    "  \"priority\": [1, 2, 3],\n",
    "  \"department\": [\"Hardware\", \"Accounting\", \"Software\"]\n",
    "}\n",
    "\"\"\".strip()"
   ]
  },
  {
   "cell_type": "code",
   "execution_count": 44,
   "metadata": {},
   "outputs": [],
   "source": [
    "system_prompt = (\n",
    "    system_prompt.strip()\n",
    "    + \"\\n\\n\"\n",
    "    + \"Here are some examples of tickets and their corresponding priorities and departments as well as explanations for the choices:\\n\"\n",
    ")\n",
    "\n",
    "i = 0\n",
    "for _, example in df_few_shot.iterrows():\n",
    "    system_prompt += f\"\\nExample {i+1}:\\n\"\n",
    "    system_prompt += f\"{example['subject'].strip()}\\n\"\n",
    "    system_prompt += f\"{example['text'].strip()}\\n\\n\"\n",
    "\n",
    "    system_prompt += \"Response:\\n\"\n",
    "    system_prompt += f\"\"\"{{\n",
    "    \"priority\": {example['priority']},\n",
    "    \"department\": \"{example['department']}\"\n",
    "}}\\n\\n\\n\"\"\"\n",
    "\n",
    "    system_prompt += \"Explanation:\\n\"\n",
    "    system_prompt += (\n",
    "        f\"Priority Decision: {example['explanation']['priority_decision']}\\n\"\n",
    "    )\n",
    "    system_prompt += f\"Department Assignment: {example['explanation']['department_assignment']}\\n\\n\\n\"\n",
    "\n",
    "    i += 1"
   ]
  },
  {
   "cell_type": "code",
   "execution_count": 45,
   "metadata": {},
   "outputs": [
    {
     "name": "stdout",
     "output_type": "stream",
     "text": [
      "You are an AI service agent. Your job is to take an incoming customer support ticket, prioritize it and select a department for it.\n",
      "\n",
      "Priorities can be:\n",
      "- 3: High (High urgency, needs immediate attention)\n",
      "- 2: Medium (Medium urgency, can wait a bit)\n",
      "- 1: Low (Low urgency, can wait)\n",
      "\n",
      "Departments can be one of the following:\n",
      "- Hardware\n",
      "- Accounting\n",
      "- Software\n",
      "\n",
      "Please analyze the ticket description and subject to determine the appropriate priority and department.\n",
      "\n",
      "Answer in the following json format:\n",
      "{\n",
      "  \"priority\": [1, 2, 3],\n",
      "  \"department\": [\"Hardware\", \"Accounting\", \"Software\"]\n",
      "}\n",
      "\n",
      "Here are some examples of tickets and their corresponding priorities and departments as well as explanations for the choices:\n",
      "\n",
      "Example 1:\n",
      "Inquiry regarding billing security protocols\n",
      "Hello Support Team,\n",
      "I would like to inquire about the security protocols you have in place regarding our billing and account information security. Can you provide details on how my financial data is protected? Ensuring safety and compliance is crucial for us.\n",
      "Thank you,\n",
      "Alex Brunner\n",
      "\n",
      "Response:\n",
      "{\n",
      "    \"priority\": 1,\n",
      "    \"department\": \"Accounting\"\n",
      "}\n",
      "\n",
      "\n",
      "Explanation:\n",
      "Priority Decision: The priority was set to low (1) because the inquiry pertains to general information about security protocols, which does not indicate an immediate issue or disruption in service. It is a request for details rather than a report of a problem needing urgent resolution.\n",
      "Department Assignment: The ticket was assigned to the Accounting department as it directly relates to billing and account information security, areas typically managed by accounting teams who handle financial data protection and compliance.\n",
      "\n",
      "\n",
      "\n",
      "Example 2:\n",
      "External Hard Drive not recognized\n",
      "Hi team, I recently purchased an external hard drive (Order #46392) from your store, but it seems my computer is not recognizing the drive. I've tried different USB ports and another computer to no avail. The drive's light is on, indicating power, but it's not showing up in My Computer. I need the data ASAP. Could you please guide me? Thanks, Michael. (Customer #70612)\n",
      "\n",
      "Response:\n",
      "{\n",
      "    \"priority\": 2,\n",
      "    \"department\": \"Hardware\"\n",
      "}\n",
      "\n",
      "\n",
      "Explanation:\n",
      "Priority Decision: The priority was set to medium because while the issue is urgent for the customer needing access to their data, it does not indicate a critical system failure or widespread problem affecting multiple customers. The situation requires timely assistance but can be managed within standard support response times.\n",
      "Department Assignment: This ticket was assigned to the Hardware department as it involves troubleshooting an external hard drive, which is a hardware device. The issue pertains to connectivity and recognition by the computer, typical concerns handled by hardware specialists.\n",
      "\n",
      "\n",
      "\n",
      "Example 3:\n",
      "Grafikkarten-Problem bei Gaming PC\n",
      "Hallo Support, meine Grafikkarte läuft seit dem letzten Update überhitzt. Was kann ich tun? Grüße, Lena Schmidt\n",
      "\n",
      "Response:\n",
      "{\n",
      "    \"priority\": 2,\n",
      "    \"department\": \"Hardware\"\n",
      "}\n",
      "\n",
      "\n",
      "Explanation:\n",
      "Priority Decision: The priority is set to medium (2) because the issue involves a hardware component that affects performance but does not completely prevent usage of the PC. It requires attention and troubleshooting but isn't an immediate system failure.\n",
      "Department Assignment: The department is assigned as Hardware since the problem pertains specifically to the graphics card, which is a hardware component.\n",
      "\n",
      "\n",
      "\n",
      "Example 4:\n",
      "Health Check Inquiry - Upcoming Schedule\n",
      "Hello HR Team,\n",
      "Could you please provide the schedule for upcoming health checks for this quarter? Also, how can employees book their slots? Any updates or changes in policy we need to be aware of? Thanks!\n",
      "\n",
      "Response:\n",
      "{\n",
      "    \"priority\": 2,\n",
      "    \"department\": \"Accounting\"\n",
      "}\n",
      "\n",
      "\n",
      "Explanation:\n",
      "Priority Decision: The priority is set to medium (2) because while the inquiry pertains to scheduling and booking health checks—a non-urgent matter—it does require timely attention to ensure employees have access to this important service. Prompt responses help maintain employee satisfaction and compliance with company policies.\n",
      "Department Assignment: The department assigned is Accounting rather than HR, as typically in many organizations, accounting or a similar administrative department handles logistics related to employee benefits and services like health checks. This includes scheduling, booking, and policy updates.\n",
      "\n",
      "\n",
      "\n",
      "Example 5:\n",
      "Duda zeigt Fehler 404 nach dem Login\n",
      "Hallo Support-Team,\n",
      "\n",
      "ich habe ein ernsthaftes Problem mit der Duda Software. Direkt nach dem Login erhalte ich ständig einen Fehler 404, der Zugriff ist damit komplett blockiert. Ich bin dringend auf diesen Zugang angewiesen, vor allem um Kunden-Websites zu aktualisieren. Bitte um schnellstmögliche Hilfe! \n",
      "\n",
      "Vielen Dank,\n",
      "Peter Müller\n",
      "\n",
      "Response:\n",
      "{\n",
      "    \"priority\": 3,\n",
      "    \"department\": \"Software\"\n",
      "}\n",
      "\n",
      "\n",
      "Explanation:\n",
      "Priority Decision: The priority is set to high (3) because the issue prevents access to essential software functions needed for updating customer websites, which likely impacts business operations significantly. Quick resolution is crucial.\n",
      "Department Assignment: The department is assigned as Software because the problem involves a 404 error within the Duda software application after login, indicating it's related to software functionality rather than hardware or accounting.\n",
      "\n",
      "\n",
      "\n"
     ]
    }
   ],
   "source": [
    "print(system_prompt)"
   ]
  },
  {
   "cell_type": "code",
   "execution_count": null,
   "metadata": {},
   "outputs": [],
   "source": [
    "responses = []\n",
    "\n",
    "for index, row in tqdm(df.iterrows(), total=df.shape[0]):\n",
    "    messages = [\n",
    "        {\"role\": \"system\", \"content\": system_prompt},\n",
    "        {\n",
    "            \"role\": \"user\",\n",
    "            \"content\": \"Please assign a priority and a department to the following ticket.\\n\\n\"\n",
    "            + row[\"subject\"]\n",
    "            + \"\\n\"\n",
    "            + row[\"text\"],\n",
    "        },\n",
    "    ]\n",
    "\n",
    "    response=client.chat.completions.create(\n",
    "        model=\"phi-4\",\n",
    "        messages=messages,\n",
    "        response_format=schema,\n",
    "        temperature=0.0,\n",
    "        max_tokens=100,\n",
    "        seed=42,\n",
    "    )\n",
    "\n",
    "    results = json.loads(response.choices[0].message.content)\n",
    "    responses.append(results)"
   ]
  },
  {
   "cell_type": "code",
   "execution_count": 47,
   "metadata": {},
   "outputs": [
    {
     "data": {
      "text/html": [
       "<div>\n",
       "<style scoped>\n",
       "    .dataframe tbody tr th:only-of-type {\n",
       "        vertical-align: middle;\n",
       "    }\n",
       "\n",
       "    .dataframe tbody tr th {\n",
       "        vertical-align: top;\n",
       "    }\n",
       "\n",
       "    .dataframe thead th {\n",
       "        text-align: right;\n",
       "    }\n",
       "</style>\n",
       "<table border=\"1\" class=\"dataframe\">\n",
       "  <thead>\n",
       "    <tr style=\"text-align: right;\">\n",
       "      <th></th>\n",
       "      <th>Metric</th>\n",
       "      <th>Priority</th>\n",
       "      <th>Department</th>\n",
       "    </tr>\n",
       "  </thead>\n",
       "  <tbody>\n",
       "    <tr>\n",
       "      <th>0</th>\n",
       "      <td>Accuracy</td>\n",
       "      <td>0.790000</td>\n",
       "      <td>0.990000</td>\n",
       "    </tr>\n",
       "    <tr>\n",
       "      <th>1</th>\n",
       "      <td>F1 Score</td>\n",
       "      <td>0.794031</td>\n",
       "      <td>0.989955</td>\n",
       "    </tr>\n",
       "    <tr>\n",
       "      <th>2</th>\n",
       "      <td>Recall</td>\n",
       "      <td>0.790000</td>\n",
       "      <td>0.990000</td>\n",
       "    </tr>\n",
       "    <tr>\n",
       "      <th>3</th>\n",
       "      <td>Precision</td>\n",
       "      <td>0.803008</td>\n",
       "      <td>0.990244</td>\n",
       "    </tr>\n",
       "  </tbody>\n",
       "</table>\n",
       "</div>"
      ],
      "text/plain": [
       "      Metric  Priority  Department\n",
       "0   Accuracy  0.790000    0.990000\n",
       "1   F1 Score  0.794031    0.989955\n",
       "2     Recall  0.790000    0.990000\n",
       "3  Precision  0.803008    0.990244"
      ]
     },
     "execution_count": 47,
     "metadata": {},
     "output_type": "execute_result"
    }
   ],
   "source": [
    "calculate_scores(true_values, responses).head()"
   ]
  },
  {
   "cell_type": "code",
   "execution_count": 48,
   "metadata": {},
   "outputs": [
    {
     "data": {
      "image/png": "[encoded data removed]",
      "text/plain": [
       "<Figure size 2000x800 with 4 Axes>"
      ]
     },
     "metadata": {},
     "output_type": "display_data"
    }
   ],
   "source": [
    "plot_confusion_matrix(true_values, responses)"
   ]
  },
  {
   "cell_type": "markdown",
   "metadata": {},
   "source": [
    "### HPO"
   ]
  },
  {
   "cell_type": "code",
   "execution_count": 49,
   "metadata": {},
   "outputs": [
    {
     "data": {
      "text/plain": [
       "30"
      ]
     },
     "execution_count": 49,
     "metadata": {},
     "output_type": "execute_result"
    }
   ],
   "source": [
    "# There are many hyperparameters that can be tuned to improve the model's performance (e.g. temperature, max_tokens, etc.). We will only focus on the temperature and seed parameter in this example.\n",
    "temp_range = [0.0, 0.2, 0.4, 0.6, 0.8, 1.0]\n",
    "seed_range = [42, 1331, 2024, 307, 12740]\n",
    "\n",
    "possible_combinations = [(temp, seed) for temp in temp_range for seed in seed_range]\n",
    "len(possible_combinations)"
   ]
  },
  {
   "cell_type": "code",
   "execution_count": 50,
   "metadata": {},
   "outputs": [],
   "source": [
    "def hpo_temperature(temp, seed):\n",
    "    responses = []\n",
    "\n",
    "    for _, row in tqdm(df.iterrows(), total=df.shape[0]):\n",
    "        messages = [\n",
    "            {\"role\": \"system\", \"content\": system_prompt},\n",
    "            {\n",
    "                \"role\": \"user\",\n",
    "                \"content\": \"Please assign a priority and a department to the following ticket.\\n\\n\"\n",
    "                + row[\"subject\"]\n",
    "                + \"\\n\"\n",
    "                + row[\"text\"],\n",
    "            },\n",
    "        ]\n",
    "\n",
    "        response = client.chat.completions.create(\n",
    "            model=\"phi-4\",\n",
    "            messages=messages,\n",
    "            response_format=schema,\n",
    "            temperature=temp,\n",
    "            max_tokens=100,\n",
    "            seed=seed,\n",
    "        )\n",
    "\n",
    "        results = json.loads(response.choices[0].message.content)\n",
    "        responses.append(results)\n",
    "\n",
    "    return calculate_scores(true_values, responses)"
   ]
  },
  {
   "cell_type": "code",
   "execution_count": null,
   "metadata": {},
   "outputs": [],
   "source": [
    "scores = []\n",
    "\n",
    "# for each possible combination of temperature and seed, calculate the scores and save them\n",
    "for temp, seed in tqdm(possible_combinations):\n",
    "    scores_df = hpo_temperature(temp, seed)\n",
    "    scores_df[\"temperature\"] = temp\n",
    "    scores_df[\"seed\"] = seed\n",
    "    scores.append(scores_df)"
   ]
  },
  {
   "cell_type": "code",
   "execution_count": 52,
   "metadata": {},
   "outputs": [
    {
     "data": {
      "text/html": [
       "<div>\n",
       "<style scoped>\n",
       "    .dataframe tbody tr th:only-of-type {\n",
       "        vertical-align: middle;\n",
       "    }\n",
       "\n",
       "    .dataframe tbody tr th {\n",
       "        vertical-align: top;\n",
       "    }\n",
       "\n",
       "    .dataframe thead th {\n",
       "        text-align: right;\n",
       "    }\n",
       "</style>\n",
       "<table border=\"1\" class=\"dataframe\">\n",
       "  <thead>\n",
       "    <tr style=\"text-align: right;\">\n",
       "      <th></th>\n",
       "      <th>Metric</th>\n",
       "      <th>Priority</th>\n",
       "      <th>Department</th>\n",
       "      <th>temperature</th>\n",
       "      <th>seed</th>\n",
       "    </tr>\n",
       "  </thead>\n",
       "  <tbody>\n",
       "    <tr>\n",
       "      <th>0</th>\n",
       "      <td>Accuracy</td>\n",
       "      <td>0.790000</td>\n",
       "      <td>0.990000</td>\n",
       "      <td>0.0</td>\n",
       "      <td>42</td>\n",
       "    </tr>\n",
       "    <tr>\n",
       "      <th>1</th>\n",
       "      <td>F1 Score</td>\n",
       "      <td>0.794031</td>\n",
       "      <td>0.989955</td>\n",
       "      <td>0.0</td>\n",
       "      <td>42</td>\n",
       "    </tr>\n",
       "    <tr>\n",
       "      <th>2</th>\n",
       "      <td>Recall</td>\n",
       "      <td>0.790000</td>\n",
       "      <td>0.990000</td>\n",
       "      <td>0.0</td>\n",
       "      <td>42</td>\n",
       "    </tr>\n",
       "    <tr>\n",
       "      <th>3</th>\n",
       "      <td>Precision</td>\n",
       "      <td>0.803008</td>\n",
       "      <td>0.990244</td>\n",
       "      <td>0.0</td>\n",
       "      <td>42</td>\n",
       "    </tr>\n",
       "  </tbody>\n",
       "</table>\n",
       "</div>"
      ],
      "text/plain": [
       "      Metric  Priority  Department  temperature  seed\n",
       "0   Accuracy  0.790000    0.990000          0.0    42\n",
       "1   F1 Score  0.794031    0.989955          0.0    42\n",
       "2     Recall  0.790000    0.990000          0.0    42\n",
       "3  Precision  0.803008    0.990244          0.0    42"
      ]
     },
     "execution_count": 52,
     "metadata": {},
     "output_type": "execute_result"
    }
   ],
   "source": [
    "scores[0]"
   ]
  },
  {
   "cell_type": "code",
   "execution_count": 53,
   "metadata": {},
   "outputs": [
    {
     "data": {
      "text/html": [
       "<div>\n",
       "<style scoped>\n",
       "    .dataframe tbody tr th:only-of-type {\n",
       "        vertical-align: middle;\n",
       "    }\n",
       "\n",
       "    .dataframe tbody tr th {\n",
       "        vertical-align: top;\n",
       "    }\n",
       "\n",
       "    .dataframe thead th {\n",
       "        text-align: right;\n",
       "    }\n",
       "</style>\n",
       "<table border=\"1\" class=\"dataframe\">\n",
       "  <thead>\n",
       "    <tr style=\"text-align: right;\">\n",
       "      <th></th>\n",
       "      <th>Metric</th>\n",
       "      <th>Priority</th>\n",
       "      <th>Department</th>\n",
       "      <th>temperature</th>\n",
       "      <th>seed</th>\n",
       "    </tr>\n",
       "  </thead>\n",
       "  <tbody>\n",
       "    <tr>\n",
       "      <th>0</th>\n",
       "      <td>Accuracy</td>\n",
       "      <td>0.810000</td>\n",
       "      <td>0.990000</td>\n",
       "      <td>0.8</td>\n",
       "      <td>42</td>\n",
       "    </tr>\n",
       "    <tr>\n",
       "      <th>1</th>\n",
       "      <td>F1 Score</td>\n",
       "      <td>0.813174</td>\n",
       "      <td>0.989955</td>\n",
       "      <td>0.8</td>\n",
       "      <td>42</td>\n",
       "    </tr>\n",
       "    <tr>\n",
       "      <th>2</th>\n",
       "      <td>Recall</td>\n",
       "      <td>0.810000</td>\n",
       "      <td>0.990000</td>\n",
       "      <td>0.8</td>\n",
       "      <td>42</td>\n",
       "    </tr>\n",
       "    <tr>\n",
       "      <th>3</th>\n",
       "      <td>Precision</td>\n",
       "      <td>0.822789</td>\n",
       "      <td>0.990244</td>\n",
       "      <td>0.8</td>\n",
       "      <td>42</td>\n",
       "    </tr>\n",
       "  </tbody>\n",
       "</table>\n",
       "</div>"
      ],
      "text/plain": [
       "      Metric  Priority  Department  temperature  seed\n",
       "0   Accuracy  0.810000    0.990000          0.8    42\n",
       "1   F1 Score  0.813174    0.989955          0.8    42\n",
       "2     Recall  0.810000    0.990000          0.8    42\n",
       "3  Precision  0.822789    0.990244          0.8    42"
      ]
     },
     "execution_count": 53,
     "metadata": {},
     "output_type": "execute_result"
    }
   ],
   "source": [
    "best_f1_score = scores[0].values[1][1:3].mean()\n",
    "best_score = scores[0]\n",
    "\n",
    "# iterate over all scores and find the best f1 score\n",
    "for score in scores:\n",
    "    f1_score = score.values[1][1:3].mean()\n",
    "    if f1_score > best_f1_score:\n",
    "        best_f1_score = f1_score\n",
    "        best_score = score\n",
    "\n",
    "best_score"
   ]
  },
  {
   "cell_type": "markdown",
   "metadata": {},
   "source": [
    "## Evaluate against Validation Set"
   ]
  },
  {
   "cell_type": "code",
   "execution_count": 54,
   "metadata": {},
   "outputs": [
    {
     "name": "stderr",
     "output_type": "stream",
     "text": [
      "  0%|          | 0/20 [00:00<?, ?it/s]2024-12-19 19:34:06,917 - INFO     - HTTP Request: POST http://localhost:1234/v1/chat/completions \"HTTP/1.1 200 OK\"\n",
      "  5%|▌         | 1/20 [00:01<00:20,  1.07s/it]2024-12-19 19:34:08,113 - INFO     - HTTP Request: POST http://localhost:1234/v1/chat/completions \"HTTP/1.1 200 OK\"\n",
      " 10%|█         | 2/20 [00:02<00:20,  1.14s/it]2024-12-19 19:34:09,320 - INFO     - HTTP Request: POST http://localhost:1234/v1/chat/completions \"HTTP/1.1 200 OK\"\n",
      " 15%|█▌        | 3/20 [00:03<00:19,  1.17s/it]2024-12-19 19:34:10,560 - INFO     - HTTP Request: POST http://localhost:1234/v1/chat/completions \"HTTP/1.1 200 OK\"\n",
      " 20%|██        | 4/20 [00:04<00:19,  1.20s/it]2024-12-19 19:34:11,805 - INFO     - HTTP Request: POST http://localhost:1234/v1/chat/completions \"HTTP/1.1 200 OK\"\n",
      " 25%|██▌       | 5/20 [00:05<00:18,  1.22s/it]2024-12-19 19:34:13,154 - INFO     - HTTP Request: POST http://localhost:1234/v1/chat/completions \"HTTP/1.1 200 OK\"\n",
      " 30%|███       | 6/20 [00:07<00:17,  1.26s/it]2024-12-19 19:34:14,370 - INFO     - HTTP Request: POST http://localhost:1234/v1/chat/completions \"HTTP/1.1 200 OK\"\n",
      " 35%|███▌      | 7/20 [00:08<00:16,  1.25s/it]2024-12-19 19:34:15,599 - INFO     - HTTP Request: POST http://localhost:1234/v1/chat/completions \"HTTP/1.1 200 OK\"\n",
      " 40%|████      | 8/20 [00:09<00:14,  1.24s/it]2024-12-19 19:34:16,674 - INFO     - HTTP Request: POST http://localhost:1234/v1/chat/completions \"HTTP/1.1 200 OK\"\n",
      " 45%|████▌     | 9/20 [00:10<00:13,  1.19s/it]2024-12-19 19:34:17,922 - INFO     - HTTP Request: POST http://localhost:1234/v1/chat/completions \"HTTP/1.1 200 OK\"\n",
      " 50%|█████     | 10/20 [00:12<00:12,  1.21s/it]2024-12-19 19:34:19,270 - INFO     - HTTP Request: POST http://localhost:1234/v1/chat/completions \"HTTP/1.1 200 OK\"\n",
      " 55%|█████▌    | 11/20 [00:13<00:11,  1.25s/it]2024-12-19 19:34:20,213 - INFO     - HTTP Request: POST http://localhost:1234/v1/chat/completions \"HTTP/1.1 200 OK\"\n",
      " 60%|██████    | 12/20 [00:14<00:09,  1.16s/it]2024-12-19 19:34:21,269 - INFO     - HTTP Request: POST http://localhost:1234/v1/chat/completions \"HTTP/1.1 200 OK\"\n",
      " 65%|██████▌   | 13/20 [00:15<00:07,  1.13s/it]2024-12-19 19:34:22,329 - INFO     - HTTP Request: POST http://localhost:1234/v1/chat/completions \"HTTP/1.1 200 OK\"\n",
      " 70%|███████   | 14/20 [00:16<00:06,  1.11s/it]2024-12-19 19:34:23,586 - INFO     - HTTP Request: POST http://localhost:1234/v1/chat/completions \"HTTP/1.1 200 OK\"\n",
      " 75%|███████▌  | 15/20 [00:17<00:05,  1.15s/it]2024-12-19 19:34:24,975 - INFO     - HTTP Request: POST http://localhost:1234/v1/chat/completions \"HTTP/1.1 200 OK\"\n",
      " 80%|████████  | 16/20 [00:19<00:04,  1.22s/it]2024-12-19 19:34:26,189 - INFO     - HTTP Request: POST http://localhost:1234/v1/chat/completions \"HTTP/1.1 200 OK\"\n",
      " 85%|████████▌ | 17/20 [00:20<00:03,  1.22s/it]2024-12-19 19:34:27,250 - INFO     - HTTP Request: POST http://localhost:1234/v1/chat/completions \"HTTP/1.1 200 OK\"\n",
      " 90%|█████████ | 18/20 [00:21<00:02,  1.17s/it]2024-12-19 19:34:28,477 - INFO     - HTTP Request: POST http://localhost:1234/v1/chat/completions \"HTTP/1.1 200 OK\"\n",
      " 95%|█████████▌| 19/20 [00:22<00:01,  1.19s/it]2024-12-19 19:34:29,699 - INFO     - HTTP Request: POST http://localhost:1234/v1/chat/completions \"HTTP/1.1 200 OK\"\n",
      "100%|██████████| 20/20 [00:23<00:00,  1.19s/it]\n"
     ]
    }
   ],
   "source": [
    "responses = []\n",
    "\n",
    "for index, row in tqdm(df_val.iterrows(), total=df_val.shape[0]):\n",
    "    messages = [\n",
    "        {\"role\": \"system\", \"content\": system_prompt},\n",
    "        {\n",
    "            \"role\": \"user\",\n",
    "            \"content\": \"Please assign a priority and a department to the following ticket.\\n\\n\"\n",
    "            + row[\"subject\"]\n",
    "            + \"\\n\"\n",
    "            + row[\"text\"],\n",
    "        },\n",
    "    ]\n",
    "\n",
    "    response = client.chat.completions.create(\n",
    "        model=\"phi-4\",\n",
    "        messages=messages,\n",
    "        response_format=schema,\n",
    "        temperature=float(best_score[\"temperature\"].values[0]),\n",
    "        seed=float(best_score[\"seed\"].values[0]),\n",
    "        max_tokens=100,\n",
    "    )\n",
    "\n",
    "    results = json.loads(response.choices[0].message.content)\n",
    "    responses.append(results)"
   ]
  },
  {
   "cell_type": "code",
   "execution_count": 55,
   "metadata": {},
   "outputs": [
    {
     "data": {
      "text/html": [
       "<div>\n",
       "<style scoped>\n",
       "    .dataframe tbody tr th:only-of-type {\n",
       "        vertical-align: middle;\n",
       "    }\n",
       "\n",
       "    .dataframe tbody tr th {\n",
       "        vertical-align: top;\n",
       "    }\n",
       "\n",
       "    .dataframe thead th {\n",
       "        text-align: right;\n",
       "    }\n",
       "</style>\n",
       "<table border=\"1\" class=\"dataframe\">\n",
       "  <thead>\n",
       "    <tr style=\"text-align: right;\">\n",
       "      <th></th>\n",
       "      <th>Metric</th>\n",
       "      <th>Priority</th>\n",
       "      <th>Department</th>\n",
       "    </tr>\n",
       "  </thead>\n",
       "  <tbody>\n",
       "    <tr>\n",
       "      <th>0</th>\n",
       "      <td>Accuracy</td>\n",
       "      <td>0.700000</td>\n",
       "      <td>0.950000</td>\n",
       "    </tr>\n",
       "    <tr>\n",
       "      <th>1</th>\n",
       "      <td>F1 Score</td>\n",
       "      <td>0.692657</td>\n",
       "      <td>0.949495</td>\n",
       "    </tr>\n",
       "    <tr>\n",
       "      <th>2</th>\n",
       "      <td>Recall</td>\n",
       "      <td>0.700000</td>\n",
       "      <td>0.950000</td>\n",
       "    </tr>\n",
       "    <tr>\n",
       "      <th>3</th>\n",
       "      <td>Precision</td>\n",
       "      <td>0.691667</td>\n",
       "      <td>0.958333</td>\n",
       "    </tr>\n",
       "  </tbody>\n",
       "</table>\n",
       "</div>"
      ],
      "text/plain": [
       "      Metric  Priority  Department\n",
       "0   Accuracy  0.700000    0.950000\n",
       "1   F1 Score  0.692657    0.949495\n",
       "2     Recall  0.700000    0.950000\n",
       "3  Precision  0.691667    0.958333"
      ]
     },
     "execution_count": 55,
     "metadata": {},
     "output_type": "execute_result"
    }
   ],
   "source": [
    "calculate_scores(true_val_values, responses).head()"
   ]
  },
  {
   "cell_type": "code",
   "execution_count": 56,
   "metadata": {},
   "outputs": [
    {
     "data": {
      "image/png": "[encoded data removed]",
      "text/plain": [
       "<Figure size 2000x800 with 4 Axes>"
      ]
     },
     "metadata": {},
     "output_type": "display_data"
    }
   ],
   "source": [
    "plot_confusion_matrix(true_val_values, responses)"
   ]
  },
  {
   "cell_type": "markdown",
   "metadata": {},
   "source": [
    "## Conclusion"
   ]
  },
  {
   "cell_type": "code",
   "execution_count": 57,
   "metadata": {},
   "outputs": [
    {
     "name": "stdout",
     "output_type": "stream",
     "text": [
      "The best temperature and seed combination is:\n",
      "Temperature: 0.8\n",
      "Seed: 42\n"
     ]
    }
   ],
   "source": [
    "print(\"The best temperature and seed combination is:\")\n",
    "print(\"Temperature:\", best_score[\"temperature\"].values[0])\n",
    "print(\"Seed:\", best_score[\"seed\"].values[0])"
   ]
  },
  {
   "cell_type": "code",
   "execution_count": 58,
   "metadata": {},
   "outputs": [
    {
     "name": "stdout",
     "output_type": "stream",
     "text": [
      "You are an AI service agent. Your job is to take an incoming customer support ticket, prioritize it and select a department for it.\n",
      "\n",
      "Priorities can be:\n",
      "- 3: High (High urgency, needs immediate attention)\n",
      "- 2: Medium (Medium urgency, can wait a bit)\n",
      "- 1: Low (Low urgency, can wait)\n",
      "\n",
      "Departments can be one of the following:\n",
      "- Hardware\n",
      "- Accounting\n",
      "- Software\n",
      "\n",
      "Please analyze the ticket description and subject to determine the appropriate priority and department.\n",
      "\n",
      "Answer in the following json format:\n",
      "{\n",
      "  \"priority\": [1, 2, 3],\n",
      "  \"department\": [\"Hardware\", \"Accounting\", \"Software\"]\n",
      "}\n",
      "\n",
      "Here are some examples of tickets and their corresponding priorities and departments as well as explanations for the choices:\n",
      "\n",
      "Example 1:\n",
      "Inquiry regarding billing security protocols\n",
      "Hello Support Team,\n",
      "I would like to inquire about the security protocols you have in place regarding our billing and account information security. Can you provide details on how my financial data is protected? Ensuring safety and compliance is crucial for us.\n",
      "Thank you,\n",
      "Alex Brunner\n",
      "\n",
      "Response:\n",
      "{\n",
      "    \"priority\": 1,\n",
      "    \"department\": \"Accounting\"\n",
      "}\n",
      "\n",
      "\n",
      "Explanation:\n",
      "Priority Decision: The priority was set to low (1) because the inquiry pertains to general information about security protocols, which does not indicate an immediate issue or disruption in service. It is a request for details rather than a report of a problem needing urgent resolution.\n",
      "Department Assignment: The ticket was assigned to the Accounting department as it directly relates to billing and account information security, areas typically managed by accounting teams who handle financial data protection and compliance.\n",
      "\n",
      "\n",
      "\n",
      "Example 2:\n",
      "External Hard Drive not recognized\n",
      "Hi team, I recently purchased an external hard drive (Order #46392) from your store, but it seems my computer is not recognizing the drive. I've tried different USB ports and another computer to no avail. The drive's light is on, indicating power, but it's not showing up in My Computer. I need the data ASAP. Could you please guide me? Thanks, Michael. (Customer #70612)\n",
      "\n",
      "Response:\n",
      "{\n",
      "    \"priority\": 2,\n",
      "    \"department\": \"Hardware\"\n",
      "}\n",
      "\n",
      "\n",
      "Explanation:\n",
      "Priority Decision: The priority was set to medium because while the issue is urgent for the customer needing access to their data, it does not indicate a critical system failure or widespread problem affecting multiple customers. The situation requires timely assistance but can be managed within standard support response times.\n",
      "Department Assignment: This ticket was assigned to the Hardware department as it involves troubleshooting an external hard drive, which is a hardware device. The issue pertains to connectivity and recognition by the computer, typical concerns handled by hardware specialists.\n",
      "\n",
      "\n",
      "\n",
      "Example 3:\n",
      "Grafikkarten-Problem bei Gaming PC\n",
      "Hallo Support, meine Grafikkarte läuft seit dem letzten Update überhitzt. Was kann ich tun? Grüße, Lena Schmidt\n",
      "\n",
      "Response:\n",
      "{\n",
      "    \"priority\": 2,\n",
      "    \"department\": \"Hardware\"\n",
      "}\n",
      "\n",
      "\n",
      "Explanation:\n",
      "Priority Decision: The priority is set to medium (2) because the issue involves a hardware component that affects performance but does not completely prevent usage of the PC. It requires attention and troubleshooting but isn't an immediate system failure.\n",
      "Department Assignment: The department is assigned as Hardware since the problem pertains specifically to the graphics card, which is a hardware component.\n",
      "\n",
      "\n",
      "\n",
      "Example 4:\n",
      "Health Check Inquiry - Upcoming Schedule\n",
      "Hello HR Team,\n",
      "Could you please provide the schedule for upcoming health checks for this quarter? Also, how can employees book their slots? Any updates or changes in policy we need to be aware of? Thanks!\n",
      "\n",
      "Response:\n",
      "{\n",
      "    \"priority\": 2,\n",
      "    \"department\": \"Accounting\"\n",
      "}\n",
      "\n",
      "\n",
      "Explanation:\n",
      "Priority Decision: The priority is set to medium (2) because while the inquiry pertains to scheduling and booking health checks—a non-urgent matter—it does require timely attention to ensure employees have access to this important service. Prompt responses help maintain employee satisfaction and compliance with company policies.\n",
      "Department Assignment: The department assigned is Accounting rather than HR, as typically in many organizations, accounting or a similar administrative department handles logistics related to employee benefits and services like health checks. This includes scheduling, booking, and policy updates.\n",
      "\n",
      "\n",
      "\n",
      "Example 5:\n",
      "Duda zeigt Fehler 404 nach dem Login\n",
      "Hallo Support-Team,\n",
      "\n",
      "ich habe ein ernsthaftes Problem mit der Duda Software. Direkt nach dem Login erhalte ich ständig einen Fehler 404, der Zugriff ist damit komplett blockiert. Ich bin dringend auf diesen Zugang angewiesen, vor allem um Kunden-Websites zu aktualisieren. Bitte um schnellstmögliche Hilfe! \n",
      "\n",
      "Vielen Dank,\n",
      "Peter Müller\n",
      "\n",
      "Response:\n",
      "{\n",
      "    \"priority\": 3,\n",
      "    \"department\": \"Software\"\n",
      "}\n",
      "\n",
      "\n",
      "Explanation:\n",
      "Priority Decision: The priority is set to high (3) because the issue prevents access to essential software functions needed for updating customer websites, which likely impacts business operations significantly. Quick resolution is crucial.\n",
      "Department Assignment: The department is assigned as Software because the problem involves a 404 error within the Duda software application after login, indicating it's related to software functionality rather than hardware or accounting.\n",
      "\n",
      "\n",
      "\n"
     ]
    }
   ],
   "source": [
    "print(system_prompt)"
   ]
  },
  {
   "cell_type": "code",
   "execution_count": null,
   "metadata": {},
   "outputs": [],
   "source": []
  }
 ],
 "metadata": {
  "kernelspec": {
   "display_name": "Python 3",
   "language": "python",
   "name": "python3"
  },
  "language_info": {
   "codemirror_mode": {
    "name": "ipython",
    "version": 3
   },
   "file_extension": ".py",
   "mimetype": "text/x-python",
   "name": "python",
   "nbconvert_exporter": "python",
   "pygments_lexer": "ipython3",
   "version": "3.11.6"
  }
 },
 "nbformat": 4,
 "nbformat_minor": 2
}
